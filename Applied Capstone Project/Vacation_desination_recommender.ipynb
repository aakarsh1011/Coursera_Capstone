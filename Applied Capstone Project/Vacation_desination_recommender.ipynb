{
 "cells": [
  {
   "cell_type": "markdown",
   "metadata": {},
   "source": [
    "# Capstone Project - The Battle of Neighbourhoods\n",
    "\n",
    "## Import Libraries\n",
    "\n",
    "We will import all the necessary libraries that will require to read and process the data."
   ]
  },
  {
   "cell_type": "code",
   "execution_count": 1,
   "metadata": {},
   "outputs": [
    {
     "name": "stdout",
     "output_type": "stream",
     "text": [
      "Librairies Imported !!\n"
     ]
    }
   ],
   "source": [
    "import pandas as pd                   #to read the data and perform basic dataframe operation\n",
    "from geopy import geocoders           #installing geopy for geolocating\n",
    "import folium                         #for plotting on map\n",
    "from sklearn.cluster import KMeans    #importing KMeans algorithm\n",
    "import requests                       #for requesting to url\n",
    "import numpy as np                    #for mathematical operations\n",
    "\n",
    "#importing modules relating to matplotlib\n",
    "import matplotlib.cm as cm\n",
    "import matplotlib.colors as colors\n",
    "import matplotlib.pyplot as plt\n",
    "\n",
    "print('Librairies Imported !!')"
   ]
  },
  {
   "cell_type": "markdown",
   "metadata": {},
   "source": [
    "# Exploring Dataset\n",
    "\n",
    "For this project, we don't need any other dataset for this project, to get location we just need to provide the name of the location and the coordinates of the location will be extracted with the help of geopy library."
   ]
  },
  {
   "cell_type": "code",
   "execution_count": 2,
   "metadata": {},
   "outputs": [],
   "source": [
    "#assigning number of days to tour also the number of clusters\n",
    "k = 5\n",
    "address = 'New Delhi'    #location we want to visit\n",
    "\n",
    "#extracting location and storing it for further use\n",
    "geolocator = geocoders.Nominatim(user_agent='Delhi_explorer')\n",
    "location = geolocator.geocode(address)\n",
    "latitude = location.latitude\n",
    "longitude = location.longitude"
   ]
  },
  {
   "cell_type": "markdown",
   "metadata": {},
   "source": [
    "# Visualizing on map\n",
    "\n",
    "With the help of Folium library we can visualize the location we are travelling to"
   ]
  },
  {
   "cell_type": "code",
   "execution_count": 3,
   "metadata": {},
   "outputs": [
    {
     "data": {
      "text/html": [
       "<div style=\"width:100%;\"><div style=\"position:relative;width:100%;height:0;padding-bottom:60%;\"><iframe src=\"about:blank\" style=\"position:absolute;width:100%;height:100%;left:0;top:0;border:none !important;\" data-html=PCFET0NUWVBFIGh0bWw+CjxoZWFkPiAgICAKICAgIDxtZXRhIGh0dHAtZXF1aXY9ImNvbnRlbnQtdHlwZSIgY29udGVudD0idGV4dC9odG1sOyBjaGFyc2V0PVVURi04IiAvPgogICAgCiAgICAgICAgPHNjcmlwdD4KICAgICAgICAgICAgTF9OT19UT1VDSCA9IGZhbHNlOwogICAgICAgICAgICBMX0RJU0FCTEVfM0QgPSBmYWxzZTsKICAgICAgICA8L3NjcmlwdD4KICAgIAogICAgPHNjcmlwdCBzcmM9Imh0dHBzOi8vY2RuLmpzZGVsaXZyLm5ldC9ucG0vbGVhZmxldEAxLjUuMS9kaXN0L2xlYWZsZXQuanMiPjwvc2NyaXB0PgogICAgPHNjcmlwdCBzcmM9Imh0dHBzOi8vY29kZS5qcXVlcnkuY29tL2pxdWVyeS0xLjEyLjQubWluLmpzIj48L3NjcmlwdD4KICAgIDxzY3JpcHQgc3JjPSJodHRwczovL21heGNkbi5ib290c3RyYXBjZG4uY29tL2Jvb3RzdHJhcC8zLjIuMC9qcy9ib290c3RyYXAubWluLmpzIj48L3NjcmlwdD4KICAgIDxzY3JpcHQgc3JjPSJodHRwczovL2NkbmpzLmNsb3VkZmxhcmUuY29tL2FqYXgvbGlicy9MZWFmbGV0LmF3ZXNvbWUtbWFya2Vycy8yLjAuMi9sZWFmbGV0LmF3ZXNvbWUtbWFya2Vycy5qcyI+PC9zY3JpcHQ+CiAgICA8bGluayByZWw9InN0eWxlc2hlZXQiIGhyZWY9Imh0dHBzOi8vY2RuLmpzZGVsaXZyLm5ldC9ucG0vbGVhZmxldEAxLjUuMS9kaXN0L2xlYWZsZXQuY3NzIi8+CiAgICA8bGluayByZWw9InN0eWxlc2hlZXQiIGhyZWY9Imh0dHBzOi8vbWF4Y2RuLmJvb3RzdHJhcGNkbi5jb20vYm9vdHN0cmFwLzMuMi4wL2Nzcy9ib290c3RyYXAubWluLmNzcyIvPgogICAgPGxpbmsgcmVsPSJzdHlsZXNoZWV0IiBocmVmPSJodHRwczovL21heGNkbi5ib290c3RyYXBjZG4uY29tL2Jvb3RzdHJhcC8zLjIuMC9jc3MvYm9vdHN0cmFwLXRoZW1lLm1pbi5jc3MiLz4KICAgIDxsaW5rIHJlbD0ic3R5bGVzaGVldCIgaHJlZj0iaHR0cHM6Ly9tYXhjZG4uYm9vdHN0cmFwY2RuLmNvbS9mb250LWF3ZXNvbWUvNC42LjMvY3NzL2ZvbnQtYXdlc29tZS5taW4uY3NzIi8+CiAgICA8bGluayByZWw9InN0eWxlc2hlZXQiIGhyZWY9Imh0dHBzOi8vY2RuanMuY2xvdWRmbGFyZS5jb20vYWpheC9saWJzL0xlYWZsZXQuYXdlc29tZS1tYXJrZXJzLzIuMC4yL2xlYWZsZXQuYXdlc29tZS1tYXJrZXJzLmNzcyIvPgogICAgPGxpbmsgcmVsPSJzdHlsZXNoZWV0IiBocmVmPSJodHRwczovL3Jhd2Nkbi5naXRoYWNrLmNvbS9weXRob24tdmlzdWFsaXphdGlvbi9mb2xpdW0vbWFzdGVyL2ZvbGl1bS90ZW1wbGF0ZXMvbGVhZmxldC5hd2Vzb21lLnJvdGF0ZS5jc3MiLz4KICAgIDxzdHlsZT5odG1sLCBib2R5IHt3aWR0aDogMTAwJTtoZWlnaHQ6IDEwMCU7bWFyZ2luOiAwO3BhZGRpbmc6IDA7fTwvc3R5bGU+CiAgICA8c3R5bGU+I21hcCB7cG9zaXRpb246YWJzb2x1dGU7dG9wOjA7Ym90dG9tOjA7cmlnaHQ6MDtsZWZ0OjA7fTwvc3R5bGU+CiAgICAKICAgICAgICAgICAgPG1ldGEgbmFtZT0idmlld3BvcnQiIGNvbnRlbnQ9IndpZHRoPWRldmljZS13aWR0aCwKICAgICAgICAgICAgICAgIGluaXRpYWwtc2NhbGU9MS4wLCBtYXhpbXVtLXNjYWxlPTEuMCwgdXNlci1zY2FsYWJsZT1ubyIgLz4KICAgICAgICAgICAgPHN0eWxlPgogICAgICAgICAgICAgICAgI21hcF8xZmUwOWYwNjVjYzA0NDlkOTg1YTcyYTE0YjQyYjk5YiB7CiAgICAgICAgICAgICAgICAgICAgcG9zaXRpb246IHJlbGF0aXZlOwogICAgICAgICAgICAgICAgICAgIHdpZHRoOiAxMDAuMCU7CiAgICAgICAgICAgICAgICAgICAgaGVpZ2h0OiAxMDAuMCU7CiAgICAgICAgICAgICAgICAgICAgbGVmdDogMC4wJTsKICAgICAgICAgICAgICAgICAgICB0b3A6IDAuMCU7CiAgICAgICAgICAgICAgICB9CiAgICAgICAgICAgIDwvc3R5bGU+CiAgICAgICAgCjwvaGVhZD4KPGJvZHk+ICAgIAogICAgCiAgICAgICAgICAgIDxkaXYgY2xhc3M9ImZvbGl1bS1tYXAiIGlkPSJtYXBfMWZlMDlmMDY1Y2MwNDQ5ZDk4NWE3MmExNGI0MmI5OWIiID48L2Rpdj4KICAgICAgICAKPC9ib2R5Pgo8c2NyaXB0PiAgICAKICAgIAogICAgICAgICAgICB2YXIgbWFwXzFmZTA5ZjA2NWNjMDQ0OWQ5ODVhNzJhMTRiNDJiOTliID0gTC5tYXAoCiAgICAgICAgICAgICAgICAibWFwXzFmZTA5ZjA2NWNjMDQ0OWQ5ODVhNzJhMTRiNDJiOTliIiwKICAgICAgICAgICAgICAgIHsKICAgICAgICAgICAgICAgICAgICBjZW50ZXI6IFsyOC42MTQxNzkzLCA3Ny4yMDIyNjYyXSwKICAgICAgICAgICAgICAgICAgICBjcnM6IEwuQ1JTLkVQU0czODU3LAogICAgICAgICAgICAgICAgICAgIHpvb206IDExLAogICAgICAgICAgICAgICAgICAgIHpvb21Db250cm9sOiB0cnVlLAogICAgICAgICAgICAgICAgICAgIHByZWZlckNhbnZhczogZmFsc2UsCiAgICAgICAgICAgICAgICB9CiAgICAgICAgICAgICk7CgogICAgICAgICAgICAKCiAgICAgICAgCiAgICAKICAgICAgICAgICAgdmFyIHRpbGVfbGF5ZXJfMzkyZDIzY2NhODg2NGI1MTljMzJiM2Q1MzdjMGNjYmQgPSBMLnRpbGVMYXllcigKICAgICAgICAgICAgICAgICJodHRwczovL3tzfS50aWxlLm9wZW5zdHJlZXRtYXAub3JnL3t6fS97eH0ve3l9LnBuZyIsCiAgICAgICAgICAgICAgICB7ImF0dHJpYnV0aW9uIjogIkRhdGEgYnkgXHUwMDI2Y29weTsgXHUwMDNjYSBocmVmPVwiaHR0cDovL29wZW5zdHJlZXRtYXAub3JnXCJcdTAwM2VPcGVuU3RyZWV0TWFwXHUwMDNjL2FcdTAwM2UsIHVuZGVyIFx1MDAzY2EgaHJlZj1cImh0dHA6Ly93d3cub3BlbnN0cmVldG1hcC5vcmcvY29weXJpZ2h0XCJcdTAwM2VPRGJMXHUwMDNjL2FcdTAwM2UuIiwgImRldGVjdFJldGluYSI6IGZhbHNlLCAibWF4TmF0aXZlWm9vbSI6IDE4LCAibWF4Wm9vbSI6IDE4LCAibWluWm9vbSI6IDAsICJub1dyYXAiOiBmYWxzZSwgIm9wYWNpdHkiOiAxLCAic3ViZG9tYWlucyI6ICJhYmMiLCAidG1zIjogZmFsc2V9CiAgICAgICAgICAgICkuYWRkVG8obWFwXzFmZTA5ZjA2NWNjMDQ0OWQ5ODVhNzJhMTRiNDJiOTliKTsKICAgICAgICAKPC9zY3JpcHQ+ onload=\"this.contentDocument.open();this.contentDocument.write(atob(this.getAttribute('data-html')));this.contentDocument.close();\" allowfullscreen webkitallowfullscreen mozallowfullscreen></iframe></div></div>"
      ],
      "text/plain": [
       "<folium.folium.Map at 0x2e8d5ef9708>"
      ]
     },
     "execution_count": 3,
     "metadata": {},
     "output_type": "execute_result"
    }
   ],
   "source": [
    "address_map = folium.Map(location = [latitude,longitude],zoom_start =11)\n",
    "address_map"
   ]
  },
  {
   "cell_type": "markdown",
   "metadata": {},
   "source": [
    "# Extracting nearby values\n",
    "\n",
    "With the help of Foursquare API we can extract any kind of venues nearby to the location of our interest."
   ]
  },
  {
   "cell_type": "code",
   "execution_count": 4,
   "metadata": {},
   "outputs": [],
   "source": [
    "# The following function retrieves the venues given the names and coordinates and stores it into dataframe.\n",
    "def getNearbyVenues(names, latitudes, longitudes, radius=500,categoryIds = ''):\n",
    "    try: \n",
    "        venues_list=[]\n",
    "        #for name, lat, long in zip(names, latitudes, longitudes):\n",
    "            #print(name)\n",
    "            # create the API request URL\n",
    "        url = 'https://api.foursquare.com/v2/venues/search?&client_id={}&client_secret={}&v={}&ll={},{}&radius={}&limit={}'.format(CLIENT_ID, CLIENT_SECRET, VERSION, latitude, longitude, radius, LIMIT)\n",
    "        if (categoryIds != ''):\n",
    "                url = url + '&categoryId={}'\n",
    "                url = url.format(categoryIds)\n",
    "\n",
    "        # make the GET request\n",
    "        response = requests.get(url).json()\n",
    "        results = response[\"response\"]['venues']\n",
    "\n",
    "          # return only relevant information for each nearby venue\n",
    "        for v in results:\n",
    "            success = False\n",
    "            try:\n",
    "                category = v['categories'][0]['name']\n",
    "                success = True\n",
    "            except:\n",
    "                pass\n",
    "\n",
    "            if success:\n",
    "                venues_list.append([(\n",
    "                    v['name'], \n",
    "                    v['location']['lat'], \n",
    "                    v['location']['lng'],\n",
    "                    v['categories'][0]['name']\n",
    "                 )])\n",
    "\n",
    "        nearby_venues = pd.DataFrame([item for venue_list in venues_list for item in venue_list])\n",
    "        nearby_venues.columns = ['Venue', \n",
    "                  'Venue Latitude', \n",
    "                  'Venue Longitude',  \n",
    "                  'Venue Category']\n",
    "\n",
    "    except:\n",
    "        print(url)\n",
    "        print(response)\n",
    "        print(results)\n",
    "        print(nearby_venues)\n",
    "\n",
    "    return(nearby_venues)"
   ]
  },
  {
   "cell_type": "markdown",
   "metadata": {},
   "source": [
    "# Defining Foursquare credentials"
   ]
  },
  {
   "cell_type": "code",
   "execution_count": 19,
   "metadata": {},
   "outputs": [
    {
     "name": "stdout",
     "output_type": "stream",
     "text": [
      "Your credentails:\n",
      "CLIENT_ID: XXXXXXXXXXXXXXXXXXXXXXXXXXXXX\n",
      "CLIENT_SECRET:XXXXXXXXXXXXXXXXXXXXXXXXXXXXXXXXXXX\n",
      "LIMIT:30\n",
      "Radius:500\n"
     ]
    }
   ],
   "source": [
    "CLIENT_ID = 'XXXXXXXXXXXXXXXXXXXXXXXXXXXXX' # your Foursquare ID\n",
    "CLIENT_SECRET = 'XXXXXXXXXXXXXXXXXXXXXXXXXXXXXXXXXXX' # your Foursquare Secret\n",
    "VERSION = '20200406' # Foursquare API version\n",
    "LIMIT = 30\n",
    "radius = 500\n",
    "\n",
    "print('Your credentails:')\n",
    "print('CLIENT_ID: ' + CLIENT_ID)\n",
    "print('CLIENT_SECRET:' + CLIENT_SECRET)\n",
    "print('LIMIT:' + str(LIMIT))\n",
    "print('Radius:' + str(radius))"
   ]
  },
  {
   "cell_type": "markdown",
   "metadata": {},
   "source": [
    "As we will be planning to visit the famous landmaks we will use monuments/landmark categoryID which is 4bf58dd8d48988d12d941735"
   ]
  },
  {
   "cell_type": "code",
   "execution_count": 6,
   "metadata": {},
   "outputs": [
    {
     "data": {
      "text/html": [
       "<div>\n",
       "<style scoped>\n",
       "    .dataframe tbody tr th:only-of-type {\n",
       "        vertical-align: middle;\n",
       "    }\n",
       "\n",
       "    .dataframe tbody tr th {\n",
       "        vertical-align: top;\n",
       "    }\n",
       "\n",
       "    .dataframe thead th {\n",
       "        text-align: right;\n",
       "    }\n",
       "</style>\n",
       "<table border=\"1\" class=\"dataframe\">\n",
       "  <thead>\n",
       "    <tr style=\"text-align: right;\">\n",
       "      <th></th>\n",
       "      <th>Venue</th>\n",
       "      <th>Venue Latitude</th>\n",
       "      <th>Venue Longitude</th>\n",
       "      <th>Venue Category</th>\n",
       "    </tr>\n",
       "  </thead>\n",
       "  <tbody>\n",
       "    <tr>\n",
       "      <th>0</th>\n",
       "      <td>Rashtrapati Bhavan | राष्ट्रपति भवन (Rashtrapa...</td>\n",
       "      <td>28.614133</td>\n",
       "      <td>77.209193</td>\n",
       "      <td>Monument / Landmark</td>\n",
       "    </tr>\n",
       "    <tr>\n",
       "      <th>1</th>\n",
       "      <td>Lok Sabha</td>\n",
       "      <td>28.613957</td>\n",
       "      <td>77.208862</td>\n",
       "      <td>Monument / Landmark</td>\n",
       "    </tr>\n",
       "    <tr>\n",
       "      <th>2</th>\n",
       "      <td>India Gate | इंडिया गेट (India Gate)</td>\n",
       "      <td>28.612796</td>\n",
       "      <td>77.229207</td>\n",
       "      <td>Monument / Landmark</td>\n",
       "    </tr>\n",
       "    <tr>\n",
       "      <th>3</th>\n",
       "      <td>Chandni Chowk | चाँदनी चौक (Chandni Chowk)</td>\n",
       "      <td>28.656076</td>\n",
       "      <td>77.230740</td>\n",
       "      <td>Market</td>\n",
       "    </tr>\n",
       "    <tr>\n",
       "      <th>4</th>\n",
       "      <td>Humayun’s Tomb | हुमायूँ का मकबरा (Humayun’s T...</td>\n",
       "      <td>28.593197</td>\n",
       "      <td>77.246047</td>\n",
       "      <td>Monument / Landmark</td>\n",
       "    </tr>\n",
       "    <tr>\n",
       "      <th>5</th>\n",
       "      <td>Qutub Minar | क़ुतुब मीनार (Qutub Minar)</td>\n",
       "      <td>28.525265</td>\n",
       "      <td>77.186593</td>\n",
       "      <td>Monument / Landmark</td>\n",
       "    </tr>\n",
       "    <tr>\n",
       "      <th>6</th>\n",
       "      <td>Lotus Temple (Bahá'í House of Worship)</td>\n",
       "      <td>28.553349</td>\n",
       "      <td>77.259696</td>\n",
       "      <td>Spiritual Center</td>\n",
       "    </tr>\n",
       "    <tr>\n",
       "      <th>7</th>\n",
       "      <td>Pari Chowk</td>\n",
       "      <td>28.465239</td>\n",
       "      <td>77.511292</td>\n",
       "      <td>Monument / Landmark</td>\n",
       "    </tr>\n",
       "    <tr>\n",
       "      <th>8</th>\n",
       "      <td>Red Fort | Lal Qila | लाल क़िला | لال قلعہ (Re...</td>\n",
       "      <td>28.655759</td>\n",
       "      <td>77.241955</td>\n",
       "      <td>Monument / Landmark</td>\n",
       "    </tr>\n",
       "    <tr>\n",
       "      <th>9</th>\n",
       "      <td>Khatri Marg</td>\n",
       "      <td>28.520252</td>\n",
       "      <td>77.165084</td>\n",
       "      <td>Monument / Landmark</td>\n",
       "    </tr>\n",
       "    <tr>\n",
       "      <th>10</th>\n",
       "      <td>AIIMS Cloverleaf</td>\n",
       "      <td>28.569312</td>\n",
       "      <td>77.208188</td>\n",
       "      <td>Monument / Landmark</td>\n",
       "    </tr>\n",
       "    <tr>\n",
       "      <th>11</th>\n",
       "      <td>Akashwani Bhawan</td>\n",
       "      <td>28.622307</td>\n",
       "      <td>77.211462</td>\n",
       "      <td>Music Venue</td>\n",
       "    </tr>\n",
       "    <tr>\n",
       "      <th>12</th>\n",
       "      <td>Prasar Bharati</td>\n",
       "      <td>28.622321</td>\n",
       "      <td>77.209613</td>\n",
       "      <td>Concert Hall</td>\n",
       "    </tr>\n",
       "    <tr>\n",
       "      <th>13</th>\n",
       "      <td>Parliament Secretariat</td>\n",
       "      <td>28.618382</td>\n",
       "      <td>77.209951</td>\n",
       "      <td>City Hall</td>\n",
       "    </tr>\n",
       "    <tr>\n",
       "      <th>14</th>\n",
       "      <td>Lado Sarai Tomb</td>\n",
       "      <td>28.524854</td>\n",
       "      <td>77.190013</td>\n",
       "      <td>Monument / Landmark</td>\n",
       "    </tr>\n",
       "    <tr>\n",
       "      <th>15</th>\n",
       "      <td>Income Tax HQ, Noida</td>\n",
       "      <td>28.586424</td>\n",
       "      <td>77.353919</td>\n",
       "      <td>Monument / Landmark</td>\n",
       "    </tr>\n",
       "    <tr>\n",
       "      <th>16</th>\n",
       "      <td>Lenin Statue</td>\n",
       "      <td>28.589768</td>\n",
       "      <td>77.191353</td>\n",
       "      <td>Monument / Landmark</td>\n",
       "    </tr>\n",
       "    <tr>\n",
       "      <th>17</th>\n",
       "      <td>ARCHAELOGICAL SURVEY OF INDIA (A.S.I)</td>\n",
       "      <td>28.611691</td>\n",
       "      <td>77.224587</td>\n",
       "      <td>Monument / Landmark</td>\n",
       "    </tr>\n",
       "    <tr>\n",
       "      <th>18</th>\n",
       "      <td>The City Palace, Jaipur</td>\n",
       "      <td>28.536499</td>\n",
       "      <td>77.198458</td>\n",
       "      <td>Monument / Landmark</td>\n",
       "    </tr>\n",
       "    <tr>\n",
       "      <th>19</th>\n",
       "      <td>Qutab Minar</td>\n",
       "      <td>28.524433</td>\n",
       "      <td>77.185455</td>\n",
       "      <td>Monument / Landmark</td>\n",
       "    </tr>\n",
       "    <tr>\n",
       "      <th>20</th>\n",
       "      <td>Bada Gumbad</td>\n",
       "      <td>28.594913</td>\n",
       "      <td>77.220248</td>\n",
       "      <td>Monument / Landmark</td>\n",
       "    </tr>\n",
       "    <tr>\n",
       "      <th>21</th>\n",
       "      <td>Kota House Naval Officers Mess</td>\n",
       "      <td>28.606054</td>\n",
       "      <td>77.225404</td>\n",
       "      <td>Monument / Landmark</td>\n",
       "    </tr>\n",
       "    <tr>\n",
       "      <th>22</th>\n",
       "      <td>Bata Chowk Metro Station</td>\n",
       "      <td>28.385728</td>\n",
       "      <td>77.313078</td>\n",
       "      <td>Monument / Landmark</td>\n",
       "    </tr>\n",
       "    <tr>\n",
       "      <th>23</th>\n",
       "      <td>Purana Quila</td>\n",
       "      <td>28.612742</td>\n",
       "      <td>77.240327</td>\n",
       "      <td>History Museum</td>\n",
       "    </tr>\n",
       "    <tr>\n",
       "      <th>24</th>\n",
       "      <td>Ajmeri Gate</td>\n",
       "      <td>28.646099</td>\n",
       "      <td>77.223941</td>\n",
       "      <td>Monument / Landmark</td>\n",
       "    </tr>\n",
       "    <tr>\n",
       "      <th>25</th>\n",
       "      <td>Jantar Mantar</td>\n",
       "      <td>28.627731</td>\n",
       "      <td>77.216436</td>\n",
       "      <td>Historic Site</td>\n",
       "    </tr>\n",
       "    <tr>\n",
       "      <th>26</th>\n",
       "      <td>Mori gate</td>\n",
       "      <td>28.661504</td>\n",
       "      <td>77.218508</td>\n",
       "      <td>Monument / Landmark</td>\n",
       "    </tr>\n",
       "    <tr>\n",
       "      <th>27</th>\n",
       "      <td>supreme court museum</td>\n",
       "      <td>28.623912</td>\n",
       "      <td>77.240649</td>\n",
       "      <td>Monument / Landmark</td>\n",
       "    </tr>\n",
       "  </tbody>\n",
       "</table>\n",
       "</div>"
      ],
      "text/plain": [
       "                                                Venue  Venue Latitude  \\\n",
       "0   Rashtrapati Bhavan | राष्ट्रपति भवन (Rashtrapa...       28.614133   \n",
       "1                                           Lok Sabha       28.613957   \n",
       "2                India Gate | इंडिया गेट (India Gate)       28.612796   \n",
       "3          Chandni Chowk | चाँदनी चौक (Chandni Chowk)       28.656076   \n",
       "4   Humayun’s Tomb | हुमायूँ का मकबरा (Humayun’s T...       28.593197   \n",
       "5            Qutub Minar | क़ुतुब मीनार (Qutub Minar)       28.525265   \n",
       "6              Lotus Temple (Bahá'í House of Worship)       28.553349   \n",
       "7                                          Pari Chowk       28.465239   \n",
       "8   Red Fort | Lal Qila | लाल क़िला | لال قلعہ (Re...       28.655759   \n",
       "9                                         Khatri Marg       28.520252   \n",
       "10                                   AIIMS Cloverleaf       28.569312   \n",
       "11                                   Akashwani Bhawan       28.622307   \n",
       "12                                     Prasar Bharati       28.622321   \n",
       "13                             Parliament Secretariat       28.618382   \n",
       "14                                    Lado Sarai Tomb       28.524854   \n",
       "15                               Income Tax HQ, Noida       28.586424   \n",
       "16                                       Lenin Statue       28.589768   \n",
       "17              ARCHAELOGICAL SURVEY OF INDIA (A.S.I)       28.611691   \n",
       "18                            The City Palace, Jaipur       28.536499   \n",
       "19                                        Qutab Minar       28.524433   \n",
       "20                                        Bada Gumbad       28.594913   \n",
       "21                     Kota House Naval Officers Mess       28.606054   \n",
       "22                           Bata Chowk Metro Station       28.385728   \n",
       "23                                       Purana Quila       28.612742   \n",
       "24                                        Ajmeri Gate       28.646099   \n",
       "25                                      Jantar Mantar       28.627731   \n",
       "26                                          Mori gate       28.661504   \n",
       "27                               supreme court museum       28.623912   \n",
       "\n",
       "    Venue Longitude       Venue Category  \n",
       "0         77.209193  Monument / Landmark  \n",
       "1         77.208862  Monument / Landmark  \n",
       "2         77.229207  Monument / Landmark  \n",
       "3         77.230740               Market  \n",
       "4         77.246047  Monument / Landmark  \n",
       "5         77.186593  Monument / Landmark  \n",
       "6         77.259696     Spiritual Center  \n",
       "7         77.511292  Monument / Landmark  \n",
       "8         77.241955  Monument / Landmark  \n",
       "9         77.165084  Monument / Landmark  \n",
       "10        77.208188  Monument / Landmark  \n",
       "11        77.211462          Music Venue  \n",
       "12        77.209613         Concert Hall  \n",
       "13        77.209951            City Hall  \n",
       "14        77.190013  Monument / Landmark  \n",
       "15        77.353919  Monument / Landmark  \n",
       "16        77.191353  Monument / Landmark  \n",
       "17        77.224587  Monument / Landmark  \n",
       "18        77.198458  Monument / Landmark  \n",
       "19        77.185455  Monument / Landmark  \n",
       "20        77.220248  Monument / Landmark  \n",
       "21        77.225404  Monument / Landmark  \n",
       "22        77.313078  Monument / Landmark  \n",
       "23        77.240327       History Museum  \n",
       "24        77.223941  Monument / Landmark  \n",
       "25        77.216436        Historic Site  \n",
       "26        77.218508  Monument / Landmark  \n",
       "27        77.240649  Monument / Landmark  "
      ]
     },
     "execution_count": 6,
     "metadata": {},
     "output_type": "execute_result"
    }
   ],
   "source": [
    "address_venues = getNearbyVenues(names = address,latitudes=latitude,longitudes=longitude\n",
    "                                 ,radius=50000, categoryIds='4bf58dd8d48988d12d941735')\n",
    "address_venues"
   ]
  },
  {
   "cell_type": "code",
   "execution_count": 7,
   "metadata": {},
   "outputs": [
    {
     "data": {
      "text/plain": [
       "(28, 4)"
      ]
     },
     "execution_count": 7,
     "metadata": {},
     "output_type": "execute_result"
    }
   ],
   "source": [
    "address_venues.shape    #looking at the shape of the venues we have obtained"
   ]
  },
  {
   "cell_type": "code",
   "execution_count": 8,
   "metadata": {},
   "outputs": [
    {
     "data": {
      "text/plain": [
       "Venue Category\n",
       "City Hall               1\n",
       "Concert Hall            1\n",
       "Historic Site           1\n",
       "History Museum          1\n",
       "Market                  1\n",
       "Monument / Landmark    21\n",
       "Music Venue             1\n",
       "Spiritual Center        1\n",
       "Name: Venue, dtype: int64"
      ]
     },
     "execution_count": 8,
     "metadata": {},
     "output_type": "execute_result"
    }
   ],
   "source": [
    "address_venues.groupby(by = 'Venue Category')['Venue'].count()"
   ]
  },
  {
   "cell_type": "markdown",
   "metadata": {},
   "source": [
    "Let's plot the coordinates on a folium map"
   ]
  },
  {
   "cell_type": "code",
   "execution_count": 9,
   "metadata": {},
   "outputs": [],
   "source": [
    "def addToMap(df, color, existingMap):\n",
    "    for lat, lng, venue, venueCat in zip(df['Venue Latitude'], df['Venue Longitude'], df['Venue'], df['Venue Category']):\n",
    "        label = '{} ({})'.format(venue, venueCat)      #label of the point\n",
    "        label = folium.Popup(label, parse_html=True)   #pops up and display the label when clicked\n",
    "        folium.CircleMarker(                           #defining the circle marker for each coordinate in the dataframe \n",
    "            [lat, lng],                                          # providing coordinates\n",
    "            radius=5,                                            #radius of the marker\n",
    "            popup=label,                                         \n",
    "            color=color,\n",
    "            fill=True,\n",
    "            fill_color=color,\n",
    "            fill_opacity=0.7).add_to(existingMap)"
   ]
  },
  {
   "cell_type": "code",
   "execution_count": 10,
   "metadata": {
    "scrolled": false
   },
   "outputs": [
    {
     "data": {
      "text/html": [
       "<div style=\"width:100%;\"><div style=\"position:relative;width:100%;height:0;padding-bottom:60%;\"><iframe src=\"about:blank\" style=\"position:absolute;width:100%;height:100%;left:0;top:0;border:none !important;\" data-html=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 onload=\"this.contentDocument.open();this.contentDocument.write(atob(this.getAttribute('data-html')));this.contentDocument.close();\" allowfullscreen webkitallowfullscreen mozallowfullscreen></iframe></div></div>"
      ],
      "text/plain": [
       "<folium.folium.Map at 0x2e8d5ef9708>"
      ]
     },
     "execution_count": 10,
     "metadata": {},
     "output_type": "execute_result"
    }
   ],
   "source": [
    "addToMap(address_venues,'red',address_map)\n",
    "address_map"
   ]
  },
  {
   "cell_type": "markdown",
   "metadata": {},
   "source": [
    "# Performing clustering on the coordinates"
   ]
  },
  {
   "cell_type": "code",
   "execution_count": 11,
   "metadata": {},
   "outputs": [
    {
     "data": {
      "text/html": [
       "<div>\n",
       "<style scoped>\n",
       "    .dataframe tbody tr th:only-of-type {\n",
       "        vertical-align: middle;\n",
       "    }\n",
       "\n",
       "    .dataframe tbody tr th {\n",
       "        vertical-align: top;\n",
       "    }\n",
       "\n",
       "    .dataframe thead th {\n",
       "        text-align: right;\n",
       "    }\n",
       "</style>\n",
       "<table border=\"1\" class=\"dataframe\">\n",
       "  <thead>\n",
       "    <tr style=\"text-align: right;\">\n",
       "      <th></th>\n",
       "      <th>Venue Latitude</th>\n",
       "      <th>Venue Longitude</th>\n",
       "    </tr>\n",
       "  </thead>\n",
       "  <tbody>\n",
       "    <tr>\n",
       "      <th>0</th>\n",
       "      <td>28.614133</td>\n",
       "      <td>77.209193</td>\n",
       "    </tr>\n",
       "    <tr>\n",
       "      <th>1</th>\n",
       "      <td>28.613957</td>\n",
       "      <td>77.208862</td>\n",
       "    </tr>\n",
       "    <tr>\n",
       "      <th>2</th>\n",
       "      <td>28.612796</td>\n",
       "      <td>77.229207</td>\n",
       "    </tr>\n",
       "    <tr>\n",
       "      <th>3</th>\n",
       "      <td>28.656076</td>\n",
       "      <td>77.230740</td>\n",
       "    </tr>\n",
       "    <tr>\n",
       "      <th>4</th>\n",
       "      <td>28.593197</td>\n",
       "      <td>77.246047</td>\n",
       "    </tr>\n",
       "  </tbody>\n",
       "</table>\n",
       "</div>"
      ],
      "text/plain": [
       "   Venue Latitude  Venue Longitude\n",
       "0       28.614133        77.209193\n",
       "1       28.613957        77.208862\n",
       "2       28.612796        77.229207\n",
       "3       28.656076        77.230740\n",
       "4       28.593197        77.246047"
      ]
     },
     "execution_count": 11,
     "metadata": {},
     "output_type": "execute_result"
    }
   ],
   "source": [
    "X = address_venues[['Venue Latitude','Venue Longitude']]     #creating X dataset for clustering\n",
    "X.head()"
   ]
  },
  {
   "cell_type": "code",
   "execution_count": 12,
   "metadata": {},
   "outputs": [],
   "source": [
    "# Initializing clustering algorithms with 'K' number of clusters where K is the total number of days to visit\n",
    "cluster = KMeans(n_clusters=k,\n",
    "    init='k-means++',)"
   ]
  },
  {
   "cell_type": "code",
   "execution_count": 13,
   "metadata": {},
   "outputs": [
    {
     "data": {
      "text/plain": [
       "KMeans(algorithm='auto', copy_x=True, init='k-means++', max_iter=300,\n",
       "       n_clusters=5, n_init=10, n_jobs=None, precompute_distances='auto',\n",
       "       random_state=None, tol=0.0001, verbose=0)"
      ]
     },
     "execution_count": 13,
     "metadata": {},
     "output_type": "execute_result"
    }
   ],
   "source": [
    "cluster.fit(X)    #fitting the coordinates in the model"
   ]
  },
  {
   "cell_type": "code",
   "execution_count": 14,
   "metadata": {
    "scrolled": true
   },
   "outputs": [
    {
     "data": {
      "text/html": [
       "<div>\n",
       "<style scoped>\n",
       "    .dataframe tbody tr th:only-of-type {\n",
       "        vertical-align: middle;\n",
       "    }\n",
       "\n",
       "    .dataframe tbody tr th {\n",
       "        vertical-align: top;\n",
       "    }\n",
       "\n",
       "    .dataframe thead th {\n",
       "        text-align: right;\n",
       "    }\n",
       "</style>\n",
       "<table border=\"1\" class=\"dataframe\">\n",
       "  <thead>\n",
       "    <tr style=\"text-align: right;\">\n",
       "      <th></th>\n",
       "      <th>Cluster Labels</th>\n",
       "      <th>Venue</th>\n",
       "      <th>Venue Latitude</th>\n",
       "      <th>Venue Longitude</th>\n",
       "      <th>Venue Category</th>\n",
       "    </tr>\n",
       "  </thead>\n",
       "  <tbody>\n",
       "    <tr>\n",
       "      <th>0</th>\n",
       "      <td>0</td>\n",
       "      <td>Rashtrapati Bhavan | राष्ट्रपति भवन (Rashtrapa...</td>\n",
       "      <td>28.614133</td>\n",
       "      <td>77.209193</td>\n",
       "      <td>Monument / Landmark</td>\n",
       "    </tr>\n",
       "    <tr>\n",
       "      <th>1</th>\n",
       "      <td>0</td>\n",
       "      <td>Lok Sabha</td>\n",
       "      <td>28.613957</td>\n",
       "      <td>77.208862</td>\n",
       "      <td>Monument / Landmark</td>\n",
       "    </tr>\n",
       "    <tr>\n",
       "      <th>2</th>\n",
       "      <td>0</td>\n",
       "      <td>India Gate | इंडिया गेट (India Gate)</td>\n",
       "      <td>28.612796</td>\n",
       "      <td>77.229207</td>\n",
       "      <td>Monument / Landmark</td>\n",
       "    </tr>\n",
       "    <tr>\n",
       "      <th>3</th>\n",
       "      <td>0</td>\n",
       "      <td>Chandni Chowk | चाँदनी चौक (Chandni Chowk)</td>\n",
       "      <td>28.656076</td>\n",
       "      <td>77.230740</td>\n",
       "      <td>Market</td>\n",
       "    </tr>\n",
       "    <tr>\n",
       "      <th>4</th>\n",
       "      <td>0</td>\n",
       "      <td>Humayun’s Tomb | हुमायूँ का मकबरा (Humayun’s T...</td>\n",
       "      <td>28.593197</td>\n",
       "      <td>77.246047</td>\n",
       "      <td>Monument / Landmark</td>\n",
       "    </tr>\n",
       "  </tbody>\n",
       "</table>\n",
       "</div>"
      ],
      "text/plain": [
       "   Cluster Labels                                              Venue  \\\n",
       "0               0  Rashtrapati Bhavan | राष्ट्रपति भवन (Rashtrapa...   \n",
       "1               0                                          Lok Sabha   \n",
       "2               0               India Gate | इंडिया गेट (India Gate)   \n",
       "3               0         Chandni Chowk | चाँदनी चौक (Chandni Chowk)   \n",
       "4               0  Humayun’s Tomb | हुमायूँ का मकबरा (Humayun’s T...   \n",
       "\n",
       "   Venue Latitude  Venue Longitude       Venue Category  \n",
       "0       28.614133        77.209193  Monument / Landmark  \n",
       "1       28.613957        77.208862  Monument / Landmark  \n",
       "2       28.612796        77.229207  Monument / Landmark  \n",
       "3       28.656076        77.230740               Market  \n",
       "4       28.593197        77.246047  Monument / Landmark  "
      ]
     },
     "execution_count": 14,
     "metadata": {},
     "output_type": "execute_result"
    }
   ],
   "source": [
    "address_venues.insert(0, 'Cluster Labels', cluster.labels_) #adding the labels into the dataframe\n",
    "address_venues.head()"
   ]
  },
  {
   "cell_type": "markdown",
   "metadata": {},
   "source": [
    "# Visualizing the clustered coordinates on the map"
   ]
  },
  {
   "cell_type": "code",
   "execution_count": 15,
   "metadata": {},
   "outputs": [
    {
     "data": {
      "image/png": "[encoded data removed]",
      "text/plain": [
       "<Figure size 1152x576 with 2 Axes>"
      ]
     },
     "metadata": {
      "needs_background": "light"
     },
     "output_type": "display_data"
    }
   ],
   "source": [
    "fig = plt.figure(figsize=(16,8))    #initializing figure with proper size\n",
    "#plotting a scatter plot for the coordiantes with Longitude on X axis and Latitude on Y axis\n",
    "plt.scatter(address_venues['Venue Longitude'], address_venues['Venue Latitude'], c=address_venues['Cluster Labels'],\n",
    "              s=150, edgecolor='none')\n",
    "plt.colorbar(ticks=np.linspace(0,4,5))\n",
    "plt.xlabel('Latitude', fontsize=14)\n",
    "plt.ylabel('Longitude', fontsize=14)\n",
    "plt.title('k-means clustering results (n_clusters=5)', fontsize=14)\n",
    "plt.grid()\n",
    "plt.show()"
   ]
  },
  {
   "cell_type": "code",
   "execution_count": 16,
   "metadata": {},
   "outputs": [
    {
     "data": {
      "text/html": [
       "<div style=\"width:100%;\"><div style=\"position:relative;width:100%;height:0;padding-bottom:60%;\"><iframe src=\"about:blank\" style=\"position:absolute;width:100%;height:100%;left:0;top:0;border:none !important;\" data-html=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 onload=\"this.contentDocument.open();this.contentDocument.write(atob(this.getAttribute('data-html')));this.contentDocument.close();\" allowfullscreen webkitallowfullscreen mozallowfullscreen></iframe></div></div>"
      ],
      "text/plain": [
       "<folium.folium.Map at 0x2e8d6a7dd08>"
      ]
     },
     "execution_count": 16,
     "metadata": {},
     "output_type": "execute_result"
    }
   ],
   "source": [
    "# create map\n",
    "map_clusters = folium.Map(location=[latitude,longitude],zoom_start=10)\n",
    "\n",
    "# set color scheme for the clusters\n",
    "x = np.arange(k)\n",
    "ys = [i + x + (i*x)**2 for i in range(k)]\n",
    "colors_array = cm.rainbow(np.linspace(0, 1, len(ys)))\n",
    "rainbow = [colors.rgb2hex(i) for i in colors_array]\n",
    "\n",
    "# add markers to the map\n",
    "markers_colors = []\n",
    "for lat, lon, neighbourhood, cluster in zip(address_venues['Venue Latitude'], address_venues['Venue Longitude'], address_venues['Venue'], address_venues['Cluster Labels']):\n",
    "    label = folium.Popup(' Cluster ' + str(cluster), parse_html=True)\n",
    "    folium.CircleMarker(\n",
    "        [lat, lon],\n",
    "        radius=5,\n",
    "        popup=label,\n",
    "        color=rainbow[cluster-1],\n",
    "        fill=True,\n",
    "        fill_color=rainbow[cluster-1],\n",
    "        fill_opacity=0.7).add_to(map_clusters)\n",
    "       \n",
    "map_clusters"
   ]
  },
  {
   "cell_type": "markdown",
   "metadata": {},
   "source": [
    "# Converting the coordinates into a dataframe"
   ]
  },
  {
   "cell_type": "code",
   "execution_count": 17,
   "metadata": {},
   "outputs": [
    {
     "data": {
      "text/html": [
       "<div>\n",
       "<style scoped>\n",
       "    .dataframe tbody tr th:only-of-type {\n",
       "        vertical-align: middle;\n",
       "    }\n",
       "\n",
       "    .dataframe tbody tr th {\n",
       "        vertical-align: top;\n",
       "    }\n",
       "\n",
       "    .dataframe thead th {\n",
       "        text-align: right;\n",
       "    }\n",
       "</style>\n",
       "<table border=\"1\" class=\"dataframe\">\n",
       "  <thead>\n",
       "    <tr style=\"text-align: right;\">\n",
       "      <th></th>\n",
       "      <th>Venue</th>\n",
       "      <th>Venue Category</th>\n",
       "      <th>Day</th>\n",
       "    </tr>\n",
       "  </thead>\n",
       "  <tbody>\n",
       "    <tr>\n",
       "      <th>0</th>\n",
       "      <td>Rashtrapati Bhavan | राष्ट्रपति भवन (Rashtrapa...</td>\n",
       "      <td>Monument / Landmark</td>\n",
       "      <td>1</td>\n",
       "    </tr>\n",
       "    <tr>\n",
       "      <th>1</th>\n",
       "      <td>Jantar Mantar</td>\n",
       "      <td>Historic Site</td>\n",
       "      <td>1</td>\n",
       "    </tr>\n",
       "    <tr>\n",
       "      <th>2</th>\n",
       "      <td>Ajmeri Gate</td>\n",
       "      <td>Monument / Landmark</td>\n",
       "      <td>1</td>\n",
       "    </tr>\n",
       "    <tr>\n",
       "      <th>3</th>\n",
       "      <td>Purana Quila</td>\n",
       "      <td>History Museum</td>\n",
       "      <td>1</td>\n",
       "    </tr>\n",
       "    <tr>\n",
       "      <th>4</th>\n",
       "      <td>Kota House Naval Officers Mess</td>\n",
       "      <td>Monument / Landmark</td>\n",
       "      <td>1</td>\n",
       "    </tr>\n",
       "  </tbody>\n",
       "</table>\n",
       "</div>"
      ],
      "text/plain": [
       "                                               Venue       Venue Category  Day\n",
       "0  Rashtrapati Bhavan | राष्ट्रपति भवन (Rashtrapa...  Monument / Landmark    1\n",
       "1                                      Jantar Mantar        Historic Site    1\n",
       "2                                        Ajmeri Gate  Monument / Landmark    1\n",
       "3                                       Purana Quila       History Museum    1\n",
       "4                     Kota House Naval Officers Mess  Monument / Landmark    1"
      ]
     },
     "execution_count": 17,
     "metadata": {},
     "output_type": "execute_result"
    }
   ],
   "source": [
    "final_address_venue = address_venues[['Venue','Venue Category','Cluster Labels']].sort_values(by =['Cluster Labels']).reset_index()\n",
    "final_address_venue = final_address_venue.drop(['index'],axis =1)\n",
    "final_address_venue = final_address_venue.rename(columns = {'Cluster Labels':'Day'})\n",
    "final_address_venue['Day'] += 1\n",
    "final_address_venue.head()"
   ]
  },
  {
   "cell_type": "markdown",
   "metadata": {},
   "source": [
    " "
   ]
  },
  {
   "cell_type": "code",
   "execution_count": 18,
   "metadata": {},
   "outputs": [],
   "source": [
    "final_address_venue.to_csv(r'final_df.csv')     #saving dataframe as a csv file in the directory"
   ]
  },
  {
   "cell_type": "markdown",
   "metadata": {},
   "source": [
    "#### With the help of  this approach, one can easily decide where to and when to visit in their vacation based on their location and the number of days of vacation\n",
    "\n",
    "# Thank You"
   ]
  },
  {
   "cell_type": "code",
   "execution_count": null,
   "metadata": {},
   "outputs": [],
   "source": []
  }
 ],
 "metadata": {
  "kernelspec": {
   "display_name": "Python 3",
   "language": "python",
   "name": "python3"
  },
  "language_info": {
   "codemirror_mode": {
    "name": "ipython",
    "version": 3
   },
   "file_extension": ".py",
   "mimetype": "text/x-python",
   "name": "python",
   "nbconvert_exporter": "python",
   "pygments_lexer": "ipython3",
   "version": "3.7.4"
  }
 },
 "nbformat": 4,
 "nbformat_minor": 2
}
