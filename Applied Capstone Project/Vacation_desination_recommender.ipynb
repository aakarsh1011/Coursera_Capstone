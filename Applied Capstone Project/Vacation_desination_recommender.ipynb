{
 "cells": [
  {
   "cell_type": "markdown",
   "metadata": {},
   "source": [
    "# Capstone Project - The Battle of Neighbourhoods\n",
    "\n",
    "## Import Libraries\n",
    "\n",
    "We will import all the necessary libraries that will require to read and process the data."
   ]
  },
  {
   "cell_type": "code",
   "execution_count": 1,
   "metadata": {},
   "outputs": [
    {
     "name": "stdout",
     "output_type": "stream",
     "text": [
      "Librairies Imported !!\n"
     ]
    }
   ],
   "source": [
    "import pandas as pd                   #to read the data and perform basic dataframe operation\n",
    "from geopy import geocoders           #installing geopy for geolocating\n",
    "import folium                         #for plotting on map\n",
    "from sklearn.cluster import KMeans    #importing KMeans algorithm\n",
    "import requests                       #for requesting to url\n",
    "import numpy as np                    #for mathematical operations\n",
    "\n",
    "#importing modules relating to matplotlib\n",
    "import matplotlib.cm as cm\n",
    "import matplotlib.colors as colors\n",
    "import matplotlib.pyplot as plt\n",
    "\n",
    "print('Librairies Imported !!')"
   ]
  },
  {
   "cell_type": "markdown",
   "metadata": {},
   "source": [
    "# Exploring Dataset\n",
    "\n",
    "For this project, we don't need any other dataset for this project, to get location we just need to provide the name of the location and the coordinates of the location will be extracted with the help of geopy library."
   ]
  },
  {
   "cell_type": "code",
   "execution_count": 2,
   "metadata": {},
   "outputs": [],
   "source": [
    "#assigning number of days to tour also the number of clusters\n",
    "k = 5\n",
    "address = 'New Delhi'    #location we want to visit\n",
    "\n",
    "#extracting location and storing it for further use\n",
    "geolocator = geocoders.Nominatim(user_agent='Delhi_explorer')\n",
    "location = geolocator.geocode(address)\n",
    "latitude = location.latitude\n",
    "longitude = location.longitude"
   ]
  },
  {
   "cell_type": "markdown",
   "metadata": {},
   "source": [
    "# Visualizing on map\n",
    "\n",
    "With the help of Folium library we can visualize the location we are travelling to"
   ]
  },
  {
   "cell_type": "code",
   "execution_count": 3,
   "metadata": {},
   "outputs": [
    {
     "data": {
      "text/html": [
       "<div style=\"width:100%;\"><div style=\"position:relative;width:100%;height:0;padding-bottom:60%;\"><iframe src=\"about:blank\" style=\"position:absolute;width:100%;height:100%;left:0;top:0;border:none !important;\" data-html=PCFET0NUWVBFIGh0bWw+CjxoZWFkPiAgICAKICAgIDxtZXRhIGh0dHAtZXF1aXY9ImNvbnRlbnQtdHlwZSIgY29udGVudD0idGV4dC9odG1sOyBjaGFyc2V0PVVURi04IiAvPgogICAgCiAgICAgICAgPHNjcmlwdD4KICAgICAgICAgICAgTF9OT19UT1VDSCA9IGZhbHNlOwogICAgICAgICAgICBMX0RJU0FCTEVfM0QgPSBmYWxzZTsKICAgICAgICA8L3NjcmlwdD4KICAgIAogICAgPHNjcmlwdCBzcmM9Imh0dHBzOi8vY2RuLmpzZGVsaXZyLm5ldC9ucG0vbGVhZmxldEAxLjUuMS9kaXN0L2xlYWZsZXQuanMiPjwvc2NyaXB0PgogICAgPHNjcmlwdCBzcmM9Imh0dHBzOi8vY29kZS5qcXVlcnkuY29tL2pxdWVyeS0xLjEyLjQubWluLmpzIj48L3NjcmlwdD4KICAgIDxzY3JpcHQgc3JjPSJodHRwczovL21heGNkbi5ib290c3RyYXBjZG4uY29tL2Jvb3RzdHJhcC8zLjIuMC9qcy9ib290c3RyYXAubWluLmpzIj48L3NjcmlwdD4KICAgIDxzY3JpcHQgc3JjPSJodHRwczovL2NkbmpzLmNsb3VkZmxhcmUuY29tL2FqYXgvbGlicy9MZWFmbGV0LmF3ZXNvbWUtbWFya2Vycy8yLjAuMi9sZWFmbGV0LmF3ZXNvbWUtbWFya2Vycy5qcyI+PC9zY3JpcHQ+CiAgICA8bGluayByZWw9InN0eWxlc2hlZXQiIGhyZWY9Imh0dHBzOi8vY2RuLmpzZGVsaXZyLm5ldC9ucG0vbGVhZmxldEAxLjUuMS9kaXN0L2xlYWZsZXQuY3NzIi8+CiAgICA8bGluayByZWw9InN0eWxlc2hlZXQiIGhyZWY9Imh0dHBzOi8vbWF4Y2RuLmJvb3RzdHJhcGNkbi5jb20vYm9vdHN0cmFwLzMuMi4wL2Nzcy9ib290c3RyYXAubWluLmNzcyIvPgogICAgPGxpbmsgcmVsPSJzdHlsZXNoZWV0IiBocmVmPSJodHRwczovL21heGNkbi5ib290c3RyYXBjZG4uY29tL2Jvb3RzdHJhcC8zLjIuMC9jc3MvYm9vdHN0cmFwLXRoZW1lLm1pbi5jc3MiLz4KICAgIDxsaW5rIHJlbD0ic3R5bGVzaGVldCIgaHJlZj0iaHR0cHM6Ly9tYXhjZG4uYm9vdHN0cmFwY2RuLmNvbS9mb250LWF3ZXNvbWUvNC42LjMvY3NzL2ZvbnQtYXdlc29tZS5taW4uY3NzIi8+CiAgICA8bGluayByZWw9InN0eWxlc2hlZXQiIGhyZWY9Imh0dHBzOi8vY2RuanMuY2xvdWRmbGFyZS5jb20vYWpheC9saWJzL0xlYWZsZXQuYXdlc29tZS1tYXJrZXJzLzIuMC4yL2xlYWZsZXQuYXdlc29tZS1tYXJrZXJzLmNzcyIvPgogICAgPGxpbmsgcmVsPSJzdHlsZXNoZWV0IiBocmVmPSJodHRwczovL3Jhd2Nkbi5naXRoYWNrLmNvbS9weXRob24tdmlzdWFsaXphdGlvbi9mb2xpdW0vbWFzdGVyL2ZvbGl1bS90ZW1wbGF0ZXMvbGVhZmxldC5hd2Vzb21lLnJvdGF0ZS5jc3MiLz4KICAgIDxzdHlsZT5odG1sLCBib2R5IHt3aWR0aDogMTAwJTtoZWlnaHQ6IDEwMCU7bWFyZ2luOiAwO3BhZGRpbmc6IDA7fTwvc3R5bGU+CiAgICA8c3R5bGU+I21hcCB7cG9zaXRpb246YWJzb2x1dGU7dG9wOjA7Ym90dG9tOjA7cmlnaHQ6MDtsZWZ0OjA7fTwvc3R5bGU+CiAgICAKICAgICAgICAgICAgPG1ldGEgbmFtZT0idmlld3BvcnQiIGNvbnRlbnQ9IndpZHRoPWRldmljZS13aWR0aCwKICAgICAgICAgICAgICAgIGluaXRpYWwtc2NhbGU9MS4wLCBtYXhpbXVtLXNjYWxlPTEuMCwgdXNlci1zY2FsYWJsZT1ubyIgLz4KICAgICAgICAgICAgPHN0eWxlPgogICAgICAgICAgICAgICAgI21hcF9jZWUwOTBlOTViZDI0OGQ3ODlmYTZkZTQ5ZGI3ZThjZCB7CiAgICAgICAgICAgICAgICAgICAgcG9zaXRpb246IHJlbGF0aXZlOwogICAgICAgICAgICAgICAgICAgIHdpZHRoOiAxMDAuMCU7CiAgICAgICAgICAgICAgICAgICAgaGVpZ2h0OiAxMDAuMCU7CiAgICAgICAgICAgICAgICAgICAgbGVmdDogMC4wJTsKICAgICAgICAgICAgICAgICAgICB0b3A6IDAuMCU7CiAgICAgICAgICAgICAgICB9CiAgICAgICAgICAgIDwvc3R5bGU+CiAgICAgICAgCjwvaGVhZD4KPGJvZHk+ICAgIAogICAgCiAgICAgICAgICAgIDxkaXYgY2xhc3M9ImZvbGl1bS1tYXAiIGlkPSJtYXBfY2VlMDkwZTk1YmQyNDhkNzg5ZmE2ZGU0OWRiN2U4Y2QiID48L2Rpdj4KICAgICAgICAKPC9ib2R5Pgo8c2NyaXB0PiAgICAKICAgIAogICAgICAgICAgICB2YXIgbWFwX2NlZTA5MGU5NWJkMjQ4ZDc4OWZhNmRlNDlkYjdlOGNkID0gTC5tYXAoCiAgICAgICAgICAgICAgICAibWFwX2NlZTA5MGU5NWJkMjQ4ZDc4OWZhNmRlNDlkYjdlOGNkIiwKICAgICAgICAgICAgICAgIHsKICAgICAgICAgICAgICAgICAgICBjZW50ZXI6IFsyOC42MTQxNzkzLCA3Ny4yMDIyNjYyXSwKICAgICAgICAgICAgICAgICAgICBjcnM6IEwuQ1JTLkVQU0czODU3LAogICAgICAgICAgICAgICAgICAgIHpvb206IDExLAogICAgICAgICAgICAgICAgICAgIHpvb21Db250cm9sOiB0cnVlLAogICAgICAgICAgICAgICAgICAgIHByZWZlckNhbnZhczogZmFsc2UsCiAgICAgICAgICAgICAgICB9CiAgICAgICAgICAgICk7CgogICAgICAgICAgICAKCiAgICAgICAgCiAgICAKICAgICAgICAgICAgdmFyIHRpbGVfbGF5ZXJfNGI4ODFmOTMxNTRhNGYyMzliMDhmOGExYzc5NGU2MTUgPSBMLnRpbGVMYXllcigKICAgICAgICAgICAgICAgICJodHRwczovL3tzfS50aWxlLm9wZW5zdHJlZXRtYXAub3JnL3t6fS97eH0ve3l9LnBuZyIsCiAgICAgICAgICAgICAgICB7ImF0dHJpYnV0aW9uIjogIkRhdGEgYnkgXHUwMDI2Y29weTsgXHUwMDNjYSBocmVmPVwiaHR0cDovL29wZW5zdHJlZXRtYXAub3JnXCJcdTAwM2VPcGVuU3RyZWV0TWFwXHUwMDNjL2FcdTAwM2UsIHVuZGVyIFx1MDAzY2EgaHJlZj1cImh0dHA6Ly93d3cub3BlbnN0cmVldG1hcC5vcmcvY29weXJpZ2h0XCJcdTAwM2VPRGJMXHUwMDNjL2FcdTAwM2UuIiwgImRldGVjdFJldGluYSI6IGZhbHNlLCAibWF4TmF0aXZlWm9vbSI6IDE4LCAibWF4Wm9vbSI6IDE4LCAibWluWm9vbSI6IDAsICJub1dyYXAiOiBmYWxzZSwgIm9wYWNpdHkiOiAxLCAic3ViZG9tYWlucyI6ICJhYmMiLCAidG1zIjogZmFsc2V9CiAgICAgICAgICAgICkuYWRkVG8obWFwX2NlZTA5MGU5NWJkMjQ4ZDc4OWZhNmRlNDlkYjdlOGNkKTsKICAgICAgICAKPC9zY3JpcHQ+ onload=\"this.contentDocument.open();this.contentDocument.write(atob(this.getAttribute('data-html')));this.contentDocument.close();\" allowfullscreen webkitallowfullscreen mozallowfullscreen></iframe></div></div>"
      ],
      "text/plain": [
       "<folium.folium.Map at 0x1bc11060048>"
      ]
     },
     "execution_count": 3,
     "metadata": {},
     "output_type": "execute_result"
    }
   ],
   "source": [
    "address_map = folium.Map(location = [latitude,longitude],zoom_start =11)\n",
    "address_map"
   ]
  },
  {
   "cell_type": "markdown",
   "metadata": {},
   "source": [
    "# Extracting nearby values\n",
    "\n",
    "With the help of Foursquare API we can extract any kind of venues nearby to the location of our interest."
   ]
  },
  {
   "cell_type": "code",
   "execution_count": 4,
   "metadata": {},
   "outputs": [],
   "source": [
    "# The following function retrieves the venues given the names and coordinates and stores it into dataframe.\n",
    "def getNearbyVenues(names, latitudes, longitudes, radius=500,categoryIds = ''):\n",
    "    try: \n",
    "        venues_list=[]\n",
    "        #for name, lat, long in zip(names, latitudes, longitudes):\n",
    "            #print(name)\n",
    "            # create the API request URL\n",
    "        url = 'https://api.foursquare.com/v2/venues/search?&client_id={}&client_secret={}&v={}&ll={},{}&radius={}&limit={}'.format(CLIENT_ID, CLIENT_SECRET, VERSION, latitude, longitude, radius, LIMIT)\n",
    "        if (categoryIds != ''):\n",
    "                url = url + '&categoryId={}'\n",
    "                url = url.format(categoryIds)\n",
    "\n",
    "        # make the GET request\n",
    "        response = requests.get(url).json()\n",
    "        results = response[\"response\"]['venues']\n",
    "\n",
    "          # return only relevant information for each nearby venue\n",
    "        for v in results:\n",
    "            success = False\n",
    "            try:\n",
    "                category = v['categories'][0]['name']\n",
    "                success = True\n",
    "            except:\n",
    "                pass\n",
    "\n",
    "            if success:\n",
    "                venues_list.append([(\n",
    "                    v['name'], \n",
    "                    v['location']['lat'], \n",
    "                    v['location']['lng'],\n",
    "                    v['categories'][0]['name']\n",
    "                 )])\n",
    "\n",
    "        nearby_venues = pd.DataFrame([item for venue_list in venues_list for item in venue_list])\n",
    "        nearby_venues.columns = ['Venue', \n",
    "                  'Venue Latitude', \n",
    "                  'Venue Longitude',  \n",
    "                  'Venue Category']\n",
    "\n",
    "    except:\n",
    "        print(url)\n",
    "        print(response)\n",
    "        print(results)\n",
    "        print(nearby_venues)\n",
    "\n",
    "    return(nearby_venues)"
   ]
  },
  {
   "cell_type": "markdown",
   "metadata": {},
   "source": [
    "# Defining Foursquare credentials"
   ]
  },
  {
   "cell_type": "code",
   "execution_count": 5,
   "metadata": {},
   "outputs": [
    {
     "name": "stdout",
     "output_type": "stream",
     "text": [
      "Your credentails:\n",
      "CLIENT_ID: GIW5UMML5MUTOZI20KD45YDCPG0QRYXMWVTEXGUL2UZNBSES\n",
      "CLIENT_SECRET:2M4VMXELZZBZDPFCX2CP2EZH2GNEOPQHMX2BKRWLT5LY3RRE\n",
      "LIMIT:30\n",
      "Radius:500\n"
     ]
    }
   ],
   "source": [
    "CLIENT_ID = 'GIW5UMML5MUTOZI20KD45YDCPG0QRYXMWVTEXGUL2UZNBSES' # your Foursquare ID\n",
    "CLIENT_SECRET = '2M4VMXELZZBZDPFCX2CP2EZH2GNEOPQHMX2BKRWLT5LY3RRE' # your Foursquare Secret\n",
    "VERSION = '20200406' # Foursquare API version\n",
    "LIMIT = 30\n",
    "radius = 500\n",
    "\n",
    "print('Your credentails:')\n",
    "print('CLIENT_ID: ' + CLIENT_ID)\n",
    "print('CLIENT_SECRET:' + CLIENT_SECRET)\n",
    "print('LIMIT:' + str(LIMIT))\n",
    "print('Radius:' + str(radius))"
   ]
  },
  {
   "cell_type": "markdown",
   "metadata": {},
   "source": [
    "As we will be planning to visit the famous landmaks we will use monuments/landmark categoryID which is 4bf58dd8d48988d12d941735"
   ]
  },
  {
   "cell_type": "code",
   "execution_count": 6,
   "metadata": {},
   "outputs": [
    {
     "data": {
      "text/html": [
       "<div>\n",
       "<style scoped>\n",
       "    .dataframe tbody tr th:only-of-type {\n",
       "        vertical-align: middle;\n",
       "    }\n",
       "\n",
       "    .dataframe tbody tr th {\n",
       "        vertical-align: top;\n",
       "    }\n",
       "\n",
       "    .dataframe thead th {\n",
       "        text-align: right;\n",
       "    }\n",
       "</style>\n",
       "<table border=\"1\" class=\"dataframe\">\n",
       "  <thead>\n",
       "    <tr style=\"text-align: right;\">\n",
       "      <th></th>\n",
       "      <th>Venue</th>\n",
       "      <th>Venue Latitude</th>\n",
       "      <th>Venue Longitude</th>\n",
       "      <th>Venue Category</th>\n",
       "    </tr>\n",
       "  </thead>\n",
       "  <tbody>\n",
       "    <tr>\n",
       "      <th>0</th>\n",
       "      <td>Rashtrapati Bhavan | राष्ट्रपति भवन (Rashtrapa...</td>\n",
       "      <td>28.614133</td>\n",
       "      <td>77.209193</td>\n",
       "      <td>Monument / Landmark</td>\n",
       "    </tr>\n",
       "    <tr>\n",
       "      <th>1</th>\n",
       "      <td>Lok Sabha</td>\n",
       "      <td>28.613957</td>\n",
       "      <td>77.208862</td>\n",
       "      <td>Monument / Landmark</td>\n",
       "    </tr>\n",
       "    <tr>\n",
       "      <th>2</th>\n",
       "      <td>India Gate | इंडिया गेट (India Gate)</td>\n",
       "      <td>28.612796</td>\n",
       "      <td>77.229207</td>\n",
       "      <td>Monument / Landmark</td>\n",
       "    </tr>\n",
       "    <tr>\n",
       "      <th>3</th>\n",
       "      <td>Humayun’s Tomb | हुमायूँ का मकबरा (Humayun’s T...</td>\n",
       "      <td>28.593197</td>\n",
       "      <td>77.246047</td>\n",
       "      <td>Monument / Landmark</td>\n",
       "    </tr>\n",
       "    <tr>\n",
       "      <th>4</th>\n",
       "      <td>Qutub Minar | क़ुतुब मीनार (Qutub Minar)</td>\n",
       "      <td>28.525265</td>\n",
       "      <td>77.186593</td>\n",
       "      <td>Monument / Landmark</td>\n",
       "    </tr>\n",
       "  </tbody>\n",
       "</table>\n",
       "</div>"
      ],
      "text/plain": [
       "                                               Venue  Venue Latitude  \\\n",
       "0  Rashtrapati Bhavan | राष्ट्रपति भवन (Rashtrapa...       28.614133   \n",
       "1                                          Lok Sabha       28.613957   \n",
       "2               India Gate | इंडिया गेट (India Gate)       28.612796   \n",
       "3  Humayun’s Tomb | हुमायूँ का मकबरा (Humayun’s T...       28.593197   \n",
       "4           Qutub Minar | क़ुतुब मीनार (Qutub Minar)       28.525265   \n",
       "\n",
       "   Venue Longitude       Venue Category  \n",
       "0        77.209193  Monument / Landmark  \n",
       "1        77.208862  Monument / Landmark  \n",
       "2        77.229207  Monument / Landmark  \n",
       "3        77.246047  Monument / Landmark  \n",
       "4        77.186593  Monument / Landmark  "
      ]
     },
     "execution_count": 6,
     "metadata": {},
     "output_type": "execute_result"
    }
   ],
   "source": [
    "address_venues = getNearbyVenues(names = address,latitudes=latitude,longitudes=longitude\n",
    "                                 ,radius=50000, categoryIds='4bf58dd8d48988d12d941735')\n",
    "address_venues.head()"
   ]
  },
  {
   "cell_type": "code",
   "execution_count": 7,
   "metadata": {},
   "outputs": [
    {
     "data": {
      "text/plain": [
       "(28, 4)"
      ]
     },
     "execution_count": 7,
     "metadata": {},
     "output_type": "execute_result"
    }
   ],
   "source": [
    "address_venues.shape    #looking at the shape of the venues we have obtained"
   ]
  },
  {
   "cell_type": "code",
   "execution_count": 8,
   "metadata": {},
   "outputs": [
    {
     "data": {
      "text/plain": [
       "Venue Category\n",
       "City Hall               1\n",
       "Concert Hall            1\n",
       "Historic Site           1\n",
       "History Museum          1\n",
       "Market                  1\n",
       "Monument / Landmark    21\n",
       "Music Venue             1\n",
       "Spiritual Center        1\n",
       "Name: Venue, dtype: int64"
      ]
     },
     "execution_count": 8,
     "metadata": {},
     "output_type": "execute_result"
    }
   ],
   "source": [
    "address_venues.groupby(by = 'Venue Category')['Venue'].count()"
   ]
  },
  {
   "cell_type": "markdown",
   "metadata": {},
   "source": [
    "Let's plot the coordinates on a folium map"
   ]
  },
  {
   "cell_type": "code",
   "execution_count": 9,
   "metadata": {},
   "outputs": [],
   "source": [
    "def addToMap(df, color, existingMap):\n",
    "    for lat, lng, venue, venueCat in zip(df['Venue Latitude'], df['Venue Longitude'], df['Venue'], df['Venue Category']):\n",
    "        label = '{} ({})'.format(venue, venueCat)      #label of the point\n",
    "        label = folium.Popup(label, parse_html=True)   #pops up and display the label when clicked\n",
    "        folium.CircleMarker(                           #defining the circle marker for each coordinate in the dataframe \n",
    "            [lat, lng],                                          # providing coordinates\n",
    "            radius=3,                                            #radius of the marker\n",
    "            popup=label,                                         \n",
    "            color=color,\n",
    "            fill=True,\n",
    "            fill_color=color,\n",
    "            fill_opacity=0.7).add_to(existingMap)"
   ]
  },
  {
   "cell_type": "code",
   "execution_count": 10,
   "metadata": {
    "scrolled": false
   },
   "outputs": [
    {
     "data": {
      "text/html": [
       "<div style=\"width:100%;\"><div style=\"position:relative;width:100%;height:0;padding-bottom:60%;\"><iframe src=\"about:blank\" style=\"position:absolute;width:100%;height:100%;left:0;top:0;border:none !important;\" data-html=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 onload=\"this.contentDocument.open();this.contentDocument.write(atob(this.getAttribute('data-html')));this.contentDocument.close();\" allowfullscreen webkitallowfullscreen mozallowfullscreen></iframe></div></div>"
      ],
      "text/plain": [
       "<folium.folium.Map at 0x1bc11060048>"
      ]
     },
     "execution_count": 10,
     "metadata": {},
     "output_type": "execute_result"
    }
   ],
   "source": [
    "addToMap(address_venues,'red',address_map)\n",
    "address_map"
   ]
  },
  {
   "cell_type": "markdown",
   "metadata": {},
   "source": [
    "# Performing clustering on the coordinates"
   ]
  },
  {
   "cell_type": "code",
   "execution_count": 11,
   "metadata": {},
   "outputs": [
    {
     "data": {
      "text/html": [
       "<div>\n",
       "<style scoped>\n",
       "    .dataframe tbody tr th:only-of-type {\n",
       "        vertical-align: middle;\n",
       "    }\n",
       "\n",
       "    .dataframe tbody tr th {\n",
       "        vertical-align: top;\n",
       "    }\n",
       "\n",
       "    .dataframe thead th {\n",
       "        text-align: right;\n",
       "    }\n",
       "</style>\n",
       "<table border=\"1\" class=\"dataframe\">\n",
       "  <thead>\n",
       "    <tr style=\"text-align: right;\">\n",
       "      <th></th>\n",
       "      <th>Venue Latitude</th>\n",
       "      <th>Venue Longitude</th>\n",
       "    </tr>\n",
       "  </thead>\n",
       "  <tbody>\n",
       "    <tr>\n",
       "      <th>0</th>\n",
       "      <td>28.614133</td>\n",
       "      <td>77.209193</td>\n",
       "    </tr>\n",
       "    <tr>\n",
       "      <th>1</th>\n",
       "      <td>28.613957</td>\n",
       "      <td>77.208862</td>\n",
       "    </tr>\n",
       "    <tr>\n",
       "      <th>2</th>\n",
       "      <td>28.612796</td>\n",
       "      <td>77.229207</td>\n",
       "    </tr>\n",
       "    <tr>\n",
       "      <th>3</th>\n",
       "      <td>28.593197</td>\n",
       "      <td>77.246047</td>\n",
       "    </tr>\n",
       "    <tr>\n",
       "      <th>4</th>\n",
       "      <td>28.525265</td>\n",
       "      <td>77.186593</td>\n",
       "    </tr>\n",
       "  </tbody>\n",
       "</table>\n",
       "</div>"
      ],
      "text/plain": [
       "   Venue Latitude  Venue Longitude\n",
       "0       28.614133        77.209193\n",
       "1       28.613957        77.208862\n",
       "2       28.612796        77.229207\n",
       "3       28.593197        77.246047\n",
       "4       28.525265        77.186593"
      ]
     },
     "execution_count": 11,
     "metadata": {},
     "output_type": "execute_result"
    }
   ],
   "source": [
    "X = address_venues[['Venue Latitude','Venue Longitude']]     #creating X dataset for clustering\n",
    "X.head()"
   ]
  },
  {
   "cell_type": "code",
   "execution_count": 12,
   "metadata": {},
   "outputs": [],
   "source": [
    "# Initializing clustering algorithms with 'K' number of clusters where K is the total number of days to visit\n",
    "cluster = KMeans(n_clusters=k,\n",
    "    init='k-means++',)"
   ]
  },
  {
   "cell_type": "code",
   "execution_count": 13,
   "metadata": {},
   "outputs": [
    {
     "data": {
      "text/plain": [
       "KMeans(algorithm='auto', copy_x=True, init='k-means++', max_iter=300,\n",
       "       n_clusters=5, n_init=10, n_jobs=None, precompute_distances='auto',\n",
       "       random_state=None, tol=0.0001, verbose=0)"
      ]
     },
     "execution_count": 13,
     "metadata": {},
     "output_type": "execute_result"
    }
   ],
   "source": [
    "cluster.fit(X)    #fitting the coordinates in the model"
   ]
  },
  {
   "cell_type": "code",
   "execution_count": 14,
   "metadata": {
    "scrolled": true
   },
   "outputs": [
    {
     "data": {
      "text/html": [
       "<div>\n",
       "<style scoped>\n",
       "    .dataframe tbody tr th:only-of-type {\n",
       "        vertical-align: middle;\n",
       "    }\n",
       "\n",
       "    .dataframe tbody tr th {\n",
       "        vertical-align: top;\n",
       "    }\n",
       "\n",
       "    .dataframe thead th {\n",
       "        text-align: right;\n",
       "    }\n",
       "</style>\n",
       "<table border=\"1\" class=\"dataframe\">\n",
       "  <thead>\n",
       "    <tr style=\"text-align: right;\">\n",
       "      <th></th>\n",
       "      <th>Cluster Labels</th>\n",
       "      <th>Venue</th>\n",
       "      <th>Venue Latitude</th>\n",
       "      <th>Venue Longitude</th>\n",
       "      <th>Venue Category</th>\n",
       "    </tr>\n",
       "  </thead>\n",
       "  <tbody>\n",
       "    <tr>\n",
       "      <th>0</th>\n",
       "      <td>0</td>\n",
       "      <td>Rashtrapati Bhavan | राष्ट्रपति भवन (Rashtrapa...</td>\n",
       "      <td>28.614133</td>\n",
       "      <td>77.209193</td>\n",
       "      <td>Monument / Landmark</td>\n",
       "    </tr>\n",
       "    <tr>\n",
       "      <th>1</th>\n",
       "      <td>0</td>\n",
       "      <td>Lok Sabha</td>\n",
       "      <td>28.613957</td>\n",
       "      <td>77.208862</td>\n",
       "      <td>Monument / Landmark</td>\n",
       "    </tr>\n",
       "    <tr>\n",
       "      <th>2</th>\n",
       "      <td>0</td>\n",
       "      <td>India Gate | इंडिया गेट (India Gate)</td>\n",
       "      <td>28.612796</td>\n",
       "      <td>77.229207</td>\n",
       "      <td>Monument / Landmark</td>\n",
       "    </tr>\n",
       "    <tr>\n",
       "      <th>3</th>\n",
       "      <td>0</td>\n",
       "      <td>Humayun’s Tomb | हुमायूँ का मकबरा (Humayun’s T...</td>\n",
       "      <td>28.593197</td>\n",
       "      <td>77.246047</td>\n",
       "      <td>Monument / Landmark</td>\n",
       "    </tr>\n",
       "    <tr>\n",
       "      <th>4</th>\n",
       "      <td>3</td>\n",
       "      <td>Qutub Minar | क़ुतुब मीनार (Qutub Minar)</td>\n",
       "      <td>28.525265</td>\n",
       "      <td>77.186593</td>\n",
       "      <td>Monument / Landmark</td>\n",
       "    </tr>\n",
       "  </tbody>\n",
       "</table>\n",
       "</div>"
      ],
      "text/plain": [
       "   Cluster Labels                                              Venue  \\\n",
       "0               0  Rashtrapati Bhavan | राष्ट्रपति भवन (Rashtrapa...   \n",
       "1               0                                          Lok Sabha   \n",
       "2               0               India Gate | इंडिया गेट (India Gate)   \n",
       "3               0  Humayun’s Tomb | हुमायूँ का मकबरा (Humayun’s T...   \n",
       "4               3           Qutub Minar | क़ुतुब मीनार (Qutub Minar)   \n",
       "\n",
       "   Venue Latitude  Venue Longitude       Venue Category  \n",
       "0       28.614133        77.209193  Monument / Landmark  \n",
       "1       28.613957        77.208862  Monument / Landmark  \n",
       "2       28.612796        77.229207  Monument / Landmark  \n",
       "3       28.593197        77.246047  Monument / Landmark  \n",
       "4       28.525265        77.186593  Monument / Landmark  "
      ]
     },
     "execution_count": 14,
     "metadata": {},
     "output_type": "execute_result"
    }
   ],
   "source": [
    "address_venues.insert(0, 'Cluster Labels', cluster.labels_) #adding the labels into the dataframe\n",
    "address_venues.head()"
   ]
  },
  {
   "cell_type": "markdown",
   "metadata": {},
   "source": [
    "# Visualizing the clustered coordinates on the map"
   ]
  },
  {
   "cell_type": "code",
   "execution_count": 15,
   "metadata": {},
   "outputs": [
    {
     "data": {
      "image/png": "[encoded data removed]",
      "text/plain": [
       "<Figure size 1152x576 with 2 Axes>"
      ]
     },
     "metadata": {
      "needs_background": "light"
     },
     "output_type": "display_data"
    }
   ],
   "source": [
    "fig = plt.figure(figsize=(16,8))    #initializing figure with proper size\n",
    "#plotting a scatter plot for the coordiantes with Longitude on X axis and Latitude on Y axis\n",
    "plt.scatter(address_venues['Venue Longitude'], address_venues['Venue Latitude'], c=address_venues['Cluster Labels'],\n",
    "              s=150, edgecolor='none')\n",
    "plt.colorbar(ticks=np.linspace(0,4,5))\n",
    "plt.xlabel('Latitude', fontsize=14)\n",
    "plt.ylabel('Longitude', fontsize=14)\n",
    "plt.title('k-means clustering results (n_clusters=5)', fontsize=14)\n",
    "plt.grid()\n",
    "plt.show()"
   ]
  },
  {
   "cell_type": "code",
   "execution_count": 16,
   "metadata": {},
   "outputs": [
    {
     "data": {
      "text/html": [
       "<div style=\"width:100%;\"><div style=\"position:relative;width:100%;height:0;padding-bottom:60%;\"><iframe src=\"about:blank\" style=\"position:absolute;width:100%;height:100%;left:0;top:0;border:none !important;\" data-html=PCFET0NUWVBFIGh0bWw+CjxoZWFkPiAgICAKICAgIDxtZXRhIGh0dHAtZXF1aXY9ImNvbnRlbnQtdHlwZSIgY29udGVudD0idGV4dC9odG1sOyBjaGFyc2V0PVVURi04IiAvPgogICAgCiAgICAgICAgPHNjcmlwdD4KICAgICAgICAgICAgTF9OT19UT1VDSCA9IGZhbHNlOwogICAgICAgICAgICBMX0RJU0FCTEVfM0QgPSBmYWxzZTsKICAgICAgICA8L3NjcmlwdD4KICAgIAogICAgPHNjcmlwdCBzcmM9Imh0dHBzOi8vY2RuLmpzZGVsaXZyLm5ldC9ucG0vbGVhZmxldEAxLjUuMS9kaXN0L2xlYWZsZXQuanMiPjwvc2NyaXB0PgogICAgPHNjcmlwdCBzcmM9Imh0dHBzOi8vY29kZS5qcXVlcnkuY29tL2pxdWVyeS0xLjEyLjQubWluLmpzIj48L3NjcmlwdD4KICAgIDxzY3JpcHQgc3JjPSJodHRwczovL21heGNkbi5ib290c3RyYXBjZG4uY29tL2Jvb3RzdHJhcC8zLjIuMC9qcy9ib290c3RyYXAubWluLmpzIj48L3NjcmlwdD4KICAgIDxzY3JpcHQgc3JjPSJodHRwczovL2NkbmpzLmNsb3VkZmxhcmUuY29tL2FqYXgvbGlicy9MZWFmbGV0LmF3ZXNvbWUtbWFya2Vycy8yLjAuMi9sZWFmbGV0LmF3ZXNvbWUtbWFya2Vycy5qcyI+PC9zY3JpcHQ+CiAgICA8bGluayByZWw9InN0eWxlc2hlZXQiIGhyZWY9Imh0dHBzOi8vY2RuLmpzZGVsaXZyLm5ldC9ucG0vbGVhZmxldEAxLjUuMS9kaXN0L2xlYWZsZXQuY3NzIi8+CiAgICA8bGluayByZWw9InN0eWxlc2hlZXQiIGhyZWY9Imh0dHBzOi8vbWF4Y2RuLmJvb3RzdHJhcGNkbi5jb20vYm9vdHN0cmFwLzMuMi4wL2Nzcy9ib290c3RyYXAubWluLmNzcyIvPgogICAgPGxpbmsgcmVsPSJzdHlsZXNoZWV0IiBocmVmPSJodHRwczovL21heGNkbi5ib290c3RyYXBjZG4uY29tL2Jvb3RzdHJhcC8zLjIuMC9jc3MvYm9vdHN0cmFwLXRoZW1lLm1pbi5jc3MiLz4KICAgIDxsaW5rIHJlbD0ic3R5bGVzaGVldCIgaHJlZj0iaHR0cHM6Ly9tYXhjZG4uYm9vdHN0cmFwY2RuLmNvbS9mb250LWF3ZXNvbWUvNC42LjMvY3NzL2ZvbnQtYXdlc29tZS5taW4uY3NzIi8+CiAgICA8bGluayByZWw9InN0eWxlc2hlZXQiIGhyZWY9Imh0dHBzOi8vY2RuanMuY2xvdWRmbGFyZS5jb20vYWpheC9saWJzL0xlYWZsZXQuYXdlc29tZS1tYXJrZXJzLzIuMC4yL2xlYWZsZXQuYXdlc29tZS1tYXJrZXJzLmNzcyIvPgogICAgPGxpbmsgcmVsPSJzdHlsZXNoZWV0IiBocmVmPSJodHRwczovL3Jhd2Nkbi5naXRoYWNrLmNvbS9weXRob24tdmlzdWFsaXphdGlvbi9mb2xpdW0vbWFzdGVyL2ZvbGl1bS90ZW1wbGF0ZXMvbGVhZmxldC5hd2Vzb21lLnJvdGF0ZS5jc3MiLz4KICAgIDxzdHlsZT5odG1sLCBib2R5IHt3aWR0aDogMTAwJTtoZWlnaHQ6IDEwMCU7bWFyZ2luOiAwO3BhZGRpbmc6IDA7fTwvc3R5bGU+CiAgICA8c3R5bGU+I21hcCB7cG9zaXRpb246YWJzb2x1dGU7dG9wOjA7Ym90dG9tOjA7cmlnaHQ6MDtsZWZ0OjA7fTwvc3R5bGU+CiAgICAKICAgICAgICAgICAgPG1ldGEgbmFtZT0idmlld3BvcnQiIGNvbnRlbnQ9IndpZHRoPWRldmljZS13aWR0aCwKICAgICAgICAgICAgICAgIGluaXRpYWwtc2NhbGU9MS4wLCBtYXhpbXVtLXNjYWxlPTEuMCwgdXNlci1zY2FsYWJsZT1ubyIgLz4KICAgICAgICAgICAgPHN0eWxlPgogICAgICAgICAgICAgICAgI21hcF8xNTA4OWMwNWJhOTM0MzA1YmY3OWVjMzg5MzIwMzU2ZSB7CiAgICAgICAgICAgICAgICAgICAgcG9zaXRpb246IHJlbGF0aXZlOwogICAgICAgICAgICAgICAgICAgIHdpZHRoOiAxMDAuMCU7CiAgICAgICAgICAgICAgICAgICAgaGVpZ2h0OiAxMDAuMCU7CiAgICAgICAgICAgICAgICAgICAgbGVmdDogMC4wJTsKICAgICAgICAgICAgICAgICAgICB0b3A6IDAuMCU7CiAgICAgICAgICAgICAgICB9CiAgICAgICAgICAgIDwvc3R5bGU+CiAgICAgICAgCjwvaGVhZD4KPGJvZHk+ICAgIAogICAgCiAgICAgICAgICAgIDxkaXYgY2xhc3M9ImZvbGl1bS1tYXAiIGlkPSJtYXBfMTUwODljMDViYTkzNDMwNWJmNzllYzM4OTMyMDM1NmUiID48L2Rpdj4KICAgICAgICAKPC9ib2R5Pgo8c2NyaXB0PiAgICAKICAgIAogICAgICAgICAgICB2YXIgbWFwXzE1MDg5YzA1YmE5MzQzMDViZjc5ZWMzODkzMjAzNTZlID0gTC5tYXAoCiAgICAgICAgICAgICAgICAibWFwXzE1MDg5YzA1YmE5MzQzMDViZjc5ZWMzODkzMjAzNTZlIiwKICAgICAgICAgICAgICAgIHsKICAgICAgICAgICAgICAgICAgICBjZW50ZXI6IFsyOC42MTQxNzkzLCA3Ny4yMDIyNjYyXSwKICAgICAgICAgICAgICAgICAgICBjcnM6IEwuQ1JTLkVQU0czODU3LAogICAgICAgICAgICAgICAgICAgIHpvb206IDEwLAogICAgICAgICAgICAgICAgICAgIHpvb21Db250cm9sOiB0cnVlLAogICAgICAgICAgICAgICAgICAgIHByZWZlckNhbnZhczogZmFsc2UsCiAgICAgICAgICAgICAgICB9CiAgICAgICAgICAgICk7CgogICAgICAgICAgICAKCiAgICAgICAgCiAgICAKICAgICAgICAgICAgdmFyIHRpbGVfbGF5ZXJfZmIyNzRlNzY0YmRjNDIxMDg5ZTRhZGQxYzUzNzNjMzcgPSBMLnRpbGVMYXllcigKICAgICAgICAgICAgICAgICJodHRwczovL3tzfS50aWxlLm9wZW5zdHJlZXRtYXAub3JnL3t6fS97eH0ve3l9LnBuZyIsCiAgICAgICAgICAgICAgICB7ImF0dHJpYnV0aW9uIjogIkRhdGEgYnkgXHUwMDI2Y29weTsgXHUwMDNjYSBocmVmPVwiaHR0cDovL29wZW5zdHJlZXRtYXAub3JnXCJcdTAwM2VPcGVuU3RyZWV0TWFwXHUwMDNjL2FcdTAwM2UsIHVuZGVyIFx1MDAzY2EgaHJlZj1cImh0dHA6Ly93d3cub3BlbnN0cmVldG1hcC5vcmcvY29weXJpZ2h0XCJcdTAwM2VPRGJMXHUwMDNjL2FcdTAwM2UuIiwgImRldGVjdFJldGluYSI6IGZhbHNlLCAibWF4TmF0aXZlWm9vbSI6IDE4LCAibWF4Wm9vbSI6IDE4LCAibWluWm9vbSI6IDAsICJub1dyYXAiOiBmYWxzZSwgIm9wYWNpdHkiOiAxLCAic3ViZG9tYWlucyI6ICJhYmMiLCAidG1zIjogZmFsc2V9CiAgICAgICAgICAgICkuYWRkVG8obWFwXzE1MDg5YzA1YmE5MzQzMDViZjc5ZWMzODkzMjAzNTZlKTsKICAgICAgICAKICAgIAogICAgICAgICAgICB2YXIgY2lyY2xlX21hcmtlcl8yNzIzNjEwZjIzZTQ0ODhhYTViMTE1YzFjMWZiYjAzMiA9IEwuY2lyY2xlTWFya2VyKAogICAgICAgICAgICAgICAgWzI4LjYxNDEzMjg0Mzc0NjIyNiwgNzcuMjA5MTkzNDY4NzQzNDRdLAogICAgICAgICAgICAgICAgeyJidWJibGluZ01vdXNlRXZlbnRzIjogdHJ1ZSwgImNvbG9yIjogIiNmZjAwMDAiLCAiZGFzaEFycmF5IjogbnVsbCwgImRhc2hPZmZzZXQiOiBudWxsLCAiZmlsbCI6IHRydWUsICJmaWxsQ29sb3IiOiAiI2ZmMDAwMCIsICJmaWxsT3BhY2l0eSI6IDAuNywgImZpbGxSdWxlIjogImV2ZW5vZGQiLCAibGluZUNhcCI6ICJyb3VuZCIsICJsaW5lSm9pbiI6ICJyb3VuZCIsICJvcGFjaXR5IjogMS4wLCAicmFkaXVzIjogMywgInN0cm9rZSI6IHRydWUsICJ3ZWlnaHQiOiAzfQogICAgICAgICAgICApLmFkZFRvKG1hcF8xNTA4OWMwNWJhOTM0MzA1YmY3OWVjMzg5MzIwMzU2ZSk7CiAgICAgICAgCiAgICAKICAgICAgICB2YXIgcG9wdXBfMDAxMDdmY2Q3YWM1NDA4Njk3NjkwZmEwYjg1MmE0NWMgPSBMLnBvcHVwKHsibWF4V2lkdGgiOiAiMTAwJSJ9KTsKCiAgICAgICAgCiAgICAgICAgICAgIHZhciBodG1sXzJhNjc0YjA1M2U4ZTRmYmE4ZjI0ODU3ZjUyMmI4NDhlID0gJChgPGRpdiBpZD0iaHRtbF8yYTY3NGIwNTNlOGU0ZmJhOGYyNDg1N2Y1MjJiODQ4ZSIgc3R5bGU9IndpZHRoOiAxMDAuMCU7IGhlaWdodDogMTAwLjAlOyI+IENsdXN0ZXIgMDwvZGl2PmApWzBdOwogICAgICAgICAgICBwb3B1cF8wMDEwN2ZjZDdhYzU0MDg2OTc2OTBmYTBiODUyYTQ1Yy5zZXRDb250ZW50KGh0bWxfMmE2NzRiMDUzZThlNGZiYThmMjQ4NTdmNTIyYjg0OGUpOwogICAgICAgIAoKICAgICAgICBjaXJjbGVfbWFya2VyXzI3MjM2MTBmMjNlNDQ4OGFhNWIxMTVjMWMxZmJiMDMyLmJpbmRQb3B1cChwb3B1cF8wMDEwN2ZjZDdhYzU0MDg2OTc2OTBmYTBiODUyYTQ1YykKICAgICAgICA7CgogICAgICAgIAogICAgCiAgICAKICAgICAgICAgICAgdmFyIGNpcmNsZV9tYXJrZXJfOWZmN2VjMmZlN2EwNDZiOGJkYjhhZjAyYWQ4OTE4NjUgPSBMLmNpcmNsZU1hcmtlcigKICAgICAgICAgICAgICAgIFsyOC42MTM5NTY3OTU4MDQwMTUsIDc3LjIwODg2MjIxNDA3NTI0XSwKICAgICAgICAgICAgICAgIHsiYnViYmxpbmdNb3VzZUV2ZW50cyI6IHRydWUsICJjb2xvciI6ICIjZmYwMDAwIiwgImRhc2hBcnJheSI6IG51bGwsICJkYXNoT2Zmc2V0IjogbnVsbCwgImZpbGwiOiB0cnVlLCAiZmlsbENvbG9yIjogIiNmZjAwMDAiLCAiZmlsbE9wYWNpdHkiOiAwLjcsICJmaWxsUnVsZSI6ICJldmVub2RkIiwgImxpbmVDYXAiOiAicm91bmQiLCAibGluZUpvaW4iOiAicm91bmQiLCAib3BhY2l0eSI6IDEuMCwgInJhZGl1cyI6IDMsICJzdHJva2UiOiB0cnVlLCAid2VpZ2h0IjogM30KICAgICAgICAgICAgKS5hZGRUbyhtYXBfMTUwODljMDViYTkzNDMwNWJmNzllYzM4OTMyMDM1NmUpOwogICAgICAgIAogICAgCiAgICAgICAgdmFyIHBvcHVwX2M3OThiZWY4NWFmYjRkMjg4YmQ2MzgxMDkzMzg3NzI3ID0gTC5wb3B1cCh7Im1heFdpZHRoIjogIjEwMCUifSk7CgogICAgICAgIAogICAgICAgICAgICB2YXIgaHRtbF83ODkzYTE3YmY2MDM0M2ViYjQyMzRhMzI1MWZjZTRiMSA9ICQoYDxkaXYgaWQ9Imh0bWxfNzg5M2ExN2JmNjAzNDNlYmI0MjM0YTMyNTFmY2U0YjEiIHN0eWxlPSJ3aWR0aDogMTAwLjAlOyBoZWlnaHQ6IDEwMC4wJTsiPiBDbHVzdGVyIDA8L2Rpdj5gKVswXTsKICAgICAgICAgICAgcG9wdXBfYzc5OGJlZjg1YWZiNGQyODhiZDYzODEwOTMzODc3Mjcuc2V0Q29udGVudChodG1sXzc4OTNhMTdiZjYwMzQzZWJiNDIzNGEzMjUxZmNlNGIxKTsKICAgICAgICAKCiAgICAgICAgY2lyY2xlX21hcmtlcl85ZmY3ZWMyZmU3YTA0NmI4YmRiOGFmMDJhZDg5MTg2NS5iaW5kUG9wdXAocG9wdXBfYzc5OGJlZjg1YWZiNGQyODhiZDYzODEwOTMzODc3MjcpCiAgICAgICAgOwoKICAgICAgICAKICAgIAogICAgCiAgICAgICAgICAgIHZhciBjaXJjbGVfbWFya2VyXzVlYTI5YmUwNTVkNzQ4ZjliYWZmMDRlM2NjZWZmOTJiID0gTC5jaXJjbGVNYXJrZXIoCiAgICAgICAgICAgICAgICBbMjguNjEyNzk2NDM0NzQyMzEsIDc3LjIyOTIwNzM4MDg1OTc2XSwKICAgICAgICAgICAgICAgIHsiYnViYmxpbmdNb3VzZUV2ZW50cyI6IHRydWUsICJjb2xvciI6ICIjZmYwMDAwIiwgImRhc2hBcnJheSI6IG51bGwsICJkYXNoT2Zmc2V0IjogbnVsbCwgImZpbGwiOiB0cnVlLCAiZmlsbENvbG9yIjogIiNmZjAwMDAiLCAiZmlsbE9wYWNpdHkiOiAwLjcsICJmaWxsUnVsZSI6ICJldmVub2RkIiwgImxpbmVDYXAiOiAicm91bmQiLCAibGluZUpvaW4iOiAicm91bmQiLCAib3BhY2l0eSI6IDEuMCwgInJhZGl1cyI6IDMsICJzdHJva2UiOiB0cnVlLCAid2VpZ2h0IjogM30KICAgICAgICAgICAgKS5hZGRUbyhtYXBfMTUwODljMDViYTkzNDMwNWJmNzllYzM4OTMyMDM1NmUpOwogICAgICAgIAogICAgCiAgICAgICAgdmFyIHBvcHVwXzIwOWFjYzI4Y2VjYzQ2NGM4ZTI1YTExZTI2YWU2MGQzID0gTC5wb3B1cCh7Im1heFdpZHRoIjogIjEwMCUifSk7CgogICAgICAgIAogICAgICAgICAgICB2YXIgaHRtbF9hZDkyMTg3NzcyZjU0MjJhYWZhNGRkYmViYTQ4OWYzYSA9ICQoYDxkaXYgaWQ9Imh0bWxfYWQ5MjE4Nzc3MmY1NDIyYWFmYTRkZGJlYmE0ODlmM2EiIHN0eWxlPSJ3aWR0aDogMTAwLjAlOyBoZWlnaHQ6IDEwMC4wJTsiPiBDbHVzdGVyIDA8L2Rpdj5gKVswXTsKICAgICAgICAgICAgcG9wdXBfMjA5YWNjMjhjZWNjNDY0YzhlMjVhMTFlMjZhZTYwZDMuc2V0Q29udGVudChodG1sX2FkOTIxODc3NzJmNTQyMmFhZmE0ZGRiZWJhNDg5ZjNhKTsKICAgICAgICAKCiAgICAgICAgY2lyY2xlX21hcmtlcl81ZWEyOWJlMDU1ZDc0OGY5YmFmZjA0ZTNjY2VmZjkyYi5iaW5kUG9wdXAocG9wdXBfMjA5YWNjMjhjZWNjNDY0YzhlMjVhMTFlMjZhZTYwZDMpCiAgICAgICAgOwoKICAgICAgICAKICAgIAogICAgCiAgICAgICAgICAgIHZhciBjaXJjbGVfbWFya2VyXzMwZmEyYTA2Mjg1ZTRhYmZhYmQwNDNkMWY3NDlhNzQxID0gTC5jaXJjbGVNYXJrZXIoCiAgICAgICAgICAgICAgICBbMjguNTkzMTk3MDY4NTU2Nzg3LCA3Ny4yNDYwNDY3NTM5MDYxMV0sCiAgICAgICAgICAgICAgICB7ImJ1YmJsaW5nTW91c2VFdmVudHMiOiB0cnVlLCAiY29sb3IiOiAiI2ZmMDAwMCIsICJkYXNoQXJyYXkiOiBudWxsLCAiZGFzaE9mZnNldCI6IG51bGwsICJmaWxsIjogdHJ1ZSwgImZpbGxDb2xvciI6ICIjZmYwMDAwIiwgImZpbGxPcGFjaXR5IjogMC43LCAiZmlsbFJ1bGUiOiAiZXZlbm9kZCIsICJsaW5lQ2FwIjogInJvdW5kIiwgImxpbmVKb2luIjogInJvdW5kIiwgIm9wYWNpdHkiOiAxLjAsICJyYWRpdXMiOiAzLCAic3Ryb2tlIjogdHJ1ZSwgIndlaWdodCI6IDN9CiAgICAgICAgICAgICkuYWRkVG8obWFwXzE1MDg5YzA1YmE5MzQzMDViZjc5ZWMzODkzMjAzNTZlKTsKICAgICAgICAKICAgIAogICAgICAgIHZhciBwb3B1cF9jNmU3M2EwZWU0MGU0YzJkYjUzMjA5OTExNTQyNjA3YSA9IEwucG9wdXAoeyJtYXhXaWR0aCI6ICIxMDAlIn0pOwoKICAgICAgICAKICAgICAgICAgICAgdmFyIGh0bWxfZDgxNzY3NGY3ZjBmNDVjNjgwMGYxMzUzMjNkYzM3NWMgPSAkKGA8ZGl2IGlkPSJodG1sX2Q4MTc2NzRmN2YwZjQ1YzY4MDBmMTM1MzIzZGMzNzVjIiBzdHlsZT0id2lkdGg6IDEwMC4wJTsgaGVpZ2h0OiAxMDAuMCU7Ij4gQ2x1c3RlciAwPC9kaXY+YClbMF07CiAgICAgICAgICAgIHBvcHVwX2M2ZTczYTBlZTQwZTRjMmRiNTMyMDk5MTE1NDI2MDdhLnNldENvbnRlbnQoaHRtbF9kODE3Njc0ZjdmMGY0NWM2ODAwZjEzNTMyM2RjMzc1Yyk7CiAgICAgICAgCgogICAgICAgIGNpcmNsZV9tYXJrZXJfMzBmYTJhMDYyODVlNGFiZmFiZDA0M2QxZjc0OWE3NDEuYmluZFBvcHVwKHBvcHVwX2M2ZTczYTBlZTQwZTRjMmRiNTMyMDk5MTE1NDI2MDdhKQogICAgICAgIDsKCiAgICAgICAgCiAgICAKICAgIAogICAgICAgICAgICB2YXIgY2lyY2xlX21hcmtlcl9iODljZWIzMTYyM2Q0ZTQzODljZTIzYTA2ZGZmMjY0ZCA9IEwuY2lyY2xlTWFya2VyKAogICAgICAgICAgICAgICAgWzI4LjUyNTI2NTA0ODI2MzgzMywgNzcuMTg2NTkzMDQ3NDQwMTFdLAogICAgICAgICAgICAgICAgeyJidWJibGluZ01vdXNlRXZlbnRzIjogdHJ1ZSwgImNvbG9yIjogIiM4MGZmYjQiLCAiZGFzaEFycmF5IjogbnVsbCwgImRhc2hPZmZzZXQiOiBudWxsLCAiZmlsbCI6IHRydWUsICJmaWxsQ29sb3IiOiAiIzgwZmZiNCIsICJmaWxsT3BhY2l0eSI6IDAuNywgImZpbGxSdWxlIjogImV2ZW5vZGQiLCAibGluZUNhcCI6ICJyb3VuZCIsICJsaW5lSm9pbiI6ICJyb3VuZCIsICJvcGFjaXR5IjogMS4wLCAicmFkaXVzIjogMywgInN0cm9rZSI6IHRydWUsICJ3ZWlnaHQiOiAzfQogICAgICAgICAgICApLmFkZFRvKG1hcF8xNTA4OWMwNWJhOTM0MzA1YmY3OWVjMzg5MzIwMzU2ZSk7CiAgICAgICAgCiAgICAKICAgICAgICB2YXIgcG9wdXBfZmM5OWIxNDljMjdkNDZhNGJlZWJmNGJhMzVmZjk4NzIgPSBMLnBvcHVwKHsibWF4V2lkdGgiOiAiMTAwJSJ9KTsKCiAgICAgICAgCiAgICAgICAgICAgIHZhciBodG1sXzIwNTNiZDY3ZjE1OTQ0ODhiMjE2ZTFlMmUzZGNkNGQzID0gJChgPGRpdiBpZD0iaHRtbF8yMDUzYmQ2N2YxNTk0NDg4YjIxNmUxZTJlM2RjZDRkMyIgc3R5bGU9IndpZHRoOiAxMDAuMCU7IGhlaWdodDogMTAwLjAlOyI+IENsdXN0ZXIgMzwvZGl2PmApWzBdOwogICAgICAgICAgICBwb3B1cF9mYzk5YjE0OWMyN2Q0NmE0YmVlYmY0YmEzNWZmOTg3Mi5zZXRDb250ZW50KGh0bWxfMjA1M2JkNjdmMTU5NDQ4OGIyMTZlMWUyZTNkY2Q0ZDMpOwogICAgICAgIAoKICAgICAgICBjaXJjbGVfbWFya2VyX2I4OWNlYjMxNjIzZDRlNDM4OWNlMjNhMDZkZmYyNjRkLmJpbmRQb3B1cChwb3B1cF9mYzk5YjE0OWMyN2Q0NmE0YmVlYmY0YmEzNWZmOTg3MikKICAgICAgICA7CgogICAgICAgIAogICAgCiAgICAKICAgICAgICAgICAgdmFyIGNpcmNsZV9tYXJrZXJfNDZiMWUyMTExYzU0NDcxOTg3MTg5NDljZDdjMDQ5OTAgPSBMLmNpcmNsZU1hcmtlcigKICAgICAgICAgICAgICAgIFsyOC41NTMzNDg4NzE0NDAxOSwgNzcuMjU5Njk2MTA1OTAzOF0sCiAgICAgICAgICAgICAgICB7ImJ1YmJsaW5nTW91c2VFdmVudHMiOiB0cnVlLCAiY29sb3IiOiAiIzgwZmZiNCIsICJkYXNoQXJyYXkiOiBudWxsLCAiZGFzaE9mZnNldCI6IG51bGwsICJmaWxsIjogdHJ1ZSwgImZpbGxDb2xvciI6ICIjODBmZmI0IiwgImZpbGxPcGFjaXR5IjogMC43LCAiZmlsbFJ1bGUiOiAiZXZlbm9kZCIsICJsaW5lQ2FwIjogInJvdW5kIiwgImxpbmVKb2luIjogInJvdW5kIiwgIm9wYWNpdHkiOiAxLjAsICJyYWRpdXMiOiAzLCAic3Ryb2tlIjogdHJ1ZSwgIndlaWdodCI6IDN9CiAgICAgICAgICAgICkuYWRkVG8obWFwXzE1MDg5YzA1YmE5MzQzMDViZjc5ZWMzODkzMjAzNTZlKTsKICAgICAgICAKICAgIAogICAgICAgIHZhciBwb3B1cF8yMjNiNTg3YjQ1OGE0NTM5ODgxMDNjNWJlMWQ4N2MwYiA9IEwucG9wdXAoeyJtYXhXaWR0aCI6ICIxMDAlIn0pOwoKICAgICAgICAKICAgICAgICAgICAgdmFyIGh0bWxfNDNkYzA2YjkzYmY4NDhjNTkxYzBjM2RjMmVmNjcyMmEgPSAkKGA8ZGl2IGlkPSJodG1sXzQzZGMwNmI5M2JmODQ4YzU5MWMwYzNkYzJlZjY3MjJhIiBzdHlsZT0id2lkdGg6IDEwMC4wJTsgaGVpZ2h0OiAxMDAuMCU7Ij4gQ2x1c3RlciAzPC9kaXY+YClbMF07CiAgICAgICAgICAgIHBvcHVwXzIyM2I1ODdiNDU4YTQ1Mzk4ODEwM2M1YmUxZDg3YzBiLnNldENvbnRlbnQoaHRtbF80M2RjMDZiOTNiZjg0OGM1OTFjMGMzZGMyZWY2NzIyYSk7CiAgICAgICAgCgogICAgICAgIGNpcmNsZV9tYXJrZXJfNDZiMWUyMTExYzU0NDcxOTg3MTg5NDljZDdjMDQ5OTAuYmluZFBvcHVwKHBvcHVwXzIyM2I1ODdiNDU4YTQ1Mzk4ODEwM2M1YmUxZDg3YzBiKQogICAgICAgIDsKCiAgICAgICAgCiAgICAKICAgIAogICAgICAgICAgICB2YXIgY2lyY2xlX21hcmtlcl80NjhjNzc3Y2FkMWY0MmUzOGZjNjg0YWE4Yjc2YzUxYSA9IEwuY2lyY2xlTWFya2VyKAogICAgICAgICAgICAgICAgWzI4LjY1NTc1ODkzMDg3NTE5NCwgNzcuMjQxOTU0ODAzNDY2OF0sCiAgICAgICAgICAgICAgICB7ImJ1YmJsaW5nTW91c2VFdmVudHMiOiB0cnVlLCAiY29sb3IiOiAiI2ZmMDAwMCIsICJkYXNoQXJyYXkiOiBudWxsLCAiZGFzaE9mZnNldCI6IG51bGwsICJmaWxsIjogdHJ1ZSwgImZpbGxDb2xvciI6ICIjZmYwMDAwIiwgImZpbGxPcGFjaXR5IjogMC43LCAiZmlsbFJ1bGUiOiAiZXZlbm9kZCIsICJsaW5lQ2FwIjogInJvdW5kIiwgImxpbmVKb2luIjogInJvdW5kIiwgIm9wYWNpdHkiOiAxLjAsICJyYWRpdXMiOiAzLCAic3Ryb2tlIjogdHJ1ZSwgIndlaWdodCI6IDN9CiAgICAgICAgICAgICkuYWRkVG8obWFwXzE1MDg5YzA1YmE5MzQzMDViZjc5ZWMzODkzMjAzNTZlKTsKICAgICAgICAKICAgIAogICAgICAgIHZhciBwb3B1cF83YjMwZDAzNTY2OTE0Y2YyOTk0ZTQxNWMxODIwNmIwMyA9IEwucG9wdXAoeyJtYXhXaWR0aCI6ICIxMDAlIn0pOwoKICAgICAgICAKICAgICAgICAgICAgdmFyIGh0bWxfMGMyMTcwOWNkYjJhNDhjYzkwNTZhYzVkZThiNmQzOWEgPSAkKGA8ZGl2IGlkPSJodG1sXzBjMjE3MDljZGIyYTQ4Y2M5MDU2YWM1ZGU4YjZkMzlhIiBzdHlsZT0id2lkdGg6IDEwMC4wJTsgaGVpZ2h0OiAxMDAuMCU7Ij4gQ2x1c3RlciAwPC9kaXY+YClbMF07CiAgICAgICAgICAgIHBvcHVwXzdiMzBkMDM1NjY5MTRjZjI5OTRlNDE1YzE4MjA2YjAzLnNldENvbnRlbnQoaHRtbF8wYzIxNzA5Y2RiMmE0OGNjOTA1NmFjNWRlOGI2ZDM5YSk7CiAgICAgICAgCgogICAgICAgIGNpcmNsZV9tYXJrZXJfNDY4Yzc3N2NhZDFmNDJlMzhmYzY4NGFhOGI3NmM1MWEuYmluZFBvcHVwKHBvcHVwXzdiMzBkMDM1NjY5MTRjZjI5OTRlNDE1YzE4MjA2YjAzKQogICAgICAgIDsKCiAgICAgICAgCiAgICAKICAgIAogICAgICAgICAgICB2YXIgY2lyY2xlX21hcmtlcl8wYmFlYzFlYTRmNDk0ZDBkYTA5NDc3MDNiOWRmNmM0YSA9IEwuY2lyY2xlTWFya2VyKAogICAgICAgICAgICAgICAgWzI4LjY1NjA3NjMyMzkyNTMxMiwgNzcuMjMwNzM5ODYzMjQ5MzNdLAogICAgICAgICAgICAgICAgeyJidWJibGluZ01vdXNlRXZlbnRzIjogdHJ1ZSwgImNvbG9yIjogIiNmZjAwMDAiLCAiZGFzaEFycmF5IjogbnVsbCwgImRhc2hPZmZzZXQiOiBudWxsLCAiZmlsbCI6IHRydWUsICJmaWxsQ29sb3IiOiAiI2ZmMDAwMCIsICJmaWxsT3BhY2l0eSI6IDAuNywgImZpbGxSdWxlIjogImV2ZW5vZGQiLCAibGluZUNhcCI6ICJyb3VuZCIsICJsaW5lSm9pbiI6ICJyb3VuZCIsICJvcGFjaXR5IjogMS4wLCAicmFkaXVzIjogMywgInN0cm9rZSI6IHRydWUsICJ3ZWlnaHQiOiAzfQogICAgICAgICAgICApLmFkZFRvKG1hcF8xNTA4OWMwNWJhOTM0MzA1YmY3OWVjMzg5MzIwMzU2ZSk7CiAgICAgICAgCiAgICAKICAgICAgICB2YXIgcG9wdXBfZmM0YjJjODc0MGJjNGI5MmE2MTkyMTBmZTk4OGU5YjEgPSBMLnBvcHVwKHsibWF4V2lkdGgiOiAiMTAwJSJ9KTsKCiAgICAgICAgCiAgICAgICAgICAgIHZhciBodG1sX2MyMTUzY2UwMDZmNTQ3YTJhNTg4ZmRhNWU0ZjcyZjkwID0gJChgPGRpdiBpZD0iaHRtbF9jMjE1M2NlMDA2ZjU0N2EyYTU4OGZkYTVlNGY3MmY5MCIgc3R5bGU9IndpZHRoOiAxMDAuMCU7IGhlaWdodDogMTAwLjAlOyI+IENsdXN0ZXIgMDwvZGl2PmApWzBdOwogICAgICAgICAgICBwb3B1cF9mYzRiMmM4NzQwYmM0YjkyYTYxOTIxMGZlOTg4ZTliMS5zZXRDb250ZW50KGh0bWxfYzIxNTNjZTAwNmY1NDdhMmE1ODhmZGE1ZTRmNzJmOTApOwogICAgICAgIAoKICAgICAgICBjaXJjbGVfbWFya2VyXzBiYWVjMWVhNGY0OTRkMGRhMDk0NzcwM2I5ZGY2YzRhLmJpbmRQb3B1cChwb3B1cF9mYzRiMmM4NzQwYmM0YjkyYTYxOTIxMGZlOTg4ZTliMSkKICAgICAgICA7CgogICAgICAgIAogICAgCiAgICAKICAgICAgICAgICAgdmFyIGNpcmNsZV9tYXJrZXJfNDY0NjE5MDA5MDYzNDgyOWIxZTkzMzUwMDExM2M0MDggPSBMLmNpcmNsZU1hcmtlcigKICAgICAgICAgICAgICAgIFsyOC40NjUyMzkzMTkwMTI1MiwgNzcuNTExMjkxNTAzOTA2MjVdLAogICAgICAgICAgICAgICAgeyJidWJibGluZ01vdXNlRXZlbnRzIjogdHJ1ZSwgImNvbG9yIjogIiMwMGI1ZWIiLCAiZGFzaEFycmF5IjogbnVsbCwgImRhc2hPZmZzZXQiOiBudWxsLCAiZmlsbCI6IHRydWUsICJmaWxsQ29sb3IiOiAiIzAwYjVlYiIsICJmaWxsT3BhY2l0eSI6IDAuNywgImZpbGxSdWxlIjogImV2ZW5vZGQiLCAibGluZUNhcCI6ICJyb3VuZCIsICJsaW5lSm9pbiI6ICJyb3VuZCIsICJvcGFjaXR5IjogMS4wLCAicmFkaXVzIjogMywgInN0cm9rZSI6IHRydWUsICJ3ZWlnaHQiOiAzfQogICAgICAgICAgICApLmFkZFRvKG1hcF8xNTA4OWMwNWJhOTM0MzA1YmY3OWVjMzg5MzIwMzU2ZSk7CiAgICAgICAgCiAgICAKICAgICAgICB2YXIgcG9wdXBfNjlmZmY5NDM4ZDE2NGQxZDhjYzBiYjVkMGM2MThiM2UgPSBMLnBvcHVwKHsibWF4V2lkdGgiOiAiMTAwJSJ9KTsKCiAgICAgICAgCiAgICAgICAgICAgIHZhciBodG1sXzc3OGFiYjdjMjUxZjQzNGM4YzczNTI5YjVkYWRmNWFkID0gJChgPGRpdiBpZD0iaHRtbF83NzhhYmI3YzI1MWY0MzRjOGM3MzUyOWI1ZGFkZjVhZCIgc3R5bGU9IndpZHRoOiAxMDAuMCU7IGhlaWdodDogMTAwLjAlOyI+IENsdXN0ZXIgMjwvZGl2PmApWzBdOwogICAgICAgICAgICBwb3B1cF82OWZmZjk0MzhkMTY0ZDFkOGNjMGJiNWQwYzYxOGIzZS5zZXRDb250ZW50KGh0bWxfNzc4YWJiN2MyNTFmNDM0YzhjNzM1MjliNWRhZGY1YWQpOwogICAgICAgIAoKICAgICAgICBjaXJjbGVfbWFya2VyXzQ2NDYxOTAwOTA2MzQ4MjliMWU5MzM1MDAxMTNjNDA4LmJpbmRQb3B1cChwb3B1cF82OWZmZjk0MzhkMTY0ZDFkOGNjMGJiNWQwYzYxOGIzZSkKICAgICAgICA7CgogICAgICAgIAogICAgCiAgICAKICAgICAgICAgICAgdmFyIGNpcmNsZV9tYXJrZXJfYTRhODAwMDk4ZDAzNDczMWFlZGQ1YjEwNDRjYzk0ZmMgPSBMLmNpcmNsZU1hcmtlcigKICAgICAgICAgICAgICAgIFsyOC41MjAyNTE1OTk5MzQzNzIsIDc3LjE2NTA4MzU1NTU4MTAzXSwKICAgICAgICAgICAgICAgIHsiYnViYmxpbmdNb3VzZUV2ZW50cyI6IHRydWUsICJjb2xvciI6ICIjODBmZmI0IiwgImRhc2hBcnJheSI6IG51bGwsICJkYXNoT2Zmc2V0IjogbnVsbCwgImZpbGwiOiB0cnVlLCAiZmlsbENvbG9yIjogIiM4MGZmYjQiLCAiZmlsbE9wYWNpdHkiOiAwLjcsICJmaWxsUnVsZSI6ICJldmVub2RkIiwgImxpbmVDYXAiOiAicm91bmQiLCAibGluZUpvaW4iOiAicm91bmQiLCAib3BhY2l0eSI6IDEuMCwgInJhZGl1cyI6IDMsICJzdHJva2UiOiB0cnVlLCAid2VpZ2h0IjogM30KICAgICAgICAgICAgKS5hZGRUbyhtYXBfMTUwODljMDViYTkzNDMwNWJmNzllYzM4OTMyMDM1NmUpOwogICAgICAgIAogICAgCiAgICAgICAgdmFyIHBvcHVwX2FiZDc3NjJkZjYyZjQ2NzZiMzc0YjU4N2Q5NzQ4N2E5ID0gTC5wb3B1cCh7Im1heFdpZHRoIjogIjEwMCUifSk7CgogICAgICAgIAogICAgICAgICAgICB2YXIgaHRtbF9mMTg4MmNlNWVhZmI0NzBkYWZlZTQ5MDRlZWJjYzY2ZSA9ICQoYDxkaXYgaWQ9Imh0bWxfZjE4ODJjZTVlYWZiNDcwZGFmZWU0OTA0ZWViY2M2NmUiIHN0eWxlPSJ3aWR0aDogMTAwLjAlOyBoZWlnaHQ6IDEwMC4wJTsiPiBDbHVzdGVyIDM8L2Rpdj5gKVswXTsKICAgICAgICAgICAgcG9wdXBfYWJkNzc2MmRmNjJmNDY3NmIzNzRiNTg3ZDk3NDg3YTkuc2V0Q29udGVudChodG1sX2YxODgyY2U1ZWFmYjQ3MGRhZmVlNDkwNGVlYmNjNjZlKTsKICAgICAgICAKCiAgICAgICAgY2lyY2xlX21hcmtlcl9hNGE4MDAwOThkMDM0NzMxYWVkZDViMTA0NGNjOTRmYy5iaW5kUG9wdXAocG9wdXBfYWJkNzc2MmRmNjJmNDY3NmIzNzRiNTg3ZDk3NDg3YTkpCiAgICAgICAgOwoKICAgICAgICAKICAgIAogICAgCiAgICAgICAgICAgIHZhciBjaXJjbGVfbWFya2VyXzNhYTgxNzU0MGRkNDQ4YmE4NWQ2NWE1ZjE1MjdkZWVlID0gTC5jaXJjbGVNYXJrZXIoCiAgICAgICAgICAgICAgICBbMjguNTY5MzExNjcwODIxMTYsIDc3LjIwODE4ODQ3MzMwNzg0XSwKICAgICAgICAgICAgICAgIHsiYnViYmxpbmdNb3VzZUV2ZW50cyI6IHRydWUsICJjb2xvciI6ICIjODBmZmI0IiwgImRhc2hBcnJheSI6IG51bGwsICJkYXNoT2Zmc2V0IjogbnVsbCwgImZpbGwiOiB0cnVlLCAiZmlsbENvbG9yIjogIiM4MGZmYjQiLCAiZmlsbE9wYWNpdHkiOiAwLjcsICJmaWxsUnVsZSI6ICJldmVub2RkIiwgImxpbmVDYXAiOiAicm91bmQiLCAibGluZUpvaW4iOiAicm91bmQiLCAib3BhY2l0eSI6IDEuMCwgInJhZGl1cyI6IDMsICJzdHJva2UiOiB0cnVlLCAid2VpZ2h0IjogM30KICAgICAgICAgICAgKS5hZGRUbyhtYXBfMTUwODljMDViYTkzNDMwNWJmNzllYzM4OTMyMDM1NmUpOwogICAgICAgIAogICAgCiAgICAgICAgdmFyIHBvcHVwXzA0OGQ0NjI0NjY5YTRlOWM5ZjM4MTdiNjBlYzJkMzhlID0gTC5wb3B1cCh7Im1heFdpZHRoIjogIjEwMCUifSk7CgogICAgICAgIAogICAgICAgICAgICB2YXIgaHRtbF81ODM4ZDkxNzgwZmY0ZDU0YjFjMDA0Y2YyYzI1Y2UyOSA9ICQoYDxkaXYgaWQ9Imh0bWxfNTgzOGQ5MTc4MGZmNGQ1NGIxYzAwNGNmMmMyNWNlMjkiIHN0eWxlPSJ3aWR0aDogMTAwLjAlOyBoZWlnaHQ6IDEwMC4wJTsiPiBDbHVzdGVyIDM8L2Rpdj5gKVswXTsKICAgICAgICAgICAgcG9wdXBfMDQ4ZDQ2MjQ2NjlhNGU5YzlmMzgxN2I2MGVjMmQzOGUuc2V0Q29udGVudChodG1sXzU4MzhkOTE3ODBmZjRkNTRiMWMwMDRjZjJjMjVjZTI5KTsKICAgICAgICAKCiAgICAgICAgY2lyY2xlX21hcmtlcl8zYWE4MTc1NDBkZDQ0OGJhODVkNjVhNWYxNTI3ZGVlZS5iaW5kUG9wdXAocG9wdXBfMDQ4ZDQ2MjQ2NjlhNGU5YzlmMzgxN2I2MGVjMmQzOGUpCiAgICAgICAgOwoKICAgICAgICAKICAgIAogICAgCiAgICAgICAgICAgIHZhciBjaXJjbGVfbWFya2VyXzE1MGUwNDhhMDBkZTRlOTNhMzYwOTM5NmUyOTJmMzM0ID0gTC5jaXJjbGVNYXJrZXIoCiAgICAgICAgICAgICAgICBbMjguNjIyMzIxMjU3MzQ3OTUyLCA3Ny4yMDk2MTI1MTIwMTE3OV0sCiAgICAgICAgICAgICAgICB7ImJ1YmJsaW5nTW91c2VFdmVudHMiOiB0cnVlLCAiY29sb3IiOiAiI2ZmMDAwMCIsICJkYXNoQXJyYXkiOiBudWxsLCAiZGFzaE9mZnNldCI6IG51bGwsICJmaWxsIjogdHJ1ZSwgImZpbGxDb2xvciI6ICIjZmYwMDAwIiwgImZpbGxPcGFjaXR5IjogMC43LCAiZmlsbFJ1bGUiOiAiZXZlbm9kZCIsICJsaW5lQ2FwIjogInJvdW5kIiwgImxpbmVKb2luIjogInJvdW5kIiwgIm9wYWNpdHkiOiAxLjAsICJyYWRpdXMiOiAzLCAic3Ryb2tlIjogdHJ1ZSwgIndlaWdodCI6IDN9CiAgICAgICAgICAgICkuYWRkVG8obWFwXzE1MDg5YzA1YmE5MzQzMDViZjc5ZWMzODkzMjAzNTZlKTsKICAgICAgICAKICAgIAogICAgICAgIHZhciBwb3B1cF9iNTUyNzgyZTA5ZGY0YmNkYmRiNTFiNTJiMmQxOGUyYyA9IEwucG9wdXAoeyJtYXhXaWR0aCI6ICIxMDAlIn0pOwoKICAgICAgICAKICAgICAgICAgICAgdmFyIGh0bWxfNWRmYmZlMTgxMjA4NDY5YWI4Yzg5Y2M0ZDFlZDU1ZTEgPSAkKGA8ZGl2IGlkPSJodG1sXzVkZmJmZTE4MTIwODQ2OWFiOGM4OWNjNGQxZWQ1NWUxIiBzdHlsZT0id2lkdGg6IDEwMC4wJTsgaGVpZ2h0OiAxMDAuMCU7Ij4gQ2x1c3RlciAwPC9kaXY+YClbMF07CiAgICAgICAgICAgIHBvcHVwX2I1NTI3ODJlMDlkZjRiY2RiZGI1MWI1MmIyZDE4ZTJjLnNldENvbnRlbnQoaHRtbF81ZGZiZmUxODEyMDg0NjlhYjhjODljYzRkMWVkNTVlMSk7CiAgICAgICAgCgogICAgICAgIGNpcmNsZV9tYXJrZXJfMTUwZTA0OGEwMGRlNGU5M2EzNjA5Mzk2ZTI5MmYzMzQuYmluZFBvcHVwKHBvcHVwX2I1NTI3ODJlMDlkZjRiY2RiZGI1MWI1MmIyZDE4ZTJjKQogICAgICAgIDsKCiAgICAgICAgCiAgICAKICAgIAogICAgICAgICAgICB2YXIgY2lyY2xlX21hcmtlcl8wYzgxMjdiMjBlNmQ0YjVhODlhNDc0YjU5ZDI4MjBmNiA9IEwuY2lyY2xlTWFya2VyKAogICAgICAgICAgICAgICAgWzI4LjYxODM4MTcwMTQ3NzE5OCwgNzcuMjA5OTUxNDIwNTQ4NDhdLAogICAgICAgICAgICAgICAgeyJidWJibGluZ01vdXNlRXZlbnRzIjogdHJ1ZSwgImNvbG9yIjogIiNmZjAwMDAiLCAiZGFzaEFycmF5IjogbnVsbCwgImRhc2hPZmZzZXQiOiBudWxsLCAiZmlsbCI6IHRydWUsICJmaWxsQ29sb3IiOiAiI2ZmMDAwMCIsICJmaWxsT3BhY2l0eSI6IDAuNywgImZpbGxSdWxlIjogImV2ZW5vZGQiLCAibGluZUNhcCI6ICJyb3VuZCIsICJsaW5lSm9pbiI6ICJyb3VuZCIsICJvcGFjaXR5IjogMS4wLCAicmFkaXVzIjogMywgInN0cm9rZSI6IHRydWUsICJ3ZWlnaHQiOiAzfQogICAgICAgICAgICApLmFkZFRvKG1hcF8xNTA4OWMwNWJhOTM0MzA1YmY3OWVjMzg5MzIwMzU2ZSk7CiAgICAgICAgCiAgICAKICAgICAgICB2YXIgcG9wdXBfNTQyOWZhNjNlNWNjNGUwMGIwNWEzMGIyNWRkYjdkOWEgPSBMLnBvcHVwKHsibWF4V2lkdGgiOiAiMTAwJSJ9KTsKCiAgICAgICAgCiAgICAgICAgICAgIHZhciBodG1sX2I2ZGMwZmZmNWM4ZjRkNGI5YTJhN2MzZjE1OTg5ODk2ID0gJChgPGRpdiBpZD0iaHRtbF9iNmRjMGZmZjVjOGY0ZDRiOWEyYTdjM2YxNTk4OTg5NiIgc3R5bGU9IndpZHRoOiAxMDAuMCU7IGhlaWdodDogMTAwLjAlOyI+IENsdXN0ZXIgMDwvZGl2PmApWzBdOwogICAgICAgICAgICBwb3B1cF81NDI5ZmE2M2U1Y2M0ZTAwYjA1YTMwYjI1ZGRiN2Q5YS5zZXRDb250ZW50KGh0bWxfYjZkYzBmZmY1YzhmNGQ0YjlhMmE3YzNmMTU5ODk4OTYpOwogICAgICAgIAoKICAgICAgICBjaXJjbGVfbWFya2VyXzBjODEyN2IyMGU2ZDRiNWE4OWE0NzRiNTlkMjgyMGY2LmJpbmRQb3B1cChwb3B1cF81NDI5ZmE2M2U1Y2M0ZTAwYjA1YTMwYjI1ZGRiN2Q5YSkKICAgICAgICA7CgogICAgICAgIAogICAgCiAgICAKICAgICAgICAgICAgdmFyIGNpcmNsZV9tYXJrZXJfNGNmMDg4ZDU3OWYwNGNjMTk1MTkzYTg3NGYzYTQxNzUgPSBMLmNpcmNsZU1hcmtlcigKICAgICAgICAgICAgICAgIFsyOC42MjIzMDczMzcyNzgzMSwgNzcuMjExNDYxNjk1MjIzMzNdLAogICAgICAgICAgICAgICAgeyJidWJibGluZ01vdXNlRXZlbnRzIjogdHJ1ZSwgImNvbG9yIjogIiNmZjAwMDAiLCAiZGFzaEFycmF5IjogbnVsbCwgImRhc2hPZmZzZXQiOiBudWxsLCAiZmlsbCI6IHRydWUsICJmaWxsQ29sb3IiOiAiI2ZmMDAwMCIsICJmaWxsT3BhY2l0eSI6IDAuNywgImZpbGxSdWxlIjogImV2ZW5vZGQiLCAibGluZUNhcCI6ICJyb3VuZCIsICJsaW5lSm9pbiI6ICJyb3VuZCIsICJvcGFjaXR5IjogMS4wLCAicmFkaXVzIjogMywgInN0cm9rZSI6IHRydWUsICJ3ZWlnaHQiOiAzfQogICAgICAgICAgICApLmFkZFRvKG1hcF8xNTA4OWMwNWJhOTM0MzA1YmY3OWVjMzg5MzIwMzU2ZSk7CiAgICAgICAgCiAgICAKICAgICAgICB2YXIgcG9wdXBfZDU5MDUxZmRkZjM4NGNiMmJkYjM5YzZmMDIzOGY4OTkgPSBMLnBvcHVwKHsibWF4V2lkdGgiOiAiMTAwJSJ9KTsKCiAgICAgICAgCiAgICAgICAgICAgIHZhciBodG1sXzBhMzRlMTIxMjViMDQxNTk5YjlmODg5ZDEzNmIzN2YwID0gJChgPGRpdiBpZD0iaHRtbF8wYTM0ZTEyMTI1YjA0MTU5OWI5Zjg4OWQxMzZiMzdmMCIgc3R5bGU9IndpZHRoOiAxMDAuMCU7IGhlaWdodDogMTAwLjAlOyI+IENsdXN0ZXIgMDwvZGl2PmApWzBdOwogICAgICAgICAgICBwb3B1cF9kNTkwNTFmZGRmMzg0Y2IyYmRiMzljNmYwMjM4Zjg5OS5zZXRDb250ZW50KGh0bWxfMGEzNGUxMjEyNWIwNDE1OTliOWY4ODlkMTM2YjM3ZjApOwogICAgICAgIAoKICAgICAgICBjaXJjbGVfbWFya2VyXzRjZjA4OGQ1NzlmMDRjYzE5NTE5M2E4NzRmM2E0MTc1LmJpbmRQb3B1cChwb3B1cF9kNTkwNTFmZGRmMzg0Y2IyYmRiMzljNmYwMjM4Zjg5OSkKICAgICAgICA7CgogICAgICAgIAogICAgCiAgICAKICAgICAgICAgICAgdmFyIGNpcmNsZV9tYXJrZXJfOGI5OWIwZWNkMzhlNGQwN2ExNTI5YWRlODFmOTFkOTUgPSBMLmNpcmNsZU1hcmtlcigKICAgICAgICAgICAgICAgIFsyOC41MjQ4NTM2MTcyMjYzNjYsIDc3LjE5MDAxMjg2NjEzOTA0XSwKICAgICAgICAgICAgICAgIHsiYnViYmxpbmdNb3VzZUV2ZW50cyI6IHRydWUsICJjb2xvciI6ICIjODBmZmI0IiwgImRhc2hBcnJheSI6IG51bGwsICJkYXNoT2Zmc2V0IjogbnVsbCwgImZpbGwiOiB0cnVlLCAiZmlsbENvbG9yIjogIiM4MGZmYjQiLCAiZmlsbE9wYWNpdHkiOiAwLjcsICJmaWxsUnVsZSI6ICJldmVub2RkIiwgImxpbmVDYXAiOiAicm91bmQiLCAibGluZUpvaW4iOiAicm91bmQiLCAib3BhY2l0eSI6IDEuMCwgInJhZGl1cyI6IDMsICJzdHJva2UiOiB0cnVlLCAid2VpZ2h0IjogM30KICAgICAgICAgICAgKS5hZGRUbyhtYXBfMTUwODljMDViYTkzNDMwNWJmNzllYzM4OTMyMDM1NmUpOwogICAgICAgIAogICAgCiAgICAgICAgdmFyIHBvcHVwXzg5MDYzNTljZDY3MjQ2M2U5MTA5YWRiMzZhZjFlYTY2ID0gTC5wb3B1cCh7Im1heFdpZHRoIjogIjEwMCUifSk7CgogICAgICAgIAogICAgICAgICAgICB2YXIgaHRtbF9lNzNmZGE0ZmY2MzE0OTBlOGM0ZDYxYWI4YWQyYThiMSA9ICQoYDxkaXYgaWQ9Imh0bWxfZTczZmRhNGZmNjMxNDkwZThjNGQ2MWFiOGFkMmE4YjEiIHN0eWxlPSJ3aWR0aDogMTAwLjAlOyBoZWlnaHQ6IDEwMC4wJTsiPiBDbHVzdGVyIDM8L2Rpdj5gKVswXTsKICAgICAgICAgICAgcG9wdXBfODkwNjM1OWNkNjcyNDYzZTkxMDlhZGIzNmFmMWVhNjYuc2V0Q29udGVudChodG1sX2U3M2ZkYTRmZjYzMTQ5MGU4YzRkNjFhYjhhZDJhOGIxKTsKICAgICAgICAKCiAgICAgICAgY2lyY2xlX21hcmtlcl84Yjk5YjBlY2QzOGU0ZDA3YTE1MjlhZGU4MWY5MWQ5NS5iaW5kUG9wdXAocG9wdXBfODkwNjM1OWNkNjcyNDYzZTkxMDlhZGIzNmFmMWVhNjYpCiAgICAgICAgOwoKICAgICAgICAKICAgIAogICAgCiAgICAgICAgICAgIHZhciBjaXJjbGVfbWFya2VyX2U5MzUzOTc1OWRlNzRkYTk4Y2E5Y2VmYzJjZjA5YTZhID0gTC5jaXJjbGVNYXJrZXIoCiAgICAgICAgICAgICAgICBbMjguNTg2NDI0LCA3Ny4zNTM5MTldLAogICAgICAgICAgICAgICAgeyJidWJibGluZ01vdXNlRXZlbnRzIjogdHJ1ZSwgImNvbG9yIjogIiNmZmIzNjAiLCAiZGFzaEFycmF5IjogbnVsbCwgImRhc2hPZmZzZXQiOiBudWxsLCAiZmlsbCI6IHRydWUsICJmaWxsQ29sb3IiOiAiI2ZmYjM2MCIsICJmaWxsT3BhY2l0eSI6IDAuNywgImZpbGxSdWxlIjogImV2ZW5vZGQiLCAibGluZUNhcCI6ICJyb3VuZCIsICJsaW5lSm9pbiI6ICJyb3VuZCIsICJvcGFjaXR5IjogMS4wLCAicmFkaXVzIjogMywgInN0cm9rZSI6IHRydWUsICJ3ZWlnaHQiOiAzfQogICAgICAgICAgICApLmFkZFRvKG1hcF8xNTA4OWMwNWJhOTM0MzA1YmY3OWVjMzg5MzIwMzU2ZSk7CiAgICAgICAgCiAgICAKICAgICAgICB2YXIgcG9wdXBfNDZhZGZiODQ3NTc5NDAzMzg5MWMyOTI5MGNmMmE2ZDggPSBMLnBvcHVwKHsibWF4V2lkdGgiOiAiMTAwJSJ9KTsKCiAgICAgICAgCiAgICAgICAgICAgIHZhciBodG1sXzY4ZjQ4ZTQ4ZTQ3MDQwNjliNTVhODYzM2MzMDQ2N2JhID0gJChgPGRpdiBpZD0iaHRtbF82OGY0OGU0OGU0NzA0MDY5YjU1YTg2MzNjMzA0NjdiYSIgc3R5bGU9IndpZHRoOiAxMDAuMCU7IGhlaWdodDogMTAwLjAlOyI+IENsdXN0ZXIgNDwvZGl2PmApWzBdOwogICAgICAgICAgICBwb3B1cF80NmFkZmI4NDc1Nzk0MDMzODkxYzI5MjkwY2YyYTZkOC5zZXRDb250ZW50KGh0bWxfNjhmNDhlNDhlNDcwNDA2OWI1NWE4NjMzYzMwNDY3YmEpOwogICAgICAgIAoKICAgICAgICBjaXJjbGVfbWFya2VyX2U5MzUzOTc1OWRlNzRkYTk4Y2E5Y2VmYzJjZjA5YTZhLmJpbmRQb3B1cChwb3B1cF80NmFkZmI4NDc1Nzk0MDMzODkxYzI5MjkwY2YyYTZkOCkKICAgICAgICA7CgogICAgICAgIAogICAgCiAgICAKICAgICAgICAgICAgdmFyIGNpcmNsZV9tYXJrZXJfNDdkMTBmZGIzMDMzNDUwYzg5ZjY2NzJlNTA2MzE4MWUgPSBMLmNpcmNsZU1hcmtlcigKICAgICAgICAgICAgICAgIFsyOC42MTI3NDIyNDQ2ODcxOCwgNzcuMjQwMzI3MjQ5OTI1MjldLAogICAgICAgICAgICAgICAgeyJidWJibGluZ01vdXNlRXZlbnRzIjogdHJ1ZSwgImNvbG9yIjogIiNmZjAwMDAiLCAiZGFzaEFycmF5IjogbnVsbCwgImRhc2hPZmZzZXQiOiBudWxsLCAiZmlsbCI6IHRydWUsICJmaWxsQ29sb3IiOiAiI2ZmMDAwMCIsICJmaWxsT3BhY2l0eSI6IDAuNywgImZpbGxSdWxlIjogImV2ZW5vZGQiLCAibGluZUNhcCI6ICJyb3VuZCIsICJsaW5lSm9pbiI6ICJyb3VuZCIsICJvcGFjaXR5IjogMS4wLCAicmFkaXVzIjogMywgInN0cm9rZSI6IHRydWUsICJ3ZWlnaHQiOiAzfQogICAgICAgICAgICApLmFkZFRvKG1hcF8xNTA4OWMwNWJhOTM0MzA1YmY3OWVjMzg5MzIwMzU2ZSk7CiAgICAgICAgCiAgICAKICAgICAgICB2YXIgcG9wdXBfOTk0ZTM1YmRjODcxNGVjOTk3MTI1Y2Y3ZjI2MzgxNzYgPSBMLnBvcHVwKHsibWF4V2lkdGgiOiAiMTAwJSJ9KTsKCiAgICAgICAgCiAgICAgICAgICAgIHZhciBodG1sXzcxODA0NmQ5NDYzMDQ4ZWZiNzAwOTMwYTUxYzMzYTdhID0gJChgPGRpdiBpZD0iaHRtbF83MTgwNDZkOTQ2MzA0OGVmYjcwMDkzMGE1MWMzM2E3YSIgc3R5bGU9IndpZHRoOiAxMDAuMCU7IGhlaWdodDogMTAwLjAlOyI+IENsdXN0ZXIgMDwvZGl2PmApWzBdOwogICAgICAgICAgICBwb3B1cF85OTRlMzViZGM4NzE0ZWM5OTcxMjVjZjdmMjYzODE3Ni5zZXRDb250ZW50KGh0bWxfNzE4MDQ2ZDk0NjMwNDhlZmI3MDA5MzBhNTFjMzNhN2EpOwogICAgICAgIAoKICAgICAgICBjaXJjbGVfbWFya2VyXzQ3ZDEwZmRiMzAzMzQ1MGM4OWY2NjcyZTUwNjMxODFlLmJpbmRQb3B1cChwb3B1cF85OTRlMzViZGM4NzE0ZWM5OTcxMjVjZjdmMjYzODE3NikKICAgICAgICA7CgogICAgICAgIAogICAgCiAgICAKICAgICAgICAgICAgdmFyIGNpcmNsZV9tYXJrZXJfOWViYWFiYzk1YzYxNDA5ZWFkNjRkNGFmMGJlNDBhYjQgPSBMLmNpcmNsZU1hcmtlcigKICAgICAgICAgICAgICAgIFsyOC41MjQ0MzMsIDc3LjE4NTQ1NV0sCiAgICAgICAgICAgICAgICB7ImJ1YmJsaW5nTW91c2VFdmVudHMiOiB0cnVlLCAiY29sb3IiOiAiIzgwZmZiNCIsICJkYXNoQXJyYXkiOiBudWxsLCAiZGFzaE9mZnNldCI6IG51bGwsICJmaWxsIjogdHJ1ZSwgImZpbGxDb2xvciI6ICIjODBmZmI0IiwgImZpbGxPcGFjaXR5IjogMC43LCAiZmlsbFJ1bGUiOiAiZXZlbm9kZCIsICJsaW5lQ2FwIjogInJvdW5kIiwgImxpbmVKb2luIjogInJvdW5kIiwgIm9wYWNpdHkiOiAxLjAsICJyYWRpdXMiOiAzLCAic3Ryb2tlIjogdHJ1ZSwgIndlaWdodCI6IDN9CiAgICAgICAgICAgICkuYWRkVG8obWFwXzE1MDg5YzA1YmE5MzQzMDViZjc5ZWMzODkzMjAzNTZlKTsKICAgICAgICAKICAgIAogICAgICAgIHZhciBwb3B1cF9iNGRkN2RmNGM5Yjk0MTE3YTMwZTk2OGJmODRhYjI1NyA9IEwucG9wdXAoeyJtYXhXaWR0aCI6ICIxMDAlIn0pOwoKICAgICAgICAKICAgICAgICAgICAgdmFyIGh0bWxfNGU4NTYzOThmNTczNDFkOTg1NGM3ZWEwNDc2ZTc4NDIgPSAkKGA8ZGl2IGlkPSJodG1sXzRlODU2Mzk4ZjU3MzQxZDk4NTRjN2VhMDQ3NmU3ODQyIiBzdHlsZT0id2lkdGg6IDEwMC4wJTsgaGVpZ2h0OiAxMDAuMCU7Ij4gQ2x1c3RlciAzPC9kaXY+YClbMF07CiAgICAgICAgICAgIHBvcHVwX2I0ZGQ3ZGY0YzliOTQxMTdhMzBlOTY4YmY4NGFiMjU3LnNldENvbnRlbnQoaHRtbF80ZTg1NjM5OGY1NzM0MWQ5ODU0YzdlYTA0NzZlNzg0Mik7CiAgICAgICAgCgogICAgICAgIGNpcmNsZV9tYXJrZXJfOWViYWFiYzk1YzYxNDA5ZWFkNjRkNGFmMGJlNDBhYjQuYmluZFBvcHVwKHBvcHVwX2I0ZGQ3ZGY0YzliOTQxMTdhMzBlOTY4YmY4NGFiMjU3KQogICAgICAgIDsKCiAgICAgICAgCiAgICAKICAgIAogICAgICAgICAgICB2YXIgY2lyY2xlX21hcmtlcl83YzZjMWM2MDhhMjQ0NGMwOGQwZjZlZTRjNjlhMDYyNSA9IEwuY2lyY2xlTWFya2VyKAogICAgICAgICAgICAgICAgWzI4LjYwNjA1NDE1ODA3OTEwNCwgNzcuMjI1NDA0MDA4NTkzNjldLAogICAgICAgICAgICAgICAgeyJidWJibGluZ01vdXNlRXZlbnRzIjogdHJ1ZSwgImNvbG9yIjogIiNmZjAwMDAiLCAiZGFzaEFycmF5IjogbnVsbCwgImRhc2hPZmZzZXQiOiBudWxsLCAiZmlsbCI6IHRydWUsICJmaWxsQ29sb3IiOiAiI2ZmMDAwMCIsICJmaWxsT3BhY2l0eSI6IDAuNywgImZpbGxSdWxlIjogImV2ZW5vZGQiLCAibGluZUNhcCI6ICJyb3VuZCIsICJsaW5lSm9pbiI6ICJyb3VuZCIsICJvcGFjaXR5IjogMS4wLCAicmFkaXVzIjogMywgInN0cm9rZSI6IHRydWUsICJ3ZWlnaHQiOiAzfQogICAgICAgICAgICApLmFkZFRvKG1hcF8xNTA4OWMwNWJhOTM0MzA1YmY3OWVjMzg5MzIwMzU2ZSk7CiAgICAgICAgCiAgICAKICAgICAgICB2YXIgcG9wdXBfNWMwNmU4ODRkODRjNDgxZjhhYzI3NzRlYmUyZGQxOTIgPSBMLnBvcHVwKHsibWF4V2lkdGgiOiAiMTAwJSJ9KTsKCiAgICAgICAgCiAgICAgICAgICAgIHZhciBodG1sXzkzYTZlMzA1ZDk1MjQyMmJiYWY0ZWE1MjJhMmJlZGY3ID0gJChgPGRpdiBpZD0iaHRtbF85M2E2ZTMwNWQ5NTI0MjJiYmFmNGVhNTIyYTJiZWRmNyIgc3R5bGU9IndpZHRoOiAxMDAuMCU7IGhlaWdodDogMTAwLjAlOyI+IENsdXN0ZXIgMDwvZGl2PmApWzBdOwogICAgICAgICAgICBwb3B1cF81YzA2ZTg4NGQ4NGM0ODFmOGFjMjc3NGViZTJkZDE5Mi5zZXRDb250ZW50KGh0bWxfOTNhNmUzMDVkOTUyNDIyYmJhZjRlYTUyMmEyYmVkZjcpOwogICAgICAgIAoKICAgICAgICBjaXJjbGVfbWFya2VyXzdjNmMxYzYwOGEyNDQ0YzA4ZDBmNmVlNGM2OWEwNjI1LmJpbmRQb3B1cChwb3B1cF81YzA2ZTg4NGQ4NGM0ODFmOGFjMjc3NGViZTJkZDE5MikKICAgICAgICA7CgogICAgICAgIAogICAgCiAgICAKICAgICAgICAgICAgdmFyIGNpcmNsZV9tYXJrZXJfMDI1NGVlOWFjOWQzNDEzNjhjYTA1ZjMwZjExZTc2NzEgPSBMLmNpcmNsZU1hcmtlcigKICAgICAgICAgICAgICAgIFsyOC41ODk3NjgsIDc3LjE5MTM1M10sCiAgICAgICAgICAgICAgICB7ImJ1YmJsaW5nTW91c2VFdmVudHMiOiB0cnVlLCAiY29sb3IiOiAiI2ZmMDAwMCIsICJkYXNoQXJyYXkiOiBudWxsLCAiZGFzaE9mZnNldCI6IG51bGwsICJmaWxsIjogdHJ1ZSwgImZpbGxDb2xvciI6ICIjZmYwMDAwIiwgImZpbGxPcGFjaXR5IjogMC43LCAiZmlsbFJ1bGUiOiAiZXZlbm9kZCIsICJsaW5lQ2FwIjogInJvdW5kIiwgImxpbmVKb2luIjogInJvdW5kIiwgIm9wYWNpdHkiOiAxLjAsICJyYWRpdXMiOiAzLCAic3Ryb2tlIjogdHJ1ZSwgIndlaWdodCI6IDN9CiAgICAgICAgICAgICkuYWRkVG8obWFwXzE1MDg5YzA1YmE5MzQzMDViZjc5ZWMzODkzMjAzNTZlKTsKICAgICAgICAKICAgIAogICAgICAgIHZhciBwb3B1cF9jNGYwNjc2MWI1ZDg0MTljYTVjNDJhZDc3OGIxNzBkYyA9IEwucG9wdXAoeyJtYXhXaWR0aCI6ICIxMDAlIn0pOwoKICAgICAgICAKICAgICAgICAgICAgdmFyIGh0bWxfY2U3NTIwZDU5N2Y5NGM5OWFhYTM1NDVhNzZmOTg1ZTcgPSAkKGA8ZGl2IGlkPSJodG1sX2NlNzUyMGQ1OTdmOTRjOTlhYWEzNTQ1YTc2Zjk4NWU3IiBzdHlsZT0id2lkdGg6IDEwMC4wJTsgaGVpZ2h0OiAxMDAuMCU7Ij4gQ2x1c3RlciAwPC9kaXY+YClbMF07CiAgICAgICAgICAgIHBvcHVwX2M0ZjA2NzYxYjVkODQxOWNhNWM0MmFkNzc4YjE3MGRjLnNldENvbnRlbnQoaHRtbF9jZTc1MjBkNTk3Zjk0Yzk5YWFhMzU0NWE3NmY5ODVlNyk7CiAgICAgICAgCgogICAgICAgIGNpcmNsZV9tYXJrZXJfMDI1NGVlOWFjOWQzNDEzNjhjYTA1ZjMwZjExZTc2NzEuYmluZFBvcHVwKHBvcHVwX2M0ZjA2NzYxYjVkODQxOWNhNWM0MmFkNzc4YjE3MGRjKQogICAgICAgIDsKCiAgICAgICAgCiAgICAKICAgIAogICAgICAgICAgICB2YXIgY2lyY2xlX21hcmtlcl85YzU3NTdkMGFkYWE0NDMwOThjNTVkNGY3NDhlNTIzMiA9IEwuY2lyY2xlTWFya2VyKAogICAgICAgICAgICAgICAgWzI4LjU5NDkxMjkyMDUwNDEwNCwgNzcuMjIwMjQ3ODU0OTY2NzddLAogICAgICAgICAgICAgICAgeyJidWJibGluZ01vdXNlRXZlbnRzIjogdHJ1ZSwgImNvbG9yIjogIiNmZjAwMDAiLCAiZGFzaEFycmF5IjogbnVsbCwgImRhc2hPZmZzZXQiOiBudWxsLCAiZmlsbCI6IHRydWUsICJmaWxsQ29sb3IiOiAiI2ZmMDAwMCIsICJmaWxsT3BhY2l0eSI6IDAuNywgImZpbGxSdWxlIjogImV2ZW5vZGQiLCAibGluZUNhcCI6ICJyb3VuZCIsICJsaW5lSm9pbiI6ICJyb3VuZCIsICJvcGFjaXR5IjogMS4wLCAicmFkaXVzIjogMywgInN0cm9rZSI6IHRydWUsICJ3ZWlnaHQiOiAzfQogICAgICAgICAgICApLmFkZFRvKG1hcF8xNTA4OWMwNWJhOTM0MzA1YmY3OWVjMzg5MzIwMzU2ZSk7CiAgICAgICAgCiAgICAKICAgICAgICB2YXIgcG9wdXBfYjRlMjBiMTA4MmI3NDYwZTg5MDQ3MTE4MDAwMGI1MjQgPSBMLnBvcHVwKHsibWF4V2lkdGgiOiAiMTAwJSJ9KTsKCiAgICAgICAgCiAgICAgICAgICAgIHZhciBodG1sXzhlYTcxN2RjODZmMjQ4OGViMGNkMTY2ZmZiYWE3NzE5ID0gJChgPGRpdiBpZD0iaHRtbF84ZWE3MTdkYzg2ZjI0ODhlYjBjZDE2NmZmYmFhNzcxOSIgc3R5bGU9IndpZHRoOiAxMDAuMCU7IGhlaWdodDogMTAwLjAlOyI+IENsdXN0ZXIgMDwvZGl2PmApWzBdOwogICAgICAgICAgICBwb3B1cF9iNGUyMGIxMDgyYjc0NjBlODkwNDcxMTgwMDAwYjUyNC5zZXRDb250ZW50KGh0bWxfOGVhNzE3ZGM4NmYyNDg4ZWIwY2QxNjZmZmJhYTc3MTkpOwogICAgICAgIAoKICAgICAgICBjaXJjbGVfbWFya2VyXzljNTc1N2QwYWRhYTQ0MzA5OGM1NWQ0Zjc0OGU1MjMyLmJpbmRQb3B1cChwb3B1cF9iNGUyMGIxMDgyYjc0NjBlODkwNDcxMTgwMDAwYjUyNCkKICAgICAgICA7CgogICAgICAgIAogICAgCiAgICAKICAgICAgICAgICAgdmFyIGNpcmNsZV9tYXJrZXJfZWI0OTBmMTIwMTQ5NDM2NjkzNWI1OGVmM2EwYmZiMDUgPSBMLmNpcmNsZU1hcmtlcigKICAgICAgICAgICAgICAgIFsyOC42MTE2OTA1Njg5NTgxMDcsIDc3LjIyNDU4NzM1OTM0MzMzXSwKICAgICAgICAgICAgICAgIHsiYnViYmxpbmdNb3VzZUV2ZW50cyI6IHRydWUsICJjb2xvciI6ICIjZmYwMDAwIiwgImRhc2hBcnJheSI6IG51bGwsICJkYXNoT2Zmc2V0IjogbnVsbCwgImZpbGwiOiB0cnVlLCAiZmlsbENvbG9yIjogIiNmZjAwMDAiLCAiZmlsbE9wYWNpdHkiOiAwLjcsICJmaWxsUnVsZSI6ICJldmVub2RkIiwgImxpbmVDYXAiOiAicm91bmQiLCAibGluZUpvaW4iOiAicm91bmQiLCAib3BhY2l0eSI6IDEuMCwgInJhZGl1cyI6IDMsICJzdHJva2UiOiB0cnVlLCAid2VpZ2h0IjogM30KICAgICAgICAgICAgKS5hZGRUbyhtYXBfMTUwODljMDViYTkzNDMwNWJmNzllYzM4OTMyMDM1NmUpOwogICAgICAgIAogICAgCiAgICAgICAgdmFyIHBvcHVwXzgzMDFkOTQ5Yzk3ZDQyMjRhYjViOGIyM2EwYTk0YzFiID0gTC5wb3B1cCh7Im1heFdpZHRoIjogIjEwMCUifSk7CgogICAgICAgIAogICAgICAgICAgICB2YXIgaHRtbF9jZDcyNzg2MzU4NzY0MmFhODhiN2E3ZWJmMzU0NDZjOSA9ICQoYDxkaXYgaWQ9Imh0bWxfY2Q3Mjc4NjM1ODc2NDJhYTg4YjdhN2ViZjM1NDQ2YzkiIHN0eWxlPSJ3aWR0aDogMTAwLjAlOyBoZWlnaHQ6IDEwMC4wJTsiPiBDbHVzdGVyIDA8L2Rpdj5gKVswXTsKICAgICAgICAgICAgcG9wdXBfODMwMWQ5NDljOTdkNDIyNGFiNWI4YjIzYTBhOTRjMWIuc2V0Q29udGVudChodG1sX2NkNzI3ODYzNTg3NjQyYWE4OGI3YTdlYmYzNTQ0NmM5KTsKICAgICAgICAKCiAgICAgICAgY2lyY2xlX21hcmtlcl9lYjQ5MGYxMjAxNDk0MzY2OTM1YjU4ZWYzYTBiZmIwNS5iaW5kUG9wdXAocG9wdXBfODMwMWQ5NDljOTdkNDIyNGFiNWI4YjIzYTBhOTRjMWIpCiAgICAgICAgOwoKICAgICAgICAKICAgIAogICAgCiAgICAgICAgICAgIHZhciBjaXJjbGVfbWFya2VyXzFhNjg1NjIwYjQ4ZjQ0OTg4YTZjN2U4ZGJhNmMwZjZkID0gTC5jaXJjbGVNYXJrZXIoCiAgICAgICAgICAgICAgICBbMjguNTM2NDk4NTIwMTQwMzIsIDc3LjE5ODQ1ODEwNDI1MTY5XSwKICAgICAgICAgICAgICAgIHsiYnViYmxpbmdNb3VzZUV2ZW50cyI6IHRydWUsICJjb2xvciI6ICIjODBmZmI0IiwgImRhc2hBcnJheSI6IG51bGwsICJkYXNoT2Zmc2V0IjogbnVsbCwgImZpbGwiOiB0cnVlLCAiZmlsbENvbG9yIjogIiM4MGZmYjQiLCAiZmlsbE9wYWNpdHkiOiAwLjcsICJmaWxsUnVsZSI6ICJldmVub2RkIiwgImxpbmVDYXAiOiAicm91bmQiLCAibGluZUpvaW4iOiAicm91bmQiLCAib3BhY2l0eSI6IDEuMCwgInJhZGl1cyI6IDMsICJzdHJva2UiOiB0cnVlLCAid2VpZ2h0IjogM30KICAgICAgICAgICAgKS5hZGRUbyhtYXBfMTUwODljMDViYTkzNDMwNWJmNzllYzM4OTMyMDM1NmUpOwogICAgICAgIAogICAgCiAgICAgICAgdmFyIHBvcHVwXzYwMDBlNzUwZWZiMzQ0YzNhOGRkN2I1MzcyYmQ0MzNmID0gTC5wb3B1cCh7Im1heFdpZHRoIjogIjEwMCUifSk7CgogICAgICAgIAogICAgICAgICAgICB2YXIgaHRtbF80YjM3N2M1YzQ1OTU0YjFmOWFkODMzMWQwMWJmNzE5YSA9ICQoYDxkaXYgaWQ9Imh0bWxfNGIzNzdjNWM0NTk1NGIxZjlhZDgzMzFkMDFiZjcxOWEiIHN0eWxlPSJ3aWR0aDogMTAwLjAlOyBoZWlnaHQ6IDEwMC4wJTsiPiBDbHVzdGVyIDM8L2Rpdj5gKVswXTsKICAgICAgICAgICAgcG9wdXBfNjAwMGU3NTBlZmIzNDRjM2E4ZGQ3YjUzNzJiZDQzM2Yuc2V0Q29udGVudChodG1sXzRiMzc3YzVjNDU5NTRiMWY5YWQ4MzMxZDAxYmY3MTlhKTsKICAgICAgICAKCiAgICAgICAgY2lyY2xlX21hcmtlcl8xYTY4NTYyMGI0OGY0NDk4OGE2YzdlOGRiYTZjMGY2ZC5iaW5kUG9wdXAocG9wdXBfNjAwMGU3NTBlZmIzNDRjM2E4ZGQ3YjUzNzJiZDQzM2YpCiAgICAgICAgOwoKICAgICAgICAKICAgIAogICAgCiAgICAgICAgICAgIHZhciBjaXJjbGVfbWFya2VyXzlkOThkNzA0MDU2MTQ1ZWQ4ZjZmYWI3ZjVmMzE5ZWE0ID0gTC5jaXJjbGVNYXJrZXIoCiAgICAgICAgICAgICAgICBbMjguMzg1NzI4LCA3Ny4zMTMwNzhdLAogICAgICAgICAgICAgICAgeyJidWJibGluZ01vdXNlRXZlbnRzIjogdHJ1ZSwgImNvbG9yIjogIiM4MDAwZmYiLCAiZGFzaEFycmF5IjogbnVsbCwgImRhc2hPZmZzZXQiOiBudWxsLCAiZmlsbCI6IHRydWUsICJmaWxsQ29sb3IiOiAiIzgwMDBmZiIsICJmaWxsT3BhY2l0eSI6IDAuNywgImZpbGxSdWxlIjogImV2ZW5vZGQiLCAibGluZUNhcCI6ICJyb3VuZCIsICJsaW5lSm9pbiI6ICJyb3VuZCIsICJvcGFjaXR5IjogMS4wLCAicmFkaXVzIjogMywgInN0cm9rZSI6IHRydWUsICJ3ZWlnaHQiOiAzfQogICAgICAgICAgICApLmFkZFRvKG1hcF8xNTA4OWMwNWJhOTM0MzA1YmY3OWVjMzg5MzIwMzU2ZSk7CiAgICAgICAgCiAgICAKICAgICAgICB2YXIgcG9wdXBfZTFjMDcwOWI1OWY3NDU1OTgzNjA2OTliNGRkYmQ3YjAgPSBMLnBvcHVwKHsibWF4V2lkdGgiOiAiMTAwJSJ9KTsKCiAgICAgICAgCiAgICAgICAgICAgIHZhciBodG1sXzhlZDM2YTc1ZTUyMDQxNDE5NDFkMjU4YmFlOTcxNjhhID0gJChgPGRpdiBpZD0iaHRtbF84ZWQzNmE3NWU1MjA0MTQxOTQxZDI1OGJhZTk3MTY4YSIgc3R5bGU9IndpZHRoOiAxMDAuMCU7IGhlaWdodDogMTAwLjAlOyI+IENsdXN0ZXIgMTwvZGl2PmApWzBdOwogICAgICAgICAgICBwb3B1cF9lMWMwNzA5YjU5Zjc0NTU5ODM2MDY5OWI0ZGRiZDdiMC5zZXRDb250ZW50KGh0bWxfOGVkMzZhNzVlNTIwNDE0MTk0MWQyNThiYWU5NzE2OGEpOwogICAgICAgIAoKICAgICAgICBjaXJjbGVfbWFya2VyXzlkOThkNzA0MDU2MTQ1ZWQ4ZjZmYWI3ZjVmMzE5ZWE0LmJpbmRQb3B1cChwb3B1cF9lMWMwNzA5YjU5Zjc0NTU5ODM2MDY5OWI0ZGRiZDdiMCkKICAgICAgICA7CgogICAgICAgIAogICAgCiAgICAKICAgICAgICAgICAgdmFyIGNpcmNsZV9tYXJrZXJfNWRlMGQ4YTc5YTIxNDYzNDkzNTFmMmY5ODBjZjY3ODUgPSBMLmNpcmNsZU1hcmtlcigKICAgICAgICAgICAgICAgIFsyOC42NDYwOTg5Njk5ODEyOCwgNzcuMjIzOTQxMDg3NzIyNzhdLAogICAgICAgICAgICAgICAgeyJidWJibGluZ01vdXNlRXZlbnRzIjogdHJ1ZSwgImNvbG9yIjogIiNmZjAwMDAiLCAiZGFzaEFycmF5IjogbnVsbCwgImRhc2hPZmZzZXQiOiBudWxsLCAiZmlsbCI6IHRydWUsICJmaWxsQ29sb3IiOiAiI2ZmMDAwMCIsICJmaWxsT3BhY2l0eSI6IDAuNywgImZpbGxSdWxlIjogImV2ZW5vZGQiLCAibGluZUNhcCI6ICJyb3VuZCIsICJsaW5lSm9pbiI6ICJyb3VuZCIsICJvcGFjaXR5IjogMS4wLCAicmFkaXVzIjogMywgInN0cm9rZSI6IHRydWUsICJ3ZWlnaHQiOiAzfQogICAgICAgICAgICApLmFkZFRvKG1hcF8xNTA4OWMwNWJhOTM0MzA1YmY3OWVjMzg5MzIwMzU2ZSk7CiAgICAgICAgCiAgICAKICAgICAgICB2YXIgcG9wdXBfYmYyODg4N2Q0NDU1NDkzNmEyYTY2OTFmNjVjYjljNDkgPSBMLnBvcHVwKHsibWF4V2lkdGgiOiAiMTAwJSJ9KTsKCiAgICAgICAgCiAgICAgICAgICAgIHZhciBodG1sX2QyNTJhOGY5YjQ3YjQ4MjFiMTJlOTg1MmE0MzkwMGRlID0gJChgPGRpdiBpZD0iaHRtbF9kMjUyYThmOWI0N2I0ODIxYjEyZTk4NTJhNDM5MDBkZSIgc3R5bGU9IndpZHRoOiAxMDAuMCU7IGhlaWdodDogMTAwLjAlOyI+IENsdXN0ZXIgMDwvZGl2PmApWzBdOwogICAgICAgICAgICBwb3B1cF9iZjI4ODg3ZDQ0NTU0OTM2YTJhNjY5MWY2NWNiOWM0OS5zZXRDb250ZW50KGh0bWxfZDI1MmE4ZjliNDdiNDgyMWIxMmU5ODUyYTQzOTAwZGUpOwogICAgICAgIAoKICAgICAgICBjaXJjbGVfbWFya2VyXzVkZTBkOGE3OWEyMTQ2MzQ5MzUxZjJmOTgwY2Y2Nzg1LmJpbmRQb3B1cChwb3B1cF9iZjI4ODg3ZDQ0NTU0OTM2YTJhNjY5MWY2NWNiOWM0OSkKICAgICAgICA7CgogICAgICAgIAogICAgCiAgICAKICAgICAgICAgICAgdmFyIGNpcmNsZV9tYXJrZXJfYjM4YTg4ZTRmMzY3NGExNTlhZmIxZjVlOTEyMGQxN2MgPSBMLmNpcmNsZU1hcmtlcigKICAgICAgICAgICAgICAgIFsyOC42Mjc3MzA3NjI0MDA2ODgsIDc3LjIxNjQzNTkyMDgwMzk3XSwKICAgICAgICAgICAgICAgIHsiYnViYmxpbmdNb3VzZUV2ZW50cyI6IHRydWUsICJjb2xvciI6ICIjZmYwMDAwIiwgImRhc2hBcnJheSI6IG51bGwsICJkYXNoT2Zmc2V0IjogbnVsbCwgImZpbGwiOiB0cnVlLCAiZmlsbENvbG9yIjogIiNmZjAwMDAiLCAiZmlsbE9wYWNpdHkiOiAwLjcsICJmaWxsUnVsZSI6ICJldmVub2RkIiwgImxpbmVDYXAiOiAicm91bmQiLCAibGluZUpvaW4iOiAicm91bmQiLCAib3BhY2l0eSI6IDEuMCwgInJhZGl1cyI6IDMsICJzdHJva2UiOiB0cnVlLCAid2VpZ2h0IjogM30KICAgICAgICAgICAgKS5hZGRUbyhtYXBfMTUwODljMDViYTkzNDMwNWJmNzllYzM4OTMyMDM1NmUpOwogICAgICAgIAogICAgCiAgICAgICAgdmFyIHBvcHVwXzU1ZTA2MGRmOGU4ZTRkNmNiODA5ZmMwYmVkMWIwMmE0ID0gTC5wb3B1cCh7Im1heFdpZHRoIjogIjEwMCUifSk7CgogICAgICAgIAogICAgICAgICAgICB2YXIgaHRtbF82YTM5YzI3ZmYyOTg0NWVjOTc3Yjk4MGVlNGZkNjAyNiA9ICQoYDxkaXYgaWQ9Imh0bWxfNmEzOWMyN2ZmMjk4NDVlYzk3N2I5ODBlZTRmZDYwMjYiIHN0eWxlPSJ3aWR0aDogMTAwLjAlOyBoZWlnaHQ6IDEwMC4wJTsiPiBDbHVzdGVyIDA8L2Rpdj5gKVswXTsKICAgICAgICAgICAgcG9wdXBfNTVlMDYwZGY4ZThlNGQ2Y2I4MDlmYzBiZWQxYjAyYTQuc2V0Q29udGVudChodG1sXzZhMzljMjdmZjI5ODQ1ZWM5NzdiOTgwZWU0ZmQ2MDI2KTsKICAgICAgICAKCiAgICAgICAgY2lyY2xlX21hcmtlcl9iMzhhODhlNGYzNjc0YTE1OWFmYjFmNWU5MTIwZDE3Yy5iaW5kUG9wdXAocG9wdXBfNTVlMDYwZGY4ZThlNGQ2Y2I4MDlmYzBiZWQxYjAyYTQpCiAgICAgICAgOwoKICAgICAgICAKICAgIAogICAgCiAgICAgICAgICAgIHZhciBjaXJjbGVfbWFya2VyX2QzMjgzZGE1MDUyNDQwYjFhNDg1NjY5ODYwYjNhM2JhID0gTC5jaXJjbGVNYXJrZXIoCiAgICAgICAgICAgICAgICBbMjguNjIzOTEyLCA3Ny4yNDA2NDldLAogICAgICAgICAgICAgICAgeyJidWJibGluZ01vdXNlRXZlbnRzIjogdHJ1ZSwgImNvbG9yIjogIiNmZjAwMDAiLCAiZGFzaEFycmF5IjogbnVsbCwgImRhc2hPZmZzZXQiOiBudWxsLCAiZmlsbCI6IHRydWUsICJmaWxsQ29sb3IiOiAiI2ZmMDAwMCIsICJmaWxsT3BhY2l0eSI6IDAuNywgImZpbGxSdWxlIjogImV2ZW5vZGQiLCAibGluZUNhcCI6ICJyb3VuZCIsICJsaW5lSm9pbiI6ICJyb3VuZCIsICJvcGFjaXR5IjogMS4wLCAicmFkaXVzIjogMywgInN0cm9rZSI6IHRydWUsICJ3ZWlnaHQiOiAzfQogICAgICAgICAgICApLmFkZFRvKG1hcF8xNTA4OWMwNWJhOTM0MzA1YmY3OWVjMzg5MzIwMzU2ZSk7CiAgICAgICAgCiAgICAKICAgICAgICB2YXIgcG9wdXBfYzY5OGU5NTg1NGQ2NGExMjhkMmI4YjU3MmFiODNiZmYgPSBMLnBvcHVwKHsibWF4V2lkdGgiOiAiMTAwJSJ9KTsKCiAgICAgICAgCiAgICAgICAgICAgIHZhciBodG1sXzkzZDc2ZWE3ZDk0NzRkZmFiZjU5NTc4NDBjZDRiYmNhID0gJChgPGRpdiBpZD0iaHRtbF85M2Q3NmVhN2Q5NDc0ZGZhYmY1OTU3ODQwY2Q0YmJjYSIgc3R5bGU9IndpZHRoOiAxMDAuMCU7IGhlaWdodDogMTAwLjAlOyI+IENsdXN0ZXIgMDwvZGl2PmApWzBdOwogICAgICAgICAgICBwb3B1cF9jNjk4ZTk1ODU0ZDY0YTEyOGQyYjhiNTcyYWI4M2JmZi5zZXRDb250ZW50KGh0bWxfOTNkNzZlYTdkOTQ3NGRmYWJmNTk1Nzg0MGNkNGJiY2EpOwogICAgICAgIAoKICAgICAgICBjaXJjbGVfbWFya2VyX2QzMjgzZGE1MDUyNDQwYjFhNDg1NjY5ODYwYjNhM2JhLmJpbmRQb3B1cChwb3B1cF9jNjk4ZTk1ODU0ZDY0YTEyOGQyYjhiNTcyYWI4M2JmZikKICAgICAgICA7CgogICAgICAgIAogICAgCiAgICAKICAgICAgICAgICAgdmFyIGNpcmNsZV9tYXJrZXJfZWEzMDMwOWQxYTIxNDMyNGI0ZTRkZmE5ODMzNGI5MzggPSBMLmNpcmNsZU1hcmtlcigKICAgICAgICAgICAgICAgIFsyOC42NjE1MDQwOTE5OTUxNywgNzcuMjE4NTA3NTE3MzYwOTJdLAogICAgICAgICAgICAgICAgeyJidWJibGluZ01vdXNlRXZlbnRzIjogdHJ1ZSwgImNvbG9yIjogIiNmZjAwMDAiLCAiZGFzaEFycmF5IjogbnVsbCwgImRhc2hPZmZzZXQiOiBudWxsLCAiZmlsbCI6IHRydWUsICJmaWxsQ29sb3IiOiAiI2ZmMDAwMCIsICJmaWxsT3BhY2l0eSI6IDAuNywgImZpbGxSdWxlIjogImV2ZW5vZGQiLCAibGluZUNhcCI6ICJyb3VuZCIsICJsaW5lSm9pbiI6ICJyb3VuZCIsICJvcGFjaXR5IjogMS4wLCAicmFkaXVzIjogMywgInN0cm9rZSI6IHRydWUsICJ3ZWlnaHQiOiAzfQogICAgICAgICAgICApLmFkZFRvKG1hcF8xNTA4OWMwNWJhOTM0MzA1YmY3OWVjMzg5MzIwMzU2ZSk7CiAgICAgICAgCiAgICAKICAgICAgICB2YXIgcG9wdXBfMTNhYWI2MTBhYmJmNDUwMzkzY2VmZWRlNDQwMWJkYzIgPSBMLnBvcHVwKHsibWF4V2lkdGgiOiAiMTAwJSJ9KTsKCiAgICAgICAgCiAgICAgICAgICAgIHZhciBodG1sX2JhMjYwNTE4ZWQ3NzRjOTc4MDliYjBiMzVmYTA4MmFlID0gJChgPGRpdiBpZD0iaHRtbF9iYTI2MDUxOGVkNzc0Yzk3ODA5YmIwYjM1ZmEwODJhZSIgc3R5bGU9IndpZHRoOiAxMDAuMCU7IGhlaWdodDogMTAwLjAlOyI+IENsdXN0ZXIgMDwvZGl2PmApWzBdOwogICAgICAgICAgICBwb3B1cF8xM2FhYjYxMGFiYmY0NTAzOTNjZWZlZGU0NDAxYmRjMi5zZXRDb250ZW50KGh0bWxfYmEyNjA1MThlZDc3NGM5NzgwOWJiMGIzNWZhMDgyYWUpOwogICAgICAgIAoKICAgICAgICBjaXJjbGVfbWFya2VyX2VhMzAzMDlkMWEyMTQzMjRiNGU0ZGZhOTgzMzRiOTM4LmJpbmRQb3B1cChwb3B1cF8xM2FhYjYxMGFiYmY0NTAzOTNjZWZlZGU0NDAxYmRjMikKICAgICAgICA7CgogICAgICAgIAogICAgCjwvc2NyaXB0Pg== onload=\"this.contentDocument.open();this.contentDocument.write(atob(this.getAttribute('data-html')));this.contentDocument.close();\" allowfullscreen webkitallowfullscreen mozallowfullscreen></iframe></div></div>"
      ],
      "text/plain": [
       "<folium.folium.Map at 0x1bc11da1488>"
      ]
     },
     "execution_count": 16,
     "metadata": {},
     "output_type": "execute_result"
    }
   ],
   "source": [
    "# create map\n",
    "map_clusters = folium.Map(location=[latitude,longitude],zoom_start=10)\n",
    "\n",
    "# set color scheme for the clusters\n",
    "x = np.arange(k)\n",
    "ys = [i + x + (i*x)**2 for i in range(k)]\n",
    "colors_array = cm.rainbow(np.linspace(0, 1, len(ys)))\n",
    "rainbow = [colors.rgb2hex(i) for i in colors_array]\n",
    "\n",
    "# add markers to the map\n",
    "markers_colors = []\n",
    "for lat, lon, neighbourhood, cluster in zip(address_venues['Venue Latitude'], address_venues['Venue Longitude'], address_venues['Venue'], address_venues['Cluster Labels']):\n",
    "    label = folium.Popup(' Cluster ' + str(cluster), parse_html=True)\n",
    "    folium.CircleMarker(\n",
    "        [lat, lon],\n",
    "        radius=3,\n",
    "        popup=label,\n",
    "        color=rainbow[cluster-1],\n",
    "        fill=True,\n",
    "        fill_color=rainbow[cluster-1],\n",
    "        fill_opacity=0.7).add_to(map_clusters)\n",
    "       \n",
    "map_clusters"
   ]
  },
  {
   "cell_type": "markdown",
   "metadata": {},
   "source": [
    "# Converting the coordinates into a dataframe"
   ]
  },
  {
   "cell_type": "code",
   "execution_count": 17,
   "metadata": {},
   "outputs": [
    {
     "data": {
      "text/html": [
       "<div>\n",
       "<style scoped>\n",
       "    .dataframe tbody tr th:only-of-type {\n",
       "        vertical-align: middle;\n",
       "    }\n",
       "\n",
       "    .dataframe tbody tr th {\n",
       "        vertical-align: top;\n",
       "    }\n",
       "\n",
       "    .dataframe thead th {\n",
       "        text-align: right;\n",
       "    }\n",
       "</style>\n",
       "<table border=\"1\" class=\"dataframe\">\n",
       "  <thead>\n",
       "    <tr style=\"text-align: right;\">\n",
       "      <th></th>\n",
       "      <th>Venue</th>\n",
       "      <th>Venue Category</th>\n",
       "      <th>Day</th>\n",
       "    </tr>\n",
       "  </thead>\n",
       "  <tbody>\n",
       "    <tr>\n",
       "      <th>0</th>\n",
       "      <td>Rashtrapati Bhavan | राष्ट्रपति भवन (Rashtrapa...</td>\n",
       "      <td>Monument / Landmark</td>\n",
       "      <td>1</td>\n",
       "    </tr>\n",
       "    <tr>\n",
       "      <th>1</th>\n",
       "      <td>Jantar Mantar</td>\n",
       "      <td>Historic Site</td>\n",
       "      <td>1</td>\n",
       "    </tr>\n",
       "    <tr>\n",
       "      <th>2</th>\n",
       "      <td>Ajmeri Gate</td>\n",
       "      <td>Monument / Landmark</td>\n",
       "      <td>1</td>\n",
       "    </tr>\n",
       "    <tr>\n",
       "      <th>3</th>\n",
       "      <td>ARCHAELOGICAL SURVEY OF INDIA (A.S.I)</td>\n",
       "      <td>Monument / Landmark</td>\n",
       "      <td>1</td>\n",
       "    </tr>\n",
       "    <tr>\n",
       "      <th>4</th>\n",
       "      <td>Bada Gumbad</td>\n",
       "      <td>Monument / Landmark</td>\n",
       "      <td>1</td>\n",
       "    </tr>\n",
       "  </tbody>\n",
       "</table>\n",
       "</div>"
      ],
      "text/plain": [
       "                                               Venue       Venue Category  Day\n",
       "0  Rashtrapati Bhavan | राष्ट्रपति भवन (Rashtrapa...  Monument / Landmark    1\n",
       "1                                      Jantar Mantar        Historic Site    1\n",
       "2                                        Ajmeri Gate  Monument / Landmark    1\n",
       "3              ARCHAELOGICAL SURVEY OF INDIA (A.S.I)  Monument / Landmark    1\n",
       "4                                        Bada Gumbad  Monument / Landmark    1"
      ]
     },
     "execution_count": 17,
     "metadata": {},
     "output_type": "execute_result"
    }
   ],
   "source": [
    "final_address_venue = address_venues[['Venue','Venue Category','Cluster Labels']].sort_values(by =['Cluster Labels']).reset_index()\n",
    "final_address_venue = final_address_venue.drop(['index'],axis =1)\n",
    "final_address_venue = final_address_venue.rename(columns = {'Cluster Labels':'Day'})\n",
    "final_address_venue['Day'] += 1\n",
    "final_address_venue.head()"
   ]
  },
  {
   "cell_type": "markdown",
   "metadata": {},
   "source": [
    " "
   ]
  },
  {
   "cell_type": "code",
   "execution_count": 18,
   "metadata": {},
   "outputs": [],
   "source": [
    "final_address_venue.to_csv(r'final_df.csv')     #saving dataframe as a csv file in the directory"
   ]
  },
  {
   "cell_type": "markdown",
   "metadata": {},
   "source": [
    "#### With the help of  this approach, one can easily decide where to and when to visit in their vacation based on their location and the number of days of vacation\n",
    "\n",
    "# Thank You"
   ]
  }
 ],
 "metadata": {
  "kernelspec": {
   "display_name": "Python 3",
   "language": "python",
   "name": "python3"
  },
  "language_info": {
   "codemirror_mode": {
    "name": "ipython",
    "version": 3
   },
   "file_extension": ".py",
   "mimetype": "text/x-python",
   "name": "python",
   "nbconvert_exporter": "python",
   "pygments_lexer": "ipython3",
   "version": "3.7.4"
  }
 },
 "nbformat": 4,
 "nbformat_minor": 2
}
