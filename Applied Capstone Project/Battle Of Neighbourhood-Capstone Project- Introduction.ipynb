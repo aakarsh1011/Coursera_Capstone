{
 "cells": [
  {
   "cell_type": "markdown",
   "metadata": {},
   "source": [
    "# Introduction\n",
    "\n",
    "Whenever we go on a vacation, the biggest problem apart from deciding the location is to decide which places to visit and in which order to make most of the day. We all start browsing internet and noting all the venues or try to remember all the desinations. All this effort makes it long and hard, sometimes this work overwhelms the user and leads to procastination and the vacation never arrives. This project aims to help and avoid this confusion and reduce the efforts made to plan a holiday.\n",
    "\n",
    "\n",
    "# Problem\n",
    "\n",
    "\n",
    "I have been in New Delhi for only 1 year and want to visit some famous places and landmarks in New Delhi. I asked a lot of people and got differnt opinions which made me even more confused. I have only 5 days of holidays which I want to utilize in exploring New Delhi.\n",
    "\n",
    "\n",
    "# Target Audience:\n",
    "\n",
    "Anyone who is visiting a new place and not able to decide in which order or what places to visit, can get help from this project. With any number of vacation it can divide the venues accordingly and give you a dataframe with details of the famous venues in that particular area and the day you should visit it."
   ]
  }
 ],
 "metadata": {
  "kernelspec": {
   "display_name": "Python 3",
   "language": "python",
   "name": "python3"
  },
  "language_info": {
   "codemirror_mode": {
    "name": "ipython",
    "version": 3
   },
   "file_extension": ".py",
   "mimetype": "text/x-python",
   "name": "python",
   "nbconvert_exporter": "python",
   "pygments_lexer": "ipython3",
   "version": "3.7.4"
  }
 },
 "nbformat": 4,
 "nbformat_minor": 2
}
