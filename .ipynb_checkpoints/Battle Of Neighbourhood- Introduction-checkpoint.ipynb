{
 "cells": [
  {
   "cell_type": "markdown",
   "metadata": {},
   "source": [
    "# Introduction\n",
    "\n",
    "The city of New Delhi, is the capital region of India. It is diverse and one of the metropolitical city of India. People from different states and country visits New Delhi for work or from leisure purposes, hence can be considered as multicultural. It provides lot of business opportunities and business friendly environment. It has attracted many different players into the market. It is one of the hub of business and commerce in India. As it is highly developed city so cost of doing business is also one of the highest. Thus, any new business venture or expansion needs to be analysed carefully. The insights derived from analysis will give good understanding of the business environment which help in strategically targeting the market. This will help in reduction of risk. And the Return on Investment will be reasonable.\n",
    "\n",
    "\n",
    "# Business problem\n",
    "\n",
    "The City of New Delhi is famous for its excelllent cuisine. It's food culture includes an array of international cuisines influenced by the city's immigrant history.\n",
    "\n",
    "Northeast Indian cusine 'momos' have become so popular in the New Delhi now it seems that there is one on every corner, not only in major cities but also in smaller cities. Starting a restaurant can be a great business opportunity, but you need to distinguish yourself from others to enjoy long-term success.\n",
    "\n",
    "# Target Audience:\n",
    "\n",
    "My Client wants to open his restaurant business in South Delhi area, so I only focus on that borough during my analysis. The objective is to locate and recommend to the management which neighborhood of New Delhi city will be best choice to start a restaurant. The Management also expects to understand the rationale of the recommendations made.\n",
    "\n",
    "This would interest anyone who wants to start a new restaurant in New Delhi.\n"
   ]
  },
  {
   "cell_type": "code",
   "execution_count": null,
   "metadata": {},
   "outputs": [],
   "source": []
  }
 ],
 "metadata": {
  "kernelspec": {
   "display_name": "Python 3",
   "language": "python",
   "name": "python3"
  },
  "language_info": {
   "codemirror_mode": {
    "name": "ipython",
    "version": 3
   },
   "file_extension": ".py",
   "mimetype": "text/x-python",
   "name": "python",
   "nbconvert_exporter": "python",
   "pygments_lexer": "ipython3",
   "version": "3.7.4"
  }
 },
 "nbformat": 4,
 "nbformat_minor": 2
}
