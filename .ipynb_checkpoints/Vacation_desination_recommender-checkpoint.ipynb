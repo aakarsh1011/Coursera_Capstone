{
 "cells": [
  {
   "cell_type": "code",
   "execution_count": 1,
   "metadata": {},
   "outputs": [],
   "source": [
    "import pandas as pd\n",
    "from geopy import geocoders\n",
    "import folium\n",
    "from sklearn.cluster import KMeans\n",
    "import requests\n",
    "import numpy as np\n",
    "import matplotlib.cm as cm\n",
    "import matplotlib.colors as colors\n",
    "import matplotlib.pyplot as plt"
   ]
  },
  {
   "cell_type": "code",
   "execution_count": 2,
   "metadata": {},
   "outputs": [],
   "source": [
    "#assigning number of days to tour also the number of clusters\n",
    "k = 5\n",
    "address = 'New Delhi'\n",
    "geolocator = geocoders.Nominatim(user_agent='Delhi_explorer')\n",
    "location = geolocator.geocode(address)\n",
    "latitude = location.latitude\n",
    "longitude = location.longitude"
   ]
  },
  {
   "cell_type": "code",
   "execution_count": 3,
   "metadata": {},
   "outputs": [
    {
     "data": {
      "text/html": [
       "<div style=\"width:100%;\"><div style=\"position:relative;width:100%;height:0;padding-bottom:60%;\"><iframe src=\"about:blank\" style=\"position:absolute;width:100%;height:100%;left:0;top:0;border:none !important;\" data-html=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 onload=\"this.contentDocument.open();this.contentDocument.write(atob(this.getAttribute('data-html')));this.contentDocument.close();\" allowfullscreen webkitallowfullscreen mozallowfullscreen></iframe></div></div>"
      ],
      "text/plain": [
       "<folium.folium.Map at 0x255425cac48>"
      ]
     },
     "execution_count": 3,
     "metadata": {},
     "output_type": "execute_result"
    }
   ],
   "source": [
    "address_map = folium.Map(location = [latitude,longitude],zoom_start =11)\n",
    "address_map"
   ]
  },
  {
   "cell_type": "code",
   "execution_count": 4,
   "metadata": {},
   "outputs": [],
   "source": [
    "# The following function retrieves the venues given the names and coordinates and stores it into dataframe.\n",
    "def getNearbyVenues(names, latitudes, longitudes, radius=500,categoryIds = ''):\n",
    "    try: \n",
    "        venues_list=[]\n",
    "        #for name, lat, long in zip(names, latitudes, longitudes):\n",
    "            #print(name)\n",
    "            # create the API request URL\n",
    "        url = 'https://api.foursquare.com/v2/venues/search?&client_id={}&client_secret={}&v={}&ll={},{}&radius={}&limit={}'.format(CLIENT_ID, CLIENT_SECRET, VERSION, latitude, longitude, radius, LIMIT)\n",
    "        if (categoryIds != ''):\n",
    "                url = url + '&categoryId={}'\n",
    "                url = url.format(categoryIds)\n",
    "\n",
    "        # make the GET request\n",
    "        response = requests.get(url).json()\n",
    "        results = response[\"response\"]['venues']\n",
    "\n",
    "          # return only relevant information for each nearby venue\n",
    "        for v in results:\n",
    "            success = False\n",
    "            try:\n",
    "                category = v['categories'][0]['name']\n",
    "                success = True\n",
    "            except:\n",
    "                pass\n",
    "\n",
    "            if success:\n",
    "                venues_list.append([(\n",
    "                    v['name'], \n",
    "                    v['location']['lat'], \n",
    "                    v['location']['lng'],\n",
    "                    v['categories'][0]['name']\n",
    "                 )])\n",
    "\n",
    "        nearby_venues = pd.DataFrame([item for venue_list in venues_list for item in venue_list])\n",
    "        nearby_venues.columns = ['Venue', \n",
    "                  'Venue Latitude', \n",
    "                  'Venue Longitude',  \n",
    "                  'Venue Category']\n",
    "\n",
    "    except:\n",
    "        print(url)\n",
    "        print(response)\n",
    "        print(results)\n",
    "        print(nearby_venues)\n",
    "\n",
    "    return(nearby_venues)"
   ]
  },
  {
   "cell_type": "code",
   "execution_count": 5,
   "metadata": {},
   "outputs": [],
   "source": [
    "# As we will be planning to visit the famous landmaks we will use monuments/landmark categoryID"
   ]
  },
  {
   "cell_type": "code",
   "execution_count": 6,
   "metadata": {},
   "outputs": [
    {
     "name": "stdout",
     "output_type": "stream",
     "text": [
      "Your credentails:\n",
      "CLIENT_ID: GIW5UMML5MUTOZI20KD45YDCPG0QRYXMWVTEXGUL2UZNBSES\n",
      "CLIENT_SECRET:2M4VMXELZZBZDPFCX2CP2EZH2GNEOPQHMX2BKRWLT5LY3RRE\n",
      "LIMIT:30\n",
      "Radius:500\n"
     ]
    }
   ],
   "source": [
    "CLIENT_ID = 'GIW5UMML5MUTOZI20KD45YDCPG0QRYXMWVTEXGUL2UZNBSES' # your Foursquare ID\n",
    "CLIENT_SECRET = '2M4VMXELZZBZDPFCX2CP2EZH2GNEOPQHMX2BKRWLT5LY3RRE' # your Foursquare Secret\n",
    "VERSION = '20200406' # Foursquare API version\n",
    "LIMIT = 30\n",
    "radius = 500\n",
    "\n",
    "print('Your credentails:')\n",
    "print('CLIENT_ID: ' + CLIENT_ID)\n",
    "print('CLIENT_SECRET:' + CLIENT_SECRET)\n",
    "print('LIMIT:' + str(LIMIT))\n",
    "print('Radius:' + str(radius))"
   ]
  },
  {
   "cell_type": "code",
   "execution_count": 7,
   "metadata": {},
   "outputs": [
    {
     "data": {
      "text/html": [
       "<div>\n",
       "<style scoped>\n",
       "    .dataframe tbody tr th:only-of-type {\n",
       "        vertical-align: middle;\n",
       "    }\n",
       "\n",
       "    .dataframe tbody tr th {\n",
       "        vertical-align: top;\n",
       "    }\n",
       "\n",
       "    .dataframe thead th {\n",
       "        text-align: right;\n",
       "    }\n",
       "</style>\n",
       "<table border=\"1\" class=\"dataframe\">\n",
       "  <thead>\n",
       "    <tr style=\"text-align: right;\">\n",
       "      <th></th>\n",
       "      <th>Venue</th>\n",
       "      <th>Venue Latitude</th>\n",
       "      <th>Venue Longitude</th>\n",
       "      <th>Venue Category</th>\n",
       "    </tr>\n",
       "  </thead>\n",
       "  <tbody>\n",
       "    <tr>\n",
       "      <th>0</th>\n",
       "      <td>Rashtrapati Bhavan | राष्ट्रपति भवन (Rashtrapa...</td>\n",
       "      <td>28.614133</td>\n",
       "      <td>77.209193</td>\n",
       "      <td>Monument / Landmark</td>\n",
       "    </tr>\n",
       "    <tr>\n",
       "      <th>1</th>\n",
       "      <td>Lok Sabha</td>\n",
       "      <td>28.613957</td>\n",
       "      <td>77.208862</td>\n",
       "      <td>Monument / Landmark</td>\n",
       "    </tr>\n",
       "    <tr>\n",
       "      <th>2</th>\n",
       "      <td>Humayun’s Tomb | हुमायूँ का मकबरा (Humayun’s T...</td>\n",
       "      <td>28.593197</td>\n",
       "      <td>77.246047</td>\n",
       "      <td>Monument / Landmark</td>\n",
       "    </tr>\n",
       "    <tr>\n",
       "      <th>3</th>\n",
       "      <td>Lotus Temple (Bahá'í House of Worship)</td>\n",
       "      <td>28.553349</td>\n",
       "      <td>77.259696</td>\n",
       "      <td>Spiritual Center</td>\n",
       "    </tr>\n",
       "    <tr>\n",
       "      <th>4</th>\n",
       "      <td>Qutub Minar | क़ुतुब मीनार (Qutub Minar)</td>\n",
       "      <td>28.525265</td>\n",
       "      <td>77.186593</td>\n",
       "      <td>Monument / Landmark</td>\n",
       "    </tr>\n",
       "    <tr>\n",
       "      <th>5</th>\n",
       "      <td>Chandni Chowk | चाँदनी चौक (Chandni Chowk)</td>\n",
       "      <td>28.656076</td>\n",
       "      <td>77.230740</td>\n",
       "      <td>Market</td>\n",
       "    </tr>\n",
       "    <tr>\n",
       "      <th>6</th>\n",
       "      <td>Jantar Mantar</td>\n",
       "      <td>28.627731</td>\n",
       "      <td>77.216436</td>\n",
       "      <td>Historic Site</td>\n",
       "    </tr>\n",
       "    <tr>\n",
       "      <th>7</th>\n",
       "      <td>India Gate | इंडिया गेट (India Gate)</td>\n",
       "      <td>28.612796</td>\n",
       "      <td>77.229207</td>\n",
       "      <td>Monument / Landmark</td>\n",
       "    </tr>\n",
       "    <tr>\n",
       "      <th>8</th>\n",
       "      <td>Red Fort | Lal Qila | लाल क़िला | لال قلعہ (Re...</td>\n",
       "      <td>28.655759</td>\n",
       "      <td>77.241955</td>\n",
       "      <td>Monument / Landmark</td>\n",
       "    </tr>\n",
       "    <tr>\n",
       "      <th>9</th>\n",
       "      <td>Pari Chowk</td>\n",
       "      <td>28.465239</td>\n",
       "      <td>77.511292</td>\n",
       "      <td>Monument / Landmark</td>\n",
       "    </tr>\n",
       "    <tr>\n",
       "      <th>10</th>\n",
       "      <td>Gandhi Smriti</td>\n",
       "      <td>28.602278</td>\n",
       "      <td>77.214161</td>\n",
       "      <td>Monument / Landmark</td>\n",
       "    </tr>\n",
       "    <tr>\n",
       "      <th>11</th>\n",
       "      <td>Bureau Of Civil And Aviation Security</td>\n",
       "      <td>28.550616</td>\n",
       "      <td>77.116783</td>\n",
       "      <td>Monument / Landmark</td>\n",
       "    </tr>\n",
       "    <tr>\n",
       "      <th>12</th>\n",
       "      <td>Khatri Marg</td>\n",
       "      <td>28.520252</td>\n",
       "      <td>77.165084</td>\n",
       "      <td>Monument / Landmark</td>\n",
       "    </tr>\n",
       "    <tr>\n",
       "      <th>13</th>\n",
       "      <td>31, Aurungzeb Road</td>\n",
       "      <td>28.596577</td>\n",
       "      <td>77.210316</td>\n",
       "      <td>Monument / Landmark</td>\n",
       "    </tr>\n",
       "    <tr>\n",
       "      <th>14</th>\n",
       "      <td>Parliament Secretariat</td>\n",
       "      <td>28.618382</td>\n",
       "      <td>77.209951</td>\n",
       "      <td>City Hall</td>\n",
       "    </tr>\n",
       "    <tr>\n",
       "      <th>15</th>\n",
       "      <td>Purana Quila</td>\n",
       "      <td>28.612742</td>\n",
       "      <td>77.240327</td>\n",
       "      <td>History Museum</td>\n",
       "    </tr>\n",
       "    <tr>\n",
       "      <th>16</th>\n",
       "      <td>Lado Sarai Tomb</td>\n",
       "      <td>28.524854</td>\n",
       "      <td>77.190013</td>\n",
       "      <td>Monument / Landmark</td>\n",
       "    </tr>\n",
       "    <tr>\n",
       "      <th>17</th>\n",
       "      <td>Kota House Naval Officers Mess</td>\n",
       "      <td>28.606054</td>\n",
       "      <td>77.225404</td>\n",
       "      <td>Monument / Landmark</td>\n",
       "    </tr>\n",
       "    <tr>\n",
       "      <th>18</th>\n",
       "      <td>Quli Khan</td>\n",
       "      <td>28.502644</td>\n",
       "      <td>77.185807</td>\n",
       "      <td>Monument / Landmark</td>\n",
       "    </tr>\n",
       "    <tr>\n",
       "      <th>19</th>\n",
       "      <td>Bada Gumbad</td>\n",
       "      <td>28.594913</td>\n",
       "      <td>77.220248</td>\n",
       "      <td>Monument / Landmark</td>\n",
       "    </tr>\n",
       "    <tr>\n",
       "      <th>20</th>\n",
       "      <td>Qutab Minar</td>\n",
       "      <td>28.524433</td>\n",
       "      <td>77.185455</td>\n",
       "      <td>Monument / Landmark</td>\n",
       "    </tr>\n",
       "    <tr>\n",
       "      <th>21</th>\n",
       "      <td>Lenin Statue</td>\n",
       "      <td>28.589768</td>\n",
       "      <td>77.191353</td>\n",
       "      <td>Monument / Landmark</td>\n",
       "    </tr>\n",
       "    <tr>\n",
       "      <th>22</th>\n",
       "      <td>The City Palace, Jaipur</td>\n",
       "      <td>28.536499</td>\n",
       "      <td>77.198458</td>\n",
       "      <td>Monument / Landmark</td>\n",
       "    </tr>\n",
       "    <tr>\n",
       "      <th>23</th>\n",
       "      <td>Election Commission of India</td>\n",
       "      <td>28.623989</td>\n",
       "      <td>77.211600</td>\n",
       "      <td>Historic Site</td>\n",
       "    </tr>\n",
       "    <tr>\n",
       "      <th>24</th>\n",
       "      <td>Ajmeri Gate</td>\n",
       "      <td>28.646099</td>\n",
       "      <td>77.223941</td>\n",
       "      <td>Monument / Landmark</td>\n",
       "    </tr>\n",
       "    <tr>\n",
       "      <th>25</th>\n",
       "      <td>Bata Chowk Metro Station</td>\n",
       "      <td>28.385728</td>\n",
       "      <td>77.313078</td>\n",
       "      <td>Monument / Landmark</td>\n",
       "    </tr>\n",
       "    <tr>\n",
       "      <th>26</th>\n",
       "      <td>gudang pelor</td>\n",
       "      <td>28.524784</td>\n",
       "      <td>77.185290</td>\n",
       "      <td>Monument / Landmark</td>\n",
       "    </tr>\n",
       "    <tr>\n",
       "      <th>27</th>\n",
       "      <td>Prasar Bharati</td>\n",
       "      <td>28.622321</td>\n",
       "      <td>77.209613</td>\n",
       "      <td>Concert Hall</td>\n",
       "    </tr>\n",
       "    <tr>\n",
       "      <th>28</th>\n",
       "      <td>Mori gate</td>\n",
       "      <td>28.661504</td>\n",
       "      <td>77.218508</td>\n",
       "      <td>Monument / Landmark</td>\n",
       "    </tr>\n",
       "  </tbody>\n",
       "</table>\n",
       "</div>"
      ],
      "text/plain": [
       "                                                Venue  Venue Latitude  \\\n",
       "0   Rashtrapati Bhavan | राष्ट्रपति भवन (Rashtrapa...       28.614133   \n",
       "1                                           Lok Sabha       28.613957   \n",
       "2   Humayun’s Tomb | हुमायूँ का मकबरा (Humayun’s T...       28.593197   \n",
       "3              Lotus Temple (Bahá'í House of Worship)       28.553349   \n",
       "4            Qutub Minar | क़ुतुब मीनार (Qutub Minar)       28.525265   \n",
       "5          Chandni Chowk | चाँदनी चौक (Chandni Chowk)       28.656076   \n",
       "6                                       Jantar Mantar       28.627731   \n",
       "7                India Gate | इंडिया गेट (India Gate)       28.612796   \n",
       "8   Red Fort | Lal Qila | लाल क़िला | لال قلعہ (Re...       28.655759   \n",
       "9                                          Pari Chowk       28.465239   \n",
       "10                                      Gandhi Smriti       28.602278   \n",
       "11              Bureau Of Civil And Aviation Security       28.550616   \n",
       "12                                        Khatri Marg       28.520252   \n",
       "13                                 31, Aurungzeb Road       28.596577   \n",
       "14                             Parliament Secretariat       28.618382   \n",
       "15                                       Purana Quila       28.612742   \n",
       "16                                    Lado Sarai Tomb       28.524854   \n",
       "17                     Kota House Naval Officers Mess       28.606054   \n",
       "18                                          Quli Khan       28.502644   \n",
       "19                                        Bada Gumbad       28.594913   \n",
       "20                                        Qutab Minar       28.524433   \n",
       "21                                       Lenin Statue       28.589768   \n",
       "22                            The City Palace, Jaipur       28.536499   \n",
       "23                       Election Commission of India       28.623989   \n",
       "24                                        Ajmeri Gate       28.646099   \n",
       "25                           Bata Chowk Metro Station       28.385728   \n",
       "26                                       gudang pelor       28.524784   \n",
       "27                                     Prasar Bharati       28.622321   \n",
       "28                                          Mori gate       28.661504   \n",
       "\n",
       "    Venue Longitude       Venue Category  \n",
       "0         77.209193  Monument / Landmark  \n",
       "1         77.208862  Monument / Landmark  \n",
       "2         77.246047  Monument / Landmark  \n",
       "3         77.259696     Spiritual Center  \n",
       "4         77.186593  Monument / Landmark  \n",
       "5         77.230740               Market  \n",
       "6         77.216436        Historic Site  \n",
       "7         77.229207  Monument / Landmark  \n",
       "8         77.241955  Monument / Landmark  \n",
       "9         77.511292  Monument / Landmark  \n",
       "10        77.214161  Monument / Landmark  \n",
       "11        77.116783  Monument / Landmark  \n",
       "12        77.165084  Monument / Landmark  \n",
       "13        77.210316  Monument / Landmark  \n",
       "14        77.209951            City Hall  \n",
       "15        77.240327       History Museum  \n",
       "16        77.190013  Monument / Landmark  \n",
       "17        77.225404  Monument / Landmark  \n",
       "18        77.185807  Monument / Landmark  \n",
       "19        77.220248  Monument / Landmark  \n",
       "20        77.185455  Monument / Landmark  \n",
       "21        77.191353  Monument / Landmark  \n",
       "22        77.198458  Monument / Landmark  \n",
       "23        77.211600        Historic Site  \n",
       "24        77.223941  Monument / Landmark  \n",
       "25        77.313078  Monument / Landmark  \n",
       "26        77.185290  Monument / Landmark  \n",
       "27        77.209613         Concert Hall  \n",
       "28        77.218508  Monument / Landmark  "
      ]
     },
     "execution_count": 7,
     "metadata": {},
     "output_type": "execute_result"
    }
   ],
   "source": [
    "address_venues = getNearbyVenues(names = address,latitudes=latitude,longitudes=longitude,radius=50000, categoryIds='4bf58dd8d48988d12d941735')\n",
    "address_venues"
   ]
  },
  {
   "cell_type": "code",
   "execution_count": 8,
   "metadata": {},
   "outputs": [
    {
     "data": {
      "text/plain": [
       "(29, 4)"
      ]
     },
     "execution_count": 8,
     "metadata": {},
     "output_type": "execute_result"
    }
   ],
   "source": [
    "address_venues.shape"
   ]
  },
  {
   "cell_type": "code",
   "execution_count": 9,
   "metadata": {},
   "outputs": [],
   "source": [
    "def addToMap(df, color, existingMap):\n",
    "    for lat, lng, venue, venueCat in zip(df['Venue Latitude'], df['Venue Longitude'], df['Venue'], df['Venue Category']):\n",
    "        label = '{} ({})'.format(venue, venueCat)\n",
    "        label = folium.Popup(label, parse_html=True)\n",
    "        folium.CircleMarker(\n",
    "            [lat, lng],\n",
    "            radius=5,\n",
    "            popup=label,\n",
    "            color=color,\n",
    "            fill=True,\n",
    "            fill_color=color,\n",
    "            fill_opacity=0.7).add_to(existingMap)"
   ]
  },
  {
   "cell_type": "code",
   "execution_count": 10,
   "metadata": {
    "scrolled": true
   },
   "outputs": [
    {
     "data": {
      "text/html": [
       "<div style=\"width:100%;\"><div style=\"position:relative;width:100%;height:0;padding-bottom:60%;\"><iframe src=\"about:blank\" style=\"position:absolute;width:100%;height:100%;left:0;top:0;border:none !important;\" data-html=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 onload=\"this.contentDocument.open();this.contentDocument.write(atob(this.getAttribute('data-html')));this.contentDocument.close();\" allowfullscreen webkitallowfullscreen mozallowfullscreen></iframe></div></div>"
      ],
      "text/plain": [
       "<folium.folium.Map at 0x255425cac48>"
      ]
     },
     "execution_count": 10,
     "metadata": {},
     "output_type": "execute_result"
    }
   ],
   "source": [
    "addToMap(address_venues,'red',address_map)\n",
    "address_map"
   ]
  },
  {
   "cell_type": "code",
   "execution_count": 11,
   "metadata": {},
   "outputs": [
    {
     "data": {
      "text/html": [
       "<div>\n",
       "<style scoped>\n",
       "    .dataframe tbody tr th:only-of-type {\n",
       "        vertical-align: middle;\n",
       "    }\n",
       "\n",
       "    .dataframe tbody tr th {\n",
       "        vertical-align: top;\n",
       "    }\n",
       "\n",
       "    .dataframe thead th {\n",
       "        text-align: right;\n",
       "    }\n",
       "</style>\n",
       "<table border=\"1\" class=\"dataframe\">\n",
       "  <thead>\n",
       "    <tr style=\"text-align: right;\">\n",
       "      <th></th>\n",
       "      <th>Venue Latitude</th>\n",
       "      <th>Venue Longitude</th>\n",
       "    </tr>\n",
       "  </thead>\n",
       "  <tbody>\n",
       "    <tr>\n",
       "      <th>0</th>\n",
       "      <td>28.614133</td>\n",
       "      <td>77.209193</td>\n",
       "    </tr>\n",
       "    <tr>\n",
       "      <th>1</th>\n",
       "      <td>28.613957</td>\n",
       "      <td>77.208862</td>\n",
       "    </tr>\n",
       "    <tr>\n",
       "      <th>2</th>\n",
       "      <td>28.593197</td>\n",
       "      <td>77.246047</td>\n",
       "    </tr>\n",
       "    <tr>\n",
       "      <th>3</th>\n",
       "      <td>28.553349</td>\n",
       "      <td>77.259696</td>\n",
       "    </tr>\n",
       "    <tr>\n",
       "      <th>4</th>\n",
       "      <td>28.525265</td>\n",
       "      <td>77.186593</td>\n",
       "    </tr>\n",
       "  </tbody>\n",
       "</table>\n",
       "</div>"
      ],
      "text/plain": [
       "   Venue Latitude  Venue Longitude\n",
       "0       28.614133        77.209193\n",
       "1       28.613957        77.208862\n",
       "2       28.593197        77.246047\n",
       "3       28.553349        77.259696\n",
       "4       28.525265        77.186593"
      ]
     },
     "execution_count": 11,
     "metadata": {},
     "output_type": "execute_result"
    }
   ],
   "source": [
    "X = address_venues[['Venue Latitude','Venue Longitude']]\n",
    "X.head()"
   ]
  },
  {
   "cell_type": "code",
   "execution_count": 12,
   "metadata": {},
   "outputs": [],
   "source": [
    "cluster = KMeans(n_clusters=k,\n",
    "    init='k-means++',)"
   ]
  },
  {
   "cell_type": "code",
   "execution_count": 13,
   "metadata": {},
   "outputs": [
    {
     "data": {
      "text/plain": [
       "KMeans(algorithm='auto', copy_x=True, init='k-means++', max_iter=300,\n",
       "       n_clusters=5, n_init=10, n_jobs=None, precompute_distances='auto',\n",
       "       random_state=None, tol=0.0001, verbose=0)"
      ]
     },
     "execution_count": 13,
     "metadata": {},
     "output_type": "execute_result"
    }
   ],
   "source": [
    "cluster.fit(X)"
   ]
  },
  {
   "cell_type": "code",
   "execution_count": 14,
   "metadata": {},
   "outputs": [
    {
     "data": {
      "text/html": [
       "<div>\n",
       "<style scoped>\n",
       "    .dataframe tbody tr th:only-of-type {\n",
       "        vertical-align: middle;\n",
       "    }\n",
       "\n",
       "    .dataframe tbody tr th {\n",
       "        vertical-align: top;\n",
       "    }\n",
       "\n",
       "    .dataframe thead th {\n",
       "        text-align: right;\n",
       "    }\n",
       "</style>\n",
       "<table border=\"1\" class=\"dataframe\">\n",
       "  <thead>\n",
       "    <tr style=\"text-align: right;\">\n",
       "      <th></th>\n",
       "      <th>Cluster Labels</th>\n",
       "      <th>Venue</th>\n",
       "      <th>Venue Latitude</th>\n",
       "      <th>Venue Longitude</th>\n",
       "      <th>Venue Category</th>\n",
       "    </tr>\n",
       "  </thead>\n",
       "  <tbody>\n",
       "    <tr>\n",
       "      <th>0</th>\n",
       "      <td>4</td>\n",
       "      <td>Rashtrapati Bhavan | राष्ट्रपति भवन (Rashtrapa...</td>\n",
       "      <td>28.614133</td>\n",
       "      <td>77.209193</td>\n",
       "      <td>Monument / Landmark</td>\n",
       "    </tr>\n",
       "    <tr>\n",
       "      <th>1</th>\n",
       "      <td>4</td>\n",
       "      <td>Lok Sabha</td>\n",
       "      <td>28.613957</td>\n",
       "      <td>77.208862</td>\n",
       "      <td>Monument / Landmark</td>\n",
       "    </tr>\n",
       "    <tr>\n",
       "      <th>2</th>\n",
       "      <td>4</td>\n",
       "      <td>Humayun’s Tomb | हुमायूँ का मकबरा (Humayun’s T...</td>\n",
       "      <td>28.593197</td>\n",
       "      <td>77.246047</td>\n",
       "      <td>Monument / Landmark</td>\n",
       "    </tr>\n",
       "    <tr>\n",
       "      <th>3</th>\n",
       "      <td>4</td>\n",
       "      <td>Lotus Temple (Bahá'í House of Worship)</td>\n",
       "      <td>28.553349</td>\n",
       "      <td>77.259696</td>\n",
       "      <td>Spiritual Center</td>\n",
       "    </tr>\n",
       "    <tr>\n",
       "      <th>4</th>\n",
       "      <td>1</td>\n",
       "      <td>Qutub Minar | क़ुतुब मीनार (Qutub Minar)</td>\n",
       "      <td>28.525265</td>\n",
       "      <td>77.186593</td>\n",
       "      <td>Monument / Landmark</td>\n",
       "    </tr>\n",
       "  </tbody>\n",
       "</table>\n",
       "</div>"
      ],
      "text/plain": [
       "   Cluster Labels                                              Venue  \\\n",
       "0               4  Rashtrapati Bhavan | राष्ट्रपति भवन (Rashtrapa...   \n",
       "1               4                                          Lok Sabha   \n",
       "2               4  Humayun’s Tomb | हुमायूँ का मकबरा (Humayun’s T...   \n",
       "3               4             Lotus Temple (Bahá'í House of Worship)   \n",
       "4               1           Qutub Minar | क़ुतुब मीनार (Qutub Minar)   \n",
       "\n",
       "   Venue Latitude  Venue Longitude       Venue Category  \n",
       "0       28.614133        77.209193  Monument / Landmark  \n",
       "1       28.613957        77.208862  Monument / Landmark  \n",
       "2       28.593197        77.246047  Monument / Landmark  \n",
       "3       28.553349        77.259696     Spiritual Center  \n",
       "4       28.525265        77.186593  Monument / Landmark  "
      ]
     },
     "execution_count": 14,
     "metadata": {},
     "output_type": "execute_result"
    }
   ],
   "source": [
    "address_venues.insert(0, 'Cluster Labels', cluster.labels_) #adding the labels into the dataframe\n",
    "address_venues.head()"
   ]
  },
  {
   "cell_type": "code",
   "execution_count": 15,
   "metadata": {},
   "outputs": [
    {
     "data": {
      "text/html": [
       "<div style=\"width:100%;\"><div style=\"position:relative;width:100%;height:0;padding-bottom:60%;\"><iframe src=\"about:blank\" style=\"position:absolute;width:100%;height:100%;left:0;top:0;border:none !important;\" data-html=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 onload=\"this.contentDocument.open();this.contentDocument.write(atob(this.getAttribute('data-html')));this.contentDocument.close();\" allowfullscreen webkitallowfullscreen mozallowfullscreen></iframe></div></div>"
      ],
      "text/plain": [
       "<folium.folium.Map at 0x255426fa8c8>"
      ]
     },
     "execution_count": 15,
     "metadata": {},
     "output_type": "execute_result"
    }
   ],
   "source": [
    "# create map\n",
    "map_clusters = folium.Map(location=[latitude,longitude],zoom_start=10)\n",
    "\n",
    "# set color scheme for the clusters\n",
    "x = np.arange(k)\n",
    "ys = [i + x + (i*x)**2 for i in range(k)]\n",
    "colors_array = cm.rainbow(np.linspace(0, 1, len(ys)))\n",
    "rainbow = [colors.rgb2hex(i) for i in colors_array]\n",
    "\n",
    "# add markers to the map\n",
    "markers_colors = []\n",
    "for lat, lon, neighbourhood, cluster in zip(address_venues['Venue Latitude'], address_venues['Venue Longitude'], address_venues['Venue'], address_venues['Cluster Labels']):\n",
    "    label = folium.Popup(' Cluster ' + str(cluster), parse_html=True)\n",
    "    folium.CircleMarker(\n",
    "        [lat, lon],\n",
    "        radius=5,\n",
    "        popup=label,\n",
    "        color=rainbow[cluster-1],\n",
    "        fill=True,\n",
    "        fill_color=rainbow[cluster-1],\n",
    "        fill_opacity=0.7).add_to(map_clusters)\n",
    "       \n",
    "map_clusters"
   ]
  },
  {
   "cell_type": "code",
   "execution_count": 21,
   "metadata": {},
   "outputs": [
    {
     "name": "stderr",
     "output_type": "stream",
     "text": [
      "C:\\Users\\ysanj\\Anaconda3\\lib\\site-packages\\statsmodels\\tools\\_testing.py:19: FutureWarning: pandas.util.testing is deprecated. Use the functions in the public API at pandas.testing instead.\n",
      "  import pandas.util.testing as tm\n"
     ]
    },
    {
     "ename": "AttributeError",
     "evalue": "'int' object has no attribute 'cluster_centers_'",
     "output_type": "error",
     "traceback": [
      "\u001b[1;31m---------------------------------------------------------------------------\u001b[0m",
      "\u001b[1;31mAttributeError\u001b[0m                            Traceback (most recent call last)",
      "\u001b[1;32m<ipython-input-21-694090094e88>\u001b[0m in \u001b[0;36m<module>\u001b[1;34m\u001b[0m\n\u001b[0;32m      8\u001b[0m             cmap=cmap, norm=norm, s=150, edgecolor='none')\n\u001b[0;32m      9\u001b[0m \u001b[0mplt\u001b[0m\u001b[1;33m.\u001b[0m\u001b[0mcolorbar\u001b[0m\u001b[1;33m(\u001b[0m\u001b[0mticks\u001b[0m\u001b[1;33m=\u001b[0m\u001b[0mnp\u001b[0m\u001b[1;33m.\u001b[0m\u001b[0mlinspace\u001b[0m\u001b[1;33m(\u001b[0m\u001b[1;36m0\u001b[0m\u001b[1;33m,\u001b[0m\u001b[1;36m9\u001b[0m\u001b[1;33m,\u001b[0m\u001b[1;36m10\u001b[0m\u001b[1;33m)\u001b[0m\u001b[1;33m)\u001b[0m\u001b[1;33m\u001b[0m\u001b[1;33m\u001b[0m\u001b[0m\n\u001b[1;32m---> 10\u001b[1;33m \u001b[0mcenters\u001b[0m \u001b[1;33m=\u001b[0m \u001b[0mcluster\u001b[0m\u001b[1;33m.\u001b[0m\u001b[0mcluster_centers_\u001b[0m\u001b[1;33m\u001b[0m\u001b[1;33m\u001b[0m\u001b[0m\n\u001b[0m\u001b[0;32m     11\u001b[0m \u001b[0mplt\u001b[0m\u001b[1;33m.\u001b[0m\u001b[0mscatter\u001b[0m\u001b[1;33m(\u001b[0m\u001b[0mcenters\u001b[0m\u001b[1;33m[\u001b[0m\u001b[1;33m:\u001b[0m\u001b[1;33m,\u001b[0m \u001b[1;36m0\u001b[0m\u001b[1;33m]\u001b[0m\u001b[1;33m,\u001b[0m \u001b[0mcenters\u001b[0m\u001b[1;33m[\u001b[0m\u001b[1;33m:\u001b[0m\u001b[1;33m,\u001b[0m \u001b[1;36m1\u001b[0m\u001b[1;33m]\u001b[0m\u001b[1;33m,\u001b[0m \u001b[0mc\u001b[0m\u001b[1;33m=\u001b[0m\u001b[1;34m'black'\u001b[0m\u001b[1;33m,\u001b[0m \u001b[0ms\u001b[0m\u001b[1;33m=\u001b[0m\u001b[1;36m100\u001b[0m\u001b[1;33m,\u001b[0m \u001b[0malpha\u001b[0m\u001b[1;33m=\u001b[0m\u001b[1;36m0.3\u001b[0m\u001b[1;33m)\u001b[0m\u001b[1;33m;\u001b[0m\u001b[1;33m\u001b[0m\u001b[1;33m\u001b[0m\u001b[0m\n\u001b[0;32m     12\u001b[0m \u001b[1;31m#plt.xlim(2.28, 2.375)\u001b[0m\u001b[1;33m\u001b[0m\u001b[1;33m\u001b[0m\u001b[1;33m\u001b[0m\u001b[0m\n",
      "\u001b[1;31mAttributeError\u001b[0m: 'int' object has no attribute 'cluster_centers_'"
     ]
    },
    {
     "data": {
      "image/png": "[encoded data removed]",
      "text/plain": [
       "<Figure size 1152x576 with 2 Axes>"
      ]
     },
     "metadata": {},
     "output_type": "display_data"
    }
   ],
   "source": [
    "from jupyterthemes import jtplot\n",
    "jtplot.style(theme='monokai', context='notebook', ticks=True, grid=False)\n",
    "\n",
    "fig = plt.figure(figsize=(16,8))\n",
    "cmap=plt.cm.rainbow\n",
    "norm = colors.BoundaryNorm(np.arange(0,10,1), cmap.N)\n",
    "plt.scatter(address_venues['Venue Longitude'], address_venues['Venue Latitude'], c=address_venues['Cluster Labels'],\n",
    "            cmap=cmap, norm=norm, s=150, edgecolor='none')\n",
    "plt.colorbar(ticks=np.linspace(0,9,10))\n",
    "centers = cluster.cluster_centers_\n",
    "plt.scatter(centers[:, 0], centers[:, 1], c='black', s=100, alpha=0.3);\n",
    "#plt.xlim(2.28, 2.375)\n",
    "#plt.ylim(48.84, 48.89)\n",
    "plt.xlabel('Latitude', fontsize=14)\n",
    "plt.ylabel('Longitude', fontsize=14)\n",
    "plt.title('k-means clustering results (n_clusters=10)', fontsize=14)\n",
    "plt.grid()\n",
    "plt.show()"
   ]
  },
  {
   "cell_type": "code",
   "execution_count": 20,
   "metadata": {},
   "outputs": [
    {
     "ename": "AttributeError",
     "evalue": "'int' object has no attribute 'centre_'",
     "output_type": "error",
     "traceback": [
      "\u001b[1;31m---------------------------------------------------------------------------\u001b[0m",
      "\u001b[1;31mAttributeError\u001b[0m                            Traceback (most recent call last)",
      "\u001b[1;32m<ipython-input-20-4376723a1fb0>\u001b[0m in \u001b[0;36m<module>\u001b[1;34m\u001b[0m\n\u001b[1;32m----> 1\u001b[1;33m \u001b[0mcluster\u001b[0m\u001b[1;33m.\u001b[0m\u001b[0mcentre_\u001b[0m\u001b[1;33m\u001b[0m\u001b[1;33m\u001b[0m\u001b[0m\n\u001b[0m",
      "\u001b[1;31mAttributeError\u001b[0m: 'int' object has no attribute 'centre_'"
     ]
    }
   ],
   "source": [
    "cluster.centre_"
   ]
  },
  {
   "cell_type": "code",
   "execution_count": null,
   "metadata": {},
   "outputs": [],
   "source": []
  }
 ],
 "metadata": {
  "kernelspec": {
   "display_name": "Python 3",
   "language": "python",
   "name": "python3"
  },
  "language_info": {
   "codemirror_mode": {
    "name": "ipython",
    "version": 3
   },
   "file_extension": ".py",
   "mimetype": "text/x-python",
   "name": "python",
   "nbconvert_exporter": "python",
   "pygments_lexer": "ipython3",
   "version": "3.7.4"
  }
 },
 "nbformat": 4,
 "nbformat_minor": 2
}
