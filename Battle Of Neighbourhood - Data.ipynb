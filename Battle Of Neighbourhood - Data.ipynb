{
 "cells": [
  {
   "cell_type": "markdown",
   "metadata": {},
   "source": [
    "# Data\n",
    "\n",
    "To find the type of restaurant that can be open in South Delhi to make it unique and different in that area, we will use the following sources of information:\n",
    "\n",
    "New Delhi has total of 9 boroughs and 175 neighbourhoods. In order to segment the neighbourhoods and explore them, we have the dataset for 9 boroughs along with the latitude and longitude coordinates of each neighbourhood.\n",
    "\n",
    "This data can be extracted for free on Kaggle, here is the link: https://www.kaggle.com/shaswatd673/delhi-neighborhood-data#restaurant_dataSet.csv\n",
    "\n",
    "\n",
    "Let's explore the data"
   ]
  },
  {
   "cell_type": "code",
   "execution_count": 1,
   "metadata": {},
   "outputs": [],
   "source": [
    "#importing pandas to read the dataset\n",
    "import pandas as pd"
   ]
  },
  {
   "cell_type": "code",
   "execution_count": 2,
   "metadata": {},
   "outputs": [],
   "source": [
    "data_loc = \"delhi_dataSet.csv\""
   ]
  },
  {
   "cell_type": "code",
   "execution_count": 3,
   "metadata": {},
   "outputs": [],
   "source": [
    "df = pd.read_csv(data_loc)   "
   ]
  },
  {
   "cell_type": "code",
   "execution_count": 4,
   "metadata": {},
   "outputs": [
    {
     "data": {
      "text/html": [
       "<div>\n",
       "<style scoped>\n",
       "    .dataframe tbody tr th:only-of-type {\n",
       "        vertical-align: middle;\n",
       "    }\n",
       "\n",
       "    .dataframe tbody tr th {\n",
       "        vertical-align: top;\n",
       "    }\n",
       "\n",
       "    .dataframe thead th {\n",
       "        text-align: right;\n",
       "    }\n",
       "</style>\n",
       "<table border=\"1\" class=\"dataframe\">\n",
       "  <thead>\n",
       "    <tr style=\"text-align: right;\">\n",
       "      <th></th>\n",
       "      <th>Unnamed: 0</th>\n",
       "      <th>Borough</th>\n",
       "      <th>Neighborhood</th>\n",
       "      <th>latitude</th>\n",
       "      <th>longitude</th>\n",
       "    </tr>\n",
       "  </thead>\n",
       "  <tbody>\n",
       "    <tr>\n",
       "      <th>0</th>\n",
       "      <td>0</td>\n",
       "      <td>North West Delhi</td>\n",
       "      <td>Adarsh Nagar</td>\n",
       "      <td>28.614192</td>\n",
       "      <td>77.071541</td>\n",
       "    </tr>\n",
       "    <tr>\n",
       "      <th>1</th>\n",
       "      <td>1</td>\n",
       "      <td>North West Delhi</td>\n",
       "      <td>Ashok Vihar</td>\n",
       "      <td>28.699453</td>\n",
       "      <td>77.184826</td>\n",
       "    </tr>\n",
       "    <tr>\n",
       "      <th>2</th>\n",
       "      <td>2</td>\n",
       "      <td>North West Delhi</td>\n",
       "      <td>Azadpur</td>\n",
       "      <td>28.707657</td>\n",
       "      <td>77.175547</td>\n",
       "    </tr>\n",
       "    <tr>\n",
       "      <th>3</th>\n",
       "      <td>3</td>\n",
       "      <td>North West Delhi</td>\n",
       "      <td>Bawana</td>\n",
       "      <td>28.799660</td>\n",
       "      <td>77.032885</td>\n",
       "    </tr>\n",
       "    <tr>\n",
       "      <th>4</th>\n",
       "      <td>4</td>\n",
       "      <td>North West Delhi</td>\n",
       "      <td>Begum Pur</td>\n",
       "      <td>NaN</td>\n",
       "      <td>NaN</td>\n",
       "    </tr>\n",
       "  </tbody>\n",
       "</table>\n",
       "</div>"
      ],
      "text/plain": [
       "   Unnamed: 0           Borough  Neighborhood   latitude  longitude\n",
       "0           0  North West Delhi  Adarsh Nagar  28.614192  77.071541\n",
       "1           1  North West Delhi   Ashok Vihar  28.699453  77.184826\n",
       "2           2  North West Delhi       Azadpur  28.707657  77.175547\n",
       "3           3  North West Delhi        Bawana  28.799660  77.032885\n",
       "4           4  North West Delhi     Begum Pur        NaN        NaN"
      ]
     },
     "execution_count": 4,
     "metadata": {},
     "output_type": "execute_result"
    }
   ],
   "source": [
    "df.head()   #glance at the data"
   ]
  },
  {
   "cell_type": "code",
   "execution_count": 5,
   "metadata": {},
   "outputs": [
    {
     "data": {
      "text/plain": [
       "(185, 5)"
      ]
     },
     "execution_count": 5,
     "metadata": {},
     "output_type": "execute_result"
    }
   ],
   "source": [
    "df.shape #shape of the data"
   ]
  },
  {
   "cell_type": "code",
   "execution_count": 6,
   "metadata": {},
   "outputs": [
    {
     "data": {
      "text/plain": [
       "array(['North West Delhi', 'North Delhi', 'North East Delhi',\n",
       "       'Central Delhi', 'New Delhi', 'East Delhi', 'South Delhi',\n",
       "       'South West Delhi', 'West Delhi'], dtype=object)"
      ]
     },
     "execution_count": 6,
     "metadata": {},
     "output_type": "execute_result"
    }
   ],
   "source": [
    "df['Borough'].unique()  #Looking at the unique values"
   ]
  },
  {
   "cell_type": "code",
   "execution_count": 7,
   "metadata": {},
   "outputs": [
    {
     "data": {
      "text/plain": [
       "175"
      ]
     },
     "execution_count": 7,
     "metadata": {},
     "output_type": "execute_result"
    }
   ],
   "source": [
    "#total number unique neighbourhoods\n",
    "len(df['Neighborhood'].unique())"
   ]
  }
 ],
 "metadata": {
  "kernelspec": {
   "display_name": "Python 3",
   "language": "python",
   "name": "python3"
  },
  "language_info": {
   "codemirror_mode": {
    "name": "ipython",
    "version": 3
   },
   "file_extension": ".py",
   "mimetype": "text/x-python",
   "name": "python",
   "nbconvert_exporter": "python",
   "pygments_lexer": "ipython3",
   "version": "3.7.4"
  }
 },
 "nbformat": 4,
 "nbformat_minor": 2
}
